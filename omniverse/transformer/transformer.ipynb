{
 "cells": [
  {
   "cell_type": "code",
   "execution_count": 1,
   "metadata": {},
   "outputs": [
    {
     "data": {
      "text/plain": [
       "42"
      ]
     },
     "execution_count": 1,
     "metadata": {},
     "output_type": "execute_result"
    }
   ],
   "source": [
    "import torch\n",
    "from torch import nn\n",
    "from torchtext.data.utils import get_tokenizer\n",
    "from collections import Counter, OrderedDict\n",
    "from rich.pretty import pprint\n",
    "from torchtext.vocab import vocab\n",
    "from torch.nn.utils.rnn import pad_sequence\n",
    "from torch.utils.data import Dataset, DataLoader\n",
    "import numpy as np\n",
    "from typing import List, Dict, Tuple, Union, Optional, Any, Callable\n",
    "import functools\n",
    "from common_utils.core.common import seed_all\n",
    "import torch.nn.functional as F\n",
    "from sklearn.metrics.pairwise import cosine_similarity\n",
    "from mpl_toolkits.mplot3d import Axes3D\n",
    "import matplotlib.pyplot as plt\n",
    "import pandas as pd\n",
    "\n",
    "import math\n",
    "seed_all(42, seed_torch=True)"
   ]
  },
  {
   "cell_type": "markdown",
   "metadata": {},
   "source": [
    "- https://github.com/aladdinpersson/Machine-Learning-Collection/blob/master/ML/Pytorch/more_advanced/transformer_from_scratch/transformer_from_scratch.py\n",
    "- https://peterbloem.nl/blog/transformers\n",
    "- Show how self attention linear algebra works with simple examples"
   ]
  },
  {
   "cell_type": "code",
   "execution_count": 2,
   "metadata": {},
   "outputs": [],
   "source": [
    "# %pip install -U torch torchvision torchtext"
   ]
  },
  {
   "cell_type": "markdown",
   "metadata": {},
   "source": [
    "## Dataset"
   ]
  },
  {
   "cell_type": "markdown",
   "metadata": {},
   "source": [
    "0 knowledge in NLP..."
   ]
  },
  {
   "cell_type": "markdown",
   "metadata": {},
   "source": [
    "In this dataset, each pair of sentences represents a single turn in a conversation. The first sentence is the user's input, and the second sentence is the bot's response. \n",
    "\n",
    "We define the following variables:\n",
    "\n",
    "- $\\mathcal{V}$: the vocabulary, which contains all the words that can appear in the sentences.\n",
    "- $N$: the number of sentences in the dataset, or the size of the dataset."
   ]
  },
  {
   "cell_type": "code",
   "execution_count": 3,
   "metadata": {},
   "outputs": [],
   "source": [
    "N = 8\n",
    "VOCAB_SIZE = 16\n",
    "VOCAB_SIZE_WITH_SPECIAL_TOKENS = VOCAB_SIZE + 4"
   ]
  },
  {
   "cell_type": "code",
   "execution_count": 4,
   "metadata": {},
   "outputs": [],
   "source": [
    "training_data = [\n",
    "    (\"Hello bot\", \"Hello human\"),\n",
    "    (\"You good\", \"I bot\"),\n",
    "    (\"Tell joke\", \"Sure thing\"),\n",
    "    (\"You are funny\", \"Thanks\"),\n",
    "    (\"Bye bot\", \"Bye human\"),\n",
    "    (\"Bye human\", \"Bye bot\"),\n",
    "    (\"Am I funny.\", \"You funny\"),\n",
    "    (\"I bot\", \"You human\"),\n",
    "]\n",
    "\n"
   ]
  },
  {
   "cell_type": "code",
   "execution_count": 5,
   "metadata": {},
   "outputs": [],
   "source": [
    "# Tokenization\n",
    "en_tokenizer = get_tokenizer(\"basic_english\")"
   ]
  },
  {
   "cell_type": "code",
   "execution_count": 6,
   "metadata": {},
   "outputs": [
    {
     "data": {
      "text/html": [
       "<pre style=\"white-space:pre;overflow-x:auto;line-height:normal;font-family:Menlo,'DejaVu Sans Mono',consolas,'Courier New',monospace\"><span style=\"color: #008080; text-decoration-color: #008080; font-weight: bold\">20</span>\n",
       "</pre>\n"
      ],
      "text/plain": [
       "\u001b[1;36m20\u001b[0m\n"
      ]
     },
     "metadata": {},
     "output_type": "display_data"
    },
    {
     "name": "stdout",
     "output_type": "stream",
     "text": [
      "Vocabulary size: 20\n",
      "Token-to-index mapping:\n"
     ]
    },
    {
     "data": {
      "text/html": [
       "<pre style=\"white-space:pre;overflow-x:auto;line-height:normal;font-family:Menlo,'DejaVu Sans Mono',consolas,'Courier New',monospace\"><span style=\"font-weight: bold\">{</span>\n",
       "<span style=\"color: #7fbf7f; text-decoration-color: #7fbf7f\">│   </span><span style=\"color: #008000; text-decoration-color: #008000\">'&lt;PAD&gt;'</span><span style=\"color: #000000; text-decoration-color: #000000\">: </span><span style=\"color: #008080; text-decoration-color: #008080; font-weight: bold\">0</span><span style=\"color: #000000; text-decoration-color: #000000\">,</span>\n",
       "<span style=\"color: #7fbf7f; text-decoration-color: #7fbf7f\">│   </span><span style=\"color: #008000; text-decoration-color: #008000\">'&lt;SOS&gt;'</span><span style=\"color: #000000; text-decoration-color: #000000\">: </span><span style=\"color: #008080; text-decoration-color: #008080; font-weight: bold\">1</span><span style=\"color: #000000; text-decoration-color: #000000\">,</span>\n",
       "<span style=\"color: #7fbf7f; text-decoration-color: #7fbf7f\">│   </span><span style=\"color: #008000; text-decoration-color: #008000\">'&lt;EOS&gt;'</span><span style=\"color: #000000; text-decoration-color: #000000\">: </span><span style=\"color: #008080; text-decoration-color: #008080; font-weight: bold\">2</span><span style=\"color: #000000; text-decoration-color: #000000\">,</span>\n",
       "<span style=\"color: #7fbf7f; text-decoration-color: #7fbf7f\">│   </span><span style=\"color: #008000; text-decoration-color: #008000\">'&lt;UNK&gt;'</span>: <span style=\"color: #008080; text-decoration-color: #008080; font-weight: bold\">3</span>,\n",
       "<span style=\"color: #7fbf7f; text-decoration-color: #7fbf7f\">│   </span><span style=\"color: #008000; text-decoration-color: #008000\">'bot'</span>: <span style=\"color: #008080; text-decoration-color: #008080; font-weight: bold\">4</span>,\n",
       "<span style=\"color: #7fbf7f; text-decoration-color: #7fbf7f\">│   </span><span style=\"color: #008000; text-decoration-color: #008000\">'human'</span>: <span style=\"color: #008080; text-decoration-color: #008080; font-weight: bold\">5</span>,\n",
       "<span style=\"color: #7fbf7f; text-decoration-color: #7fbf7f\">│   </span><span style=\"color: #008000; text-decoration-color: #008000\">'you'</span>: <span style=\"color: #008080; text-decoration-color: #008080; font-weight: bold\">6</span>,\n",
       "<span style=\"color: #7fbf7f; text-decoration-color: #7fbf7f\">│   </span><span style=\"color: #008000; text-decoration-color: #008000\">'bye'</span>: <span style=\"color: #008080; text-decoration-color: #008080; font-weight: bold\">7</span>,\n",
       "<span style=\"color: #7fbf7f; text-decoration-color: #7fbf7f\">│   </span><span style=\"color: #008000; text-decoration-color: #008000\">'i'</span>: <span style=\"color: #008080; text-decoration-color: #008080; font-weight: bold\">8</span>,\n",
       "<span style=\"color: #7fbf7f; text-decoration-color: #7fbf7f\">│   </span><span style=\"color: #008000; text-decoration-color: #008000\">'funny'</span>: <span style=\"color: #008080; text-decoration-color: #008080; font-weight: bold\">9</span>,\n",
       "<span style=\"color: #7fbf7f; text-decoration-color: #7fbf7f\">│   </span><span style=\"color: #008000; text-decoration-color: #008000\">'hello'</span>: <span style=\"color: #008080; text-decoration-color: #008080; font-weight: bold\">10</span>,\n",
       "<span style=\"color: #7fbf7f; text-decoration-color: #7fbf7f\">│   </span><span style=\"color: #008000; text-decoration-color: #008000\">'good'</span>: <span style=\"color: #008080; text-decoration-color: #008080; font-weight: bold\">11</span>,\n",
       "<span style=\"color: #7fbf7f; text-decoration-color: #7fbf7f\">│   </span><span style=\"color: #008000; text-decoration-color: #008000\">'tell'</span>: <span style=\"color: #008080; text-decoration-color: #008080; font-weight: bold\">12</span>,\n",
       "<span style=\"color: #7fbf7f; text-decoration-color: #7fbf7f\">│   </span><span style=\"color: #008000; text-decoration-color: #008000\">'joke'</span>: <span style=\"color: #008080; text-decoration-color: #008080; font-weight: bold\">13</span>,\n",
       "<span style=\"color: #7fbf7f; text-decoration-color: #7fbf7f\">│   </span><span style=\"color: #008000; text-decoration-color: #008000\">'sure'</span>: <span style=\"color: #008080; text-decoration-color: #008080; font-weight: bold\">14</span>,\n",
       "<span style=\"color: #7fbf7f; text-decoration-color: #7fbf7f\">│   </span><span style=\"color: #008000; text-decoration-color: #008000\">'thing'</span>: <span style=\"color: #008080; text-decoration-color: #008080; font-weight: bold\">15</span>,\n",
       "<span style=\"color: #7fbf7f; text-decoration-color: #7fbf7f\">│   </span><span style=\"color: #008000; text-decoration-color: #008000\">'are'</span>: <span style=\"color: #008080; text-decoration-color: #008080; font-weight: bold\">16</span>,\n",
       "<span style=\"color: #7fbf7f; text-decoration-color: #7fbf7f\">│   </span><span style=\"color: #008000; text-decoration-color: #008000\">'thanks'</span>: <span style=\"color: #008080; text-decoration-color: #008080; font-weight: bold\">17</span>,\n",
       "<span style=\"color: #7fbf7f; text-decoration-color: #7fbf7f\">│   </span><span style=\"color: #008000; text-decoration-color: #008000\">'am'</span>: <span style=\"color: #008080; text-decoration-color: #008080; font-weight: bold\">18</span>,\n",
       "<span style=\"color: #7fbf7f; text-decoration-color: #7fbf7f\">│   </span><span style=\"color: #008000; text-decoration-color: #008000\">'.'</span>: <span style=\"color: #008080; text-decoration-color: #008080; font-weight: bold\">19</span>\n",
       "<span style=\"font-weight: bold\">}</span>\n",
       "</pre>\n"
      ],
      "text/plain": [
       "\u001b[1m{\u001b[0m\n",
       "\u001b[2;32m│   \u001b[0m\u001b[32m'\u001b[0m\u001b[32m<\u001b[0m\u001b[32mPAD\u001b[0m\u001b[32m>'\u001b[0m\u001b[39m: \u001b[0m\u001b[1;36m0\u001b[0m\u001b[39m,\u001b[0m\n",
       "\u001b[2;32m│   \u001b[0m\u001b[32m'<SOS>'\u001b[0m\u001b[39m: \u001b[0m\u001b[1;36m1\u001b[0m\u001b[39m,\u001b[0m\n",
       "\u001b[2;32m│   \u001b[0m\u001b[32m'<EOS>'\u001b[0m\u001b[39m: \u001b[0m\u001b[1;36m2\u001b[0m\u001b[39m,\u001b[0m\n",
       "\u001b[2;32m│   \u001b[0m\u001b[32m'<UNK\u001b[0m\u001b[32m>\u001b[0m\u001b[32m'\u001b[0m: \u001b[1;36m3\u001b[0m,\n",
       "\u001b[2;32m│   \u001b[0m\u001b[32m'bot'\u001b[0m: \u001b[1;36m4\u001b[0m,\n",
       "\u001b[2;32m│   \u001b[0m\u001b[32m'human'\u001b[0m: \u001b[1;36m5\u001b[0m,\n",
       "\u001b[2;32m│   \u001b[0m\u001b[32m'you'\u001b[0m: \u001b[1;36m6\u001b[0m,\n",
       "\u001b[2;32m│   \u001b[0m\u001b[32m'bye'\u001b[0m: \u001b[1;36m7\u001b[0m,\n",
       "\u001b[2;32m│   \u001b[0m\u001b[32m'i'\u001b[0m: \u001b[1;36m8\u001b[0m,\n",
       "\u001b[2;32m│   \u001b[0m\u001b[32m'funny'\u001b[0m: \u001b[1;36m9\u001b[0m,\n",
       "\u001b[2;32m│   \u001b[0m\u001b[32m'hello'\u001b[0m: \u001b[1;36m10\u001b[0m,\n",
       "\u001b[2;32m│   \u001b[0m\u001b[32m'good'\u001b[0m: \u001b[1;36m11\u001b[0m,\n",
       "\u001b[2;32m│   \u001b[0m\u001b[32m'tell'\u001b[0m: \u001b[1;36m12\u001b[0m,\n",
       "\u001b[2;32m│   \u001b[0m\u001b[32m'joke'\u001b[0m: \u001b[1;36m13\u001b[0m,\n",
       "\u001b[2;32m│   \u001b[0m\u001b[32m'sure'\u001b[0m: \u001b[1;36m14\u001b[0m,\n",
       "\u001b[2;32m│   \u001b[0m\u001b[32m'thing'\u001b[0m: \u001b[1;36m15\u001b[0m,\n",
       "\u001b[2;32m│   \u001b[0m\u001b[32m'are'\u001b[0m: \u001b[1;36m16\u001b[0m,\n",
       "\u001b[2;32m│   \u001b[0m\u001b[32m'thanks'\u001b[0m: \u001b[1;36m17\u001b[0m,\n",
       "\u001b[2;32m│   \u001b[0m\u001b[32m'am'\u001b[0m: \u001b[1;36m18\u001b[0m,\n",
       "\u001b[2;32m│   \u001b[0m\u001b[32m'.'\u001b[0m: \u001b[1;36m19\u001b[0m\n",
       "\u001b[1m}\u001b[0m\n"
      ]
     },
     "metadata": {},
     "output_type": "display_data"
    }
   ],
   "source": [
    "# Tokenization\n",
    "tokenizer = get_tokenizer(\"basic_english\")\n",
    "\n",
    "# Build vocabularies\n",
    "counter = Counter()\n",
    "for (user_input, bot_response) in training_data:\n",
    "    counter.update(tokenizer(user_input))\n",
    "    counter.update(tokenizer(bot_response))\n",
    "\n",
    "\n",
    "# Sort the Counter by frequency and create an OrderedDict\n",
    "sorted_by_freq_tuples = sorted(counter.items(), key=lambda x: x[1], reverse=True)\n",
    "ordered_dict = OrderedDict(sorted_by_freq_tuples)\n",
    "\n",
    "# Create a vocab object\n",
    "v = vocab(ordered_dict)\n",
    "\n",
    "# Add special tokens to the counter\n",
    "specials = [\"<PAD>\", \"<SOS>\", \"<EOS>\", \"<UNK>\"]\n",
    "\n",
    "# Add special tokens to the vocab\n",
    "for i, token in enumerate(specials):\n",
    "    v.insert_token(token, i)\n",
    "\n",
    "pprint(len(v))\n",
    "# Print the vocabulary size and the token-to-index and index-to-token mappings\n",
    "# assert len(v) == VOCAB_SIZE_WITH_SPECIAL_TOKENS\n",
    "\n",
    "itos: List[str] = v.get_itos()\n",
    "# assert len(itos) == VOCAB_SIZE_WITH_SPECIAL_TOKENS\n",
    "\n",
    "stoi: Dict[str, int] = v.get_stoi()\n",
    "\n",
    "def sort_stoi_by_index(itos: List[str]) -> Dict[str, int]:\n",
    "    return {token: index for index, token in enumerate(itos)}\n",
    "\n",
    "stoi_sorted_by_index: Dict[str, int] = sort_stoi_by_index(v.get_itos())\n",
    "\n",
    "print(f\"Vocabulary size: {len(v)}\")\n",
    "print(\"Token-to-index mapping:\")\n",
    "pprint(stoi_sorted_by_index)\n"
   ]
  },
  {
   "cell_type": "code",
   "execution_count": 7,
   "metadata": {},
   "outputs": [
    {
     "data": {
      "text/html": [
       "<pre style=\"white-space:pre;overflow-x:auto;line-height:normal;font-family:Menlo,'DejaVu Sans Mono',consolas,'Courier New',monospace\"><span style=\"font-weight: bold\">[</span>\n",
       "<span style=\"color: #7fbf7f; text-decoration-color: #7fbf7f\">│   </span><span style=\"font-weight: bold\">(</span><span style=\"color: #800080; text-decoration-color: #800080; font-weight: bold\">tensor</span><span style=\"font-weight: bold\">([</span> <span style=\"color: #008080; text-decoration-color: #008080; font-weight: bold\">1</span>, <span style=\"color: #008080; text-decoration-color: #008080; font-weight: bold\">10</span>,  <span style=\"color: #008080; text-decoration-color: #008080; font-weight: bold\">4</span>,  <span style=\"color: #008080; text-decoration-color: #008080; font-weight: bold\">2</span><span style=\"font-weight: bold\">])</span>, <span style=\"color: #800080; text-decoration-color: #800080; font-weight: bold\">tensor</span><span style=\"font-weight: bold\">([</span> <span style=\"color: #008080; text-decoration-color: #008080; font-weight: bold\">1</span>, <span style=\"color: #008080; text-decoration-color: #008080; font-weight: bold\">10</span>,  <span style=\"color: #008080; text-decoration-color: #008080; font-weight: bold\">5</span>,  <span style=\"color: #008080; text-decoration-color: #008080; font-weight: bold\">2</span><span style=\"font-weight: bold\">]))</span>,\n",
       "<span style=\"color: #7fbf7f; text-decoration-color: #7fbf7f\">│   </span><span style=\"font-weight: bold\">(</span><span style=\"color: #800080; text-decoration-color: #800080; font-weight: bold\">tensor</span><span style=\"font-weight: bold\">([</span> <span style=\"color: #008080; text-decoration-color: #008080; font-weight: bold\">1</span>,  <span style=\"color: #008080; text-decoration-color: #008080; font-weight: bold\">6</span>, <span style=\"color: #008080; text-decoration-color: #008080; font-weight: bold\">11</span>,  <span style=\"color: #008080; text-decoration-color: #008080; font-weight: bold\">2</span><span style=\"font-weight: bold\">])</span>, <span style=\"color: #800080; text-decoration-color: #800080; font-weight: bold\">tensor</span><span style=\"font-weight: bold\">([</span><span style=\"color: #008080; text-decoration-color: #008080; font-weight: bold\">1</span>, <span style=\"color: #008080; text-decoration-color: #008080; font-weight: bold\">8</span>, <span style=\"color: #008080; text-decoration-color: #008080; font-weight: bold\">4</span>, <span style=\"color: #008080; text-decoration-color: #008080; font-weight: bold\">2</span><span style=\"font-weight: bold\">]))</span>,\n",
       "<span style=\"color: #7fbf7f; text-decoration-color: #7fbf7f\">│   </span><span style=\"font-weight: bold\">(</span><span style=\"color: #800080; text-decoration-color: #800080; font-weight: bold\">tensor</span><span style=\"font-weight: bold\">([</span> <span style=\"color: #008080; text-decoration-color: #008080; font-weight: bold\">1</span>, <span style=\"color: #008080; text-decoration-color: #008080; font-weight: bold\">12</span>, <span style=\"color: #008080; text-decoration-color: #008080; font-weight: bold\">13</span>,  <span style=\"color: #008080; text-decoration-color: #008080; font-weight: bold\">2</span><span style=\"font-weight: bold\">])</span>, <span style=\"color: #800080; text-decoration-color: #800080; font-weight: bold\">tensor</span><span style=\"font-weight: bold\">([</span> <span style=\"color: #008080; text-decoration-color: #008080; font-weight: bold\">1</span>, <span style=\"color: #008080; text-decoration-color: #008080; font-weight: bold\">14</span>, <span style=\"color: #008080; text-decoration-color: #008080; font-weight: bold\">15</span>,  <span style=\"color: #008080; text-decoration-color: #008080; font-weight: bold\">2</span><span style=\"font-weight: bold\">]))</span>,\n",
       "<span style=\"color: #7fbf7f; text-decoration-color: #7fbf7f\">│   </span><span style=\"font-weight: bold\">(</span><span style=\"color: #800080; text-decoration-color: #800080; font-weight: bold\">tensor</span><span style=\"font-weight: bold\">([</span> <span style=\"color: #008080; text-decoration-color: #008080; font-weight: bold\">1</span>,  <span style=\"color: #008080; text-decoration-color: #008080; font-weight: bold\">6</span>, <span style=\"color: #008080; text-decoration-color: #008080; font-weight: bold\">16</span>,  <span style=\"color: #008080; text-decoration-color: #008080; font-weight: bold\">9</span>,  <span style=\"color: #008080; text-decoration-color: #008080; font-weight: bold\">2</span><span style=\"font-weight: bold\">])</span>, <span style=\"color: #800080; text-decoration-color: #800080; font-weight: bold\">tensor</span><span style=\"font-weight: bold\">([</span> <span style=\"color: #008080; text-decoration-color: #008080; font-weight: bold\">1</span>, <span style=\"color: #008080; text-decoration-color: #008080; font-weight: bold\">17</span>,  <span style=\"color: #008080; text-decoration-color: #008080; font-weight: bold\">2</span><span style=\"font-weight: bold\">]))</span>,\n",
       "<span style=\"color: #7fbf7f; text-decoration-color: #7fbf7f\">│   </span><span style=\"font-weight: bold\">(</span><span style=\"color: #800080; text-decoration-color: #800080; font-weight: bold\">tensor</span><span style=\"font-weight: bold\">([</span><span style=\"color: #008080; text-decoration-color: #008080; font-weight: bold\">1</span>, <span style=\"color: #008080; text-decoration-color: #008080; font-weight: bold\">7</span>, <span style=\"color: #008080; text-decoration-color: #008080; font-weight: bold\">4</span>, <span style=\"color: #008080; text-decoration-color: #008080; font-weight: bold\">2</span><span style=\"font-weight: bold\">])</span>, <span style=\"color: #800080; text-decoration-color: #800080; font-weight: bold\">tensor</span><span style=\"font-weight: bold\">([</span><span style=\"color: #008080; text-decoration-color: #008080; font-weight: bold\">1</span>, <span style=\"color: #008080; text-decoration-color: #008080; font-weight: bold\">7</span>, <span style=\"color: #008080; text-decoration-color: #008080; font-weight: bold\">5</span>, <span style=\"color: #008080; text-decoration-color: #008080; font-weight: bold\">2</span><span style=\"font-weight: bold\">]))</span>,\n",
       "<span style=\"color: #7fbf7f; text-decoration-color: #7fbf7f\">│   </span><span style=\"font-weight: bold\">(</span><span style=\"color: #800080; text-decoration-color: #800080; font-weight: bold\">tensor</span><span style=\"font-weight: bold\">([</span><span style=\"color: #008080; text-decoration-color: #008080; font-weight: bold\">1</span>, <span style=\"color: #008080; text-decoration-color: #008080; font-weight: bold\">7</span>, <span style=\"color: #008080; text-decoration-color: #008080; font-weight: bold\">5</span>, <span style=\"color: #008080; text-decoration-color: #008080; font-weight: bold\">2</span><span style=\"font-weight: bold\">])</span>, <span style=\"color: #800080; text-decoration-color: #800080; font-weight: bold\">tensor</span><span style=\"font-weight: bold\">([</span><span style=\"color: #008080; text-decoration-color: #008080; font-weight: bold\">1</span>, <span style=\"color: #008080; text-decoration-color: #008080; font-weight: bold\">7</span>, <span style=\"color: #008080; text-decoration-color: #008080; font-weight: bold\">4</span>, <span style=\"color: #008080; text-decoration-color: #008080; font-weight: bold\">2</span><span style=\"font-weight: bold\">]))</span>,\n",
       "<span style=\"color: #7fbf7f; text-decoration-color: #7fbf7f\">│   </span><span style=\"font-weight: bold\">(</span><span style=\"color: #800080; text-decoration-color: #800080; font-weight: bold\">tensor</span><span style=\"font-weight: bold\">([</span> <span style=\"color: #008080; text-decoration-color: #008080; font-weight: bold\">1</span>, <span style=\"color: #008080; text-decoration-color: #008080; font-weight: bold\">18</span>,  <span style=\"color: #008080; text-decoration-color: #008080; font-weight: bold\">8</span>,  <span style=\"color: #008080; text-decoration-color: #008080; font-weight: bold\">9</span>, <span style=\"color: #008080; text-decoration-color: #008080; font-weight: bold\">19</span>,  <span style=\"color: #008080; text-decoration-color: #008080; font-weight: bold\">2</span><span style=\"font-weight: bold\">])</span>, <span style=\"color: #800080; text-decoration-color: #800080; font-weight: bold\">tensor</span><span style=\"font-weight: bold\">([</span><span style=\"color: #008080; text-decoration-color: #008080; font-weight: bold\">1</span>, <span style=\"color: #008080; text-decoration-color: #008080; font-weight: bold\">6</span>, <span style=\"color: #008080; text-decoration-color: #008080; font-weight: bold\">9</span>, <span style=\"color: #008080; text-decoration-color: #008080; font-weight: bold\">2</span><span style=\"font-weight: bold\">]))</span>,\n",
       "<span style=\"color: #7fbf7f; text-decoration-color: #7fbf7f\">│   </span><span style=\"font-weight: bold\">(</span><span style=\"color: #800080; text-decoration-color: #800080; font-weight: bold\">tensor</span><span style=\"font-weight: bold\">([</span><span style=\"color: #008080; text-decoration-color: #008080; font-weight: bold\">1</span>, <span style=\"color: #008080; text-decoration-color: #008080; font-weight: bold\">8</span>, <span style=\"color: #008080; text-decoration-color: #008080; font-weight: bold\">4</span>, <span style=\"color: #008080; text-decoration-color: #008080; font-weight: bold\">2</span><span style=\"font-weight: bold\">])</span>, <span style=\"color: #800080; text-decoration-color: #800080; font-weight: bold\">tensor</span><span style=\"font-weight: bold\">([</span><span style=\"color: #008080; text-decoration-color: #008080; font-weight: bold\">1</span>, <span style=\"color: #008080; text-decoration-color: #008080; font-weight: bold\">6</span>, <span style=\"color: #008080; text-decoration-color: #008080; font-weight: bold\">5</span>, <span style=\"color: #008080; text-decoration-color: #008080; font-weight: bold\">2</span><span style=\"font-weight: bold\">]))</span>\n",
       "<span style=\"font-weight: bold\">]</span>\n",
       "</pre>\n"
      ],
      "text/plain": [
       "\u001b[1m[\u001b[0m\n",
       "\u001b[2;32m│   \u001b[0m\u001b[1m(\u001b[0m\u001b[1;35mtensor\u001b[0m\u001b[1m(\u001b[0m\u001b[1m[\u001b[0m \u001b[1;36m1\u001b[0m, \u001b[1;36m10\u001b[0m,  \u001b[1;36m4\u001b[0m,  \u001b[1;36m2\u001b[0m\u001b[1m]\u001b[0m\u001b[1m)\u001b[0m, \u001b[1;35mtensor\u001b[0m\u001b[1m(\u001b[0m\u001b[1m[\u001b[0m \u001b[1;36m1\u001b[0m, \u001b[1;36m10\u001b[0m,  \u001b[1;36m5\u001b[0m,  \u001b[1;36m2\u001b[0m\u001b[1m]\u001b[0m\u001b[1m)\u001b[0m\u001b[1m)\u001b[0m,\n",
       "\u001b[2;32m│   \u001b[0m\u001b[1m(\u001b[0m\u001b[1;35mtensor\u001b[0m\u001b[1m(\u001b[0m\u001b[1m[\u001b[0m \u001b[1;36m1\u001b[0m,  \u001b[1;36m6\u001b[0m, \u001b[1;36m11\u001b[0m,  \u001b[1;36m2\u001b[0m\u001b[1m]\u001b[0m\u001b[1m)\u001b[0m, \u001b[1;35mtensor\u001b[0m\u001b[1m(\u001b[0m\u001b[1m[\u001b[0m\u001b[1;36m1\u001b[0m, \u001b[1;36m8\u001b[0m, \u001b[1;36m4\u001b[0m, \u001b[1;36m2\u001b[0m\u001b[1m]\u001b[0m\u001b[1m)\u001b[0m\u001b[1m)\u001b[0m,\n",
       "\u001b[2;32m│   \u001b[0m\u001b[1m(\u001b[0m\u001b[1;35mtensor\u001b[0m\u001b[1m(\u001b[0m\u001b[1m[\u001b[0m \u001b[1;36m1\u001b[0m, \u001b[1;36m12\u001b[0m, \u001b[1;36m13\u001b[0m,  \u001b[1;36m2\u001b[0m\u001b[1m]\u001b[0m\u001b[1m)\u001b[0m, \u001b[1;35mtensor\u001b[0m\u001b[1m(\u001b[0m\u001b[1m[\u001b[0m \u001b[1;36m1\u001b[0m, \u001b[1;36m14\u001b[0m, \u001b[1;36m15\u001b[0m,  \u001b[1;36m2\u001b[0m\u001b[1m]\u001b[0m\u001b[1m)\u001b[0m\u001b[1m)\u001b[0m,\n",
       "\u001b[2;32m│   \u001b[0m\u001b[1m(\u001b[0m\u001b[1;35mtensor\u001b[0m\u001b[1m(\u001b[0m\u001b[1m[\u001b[0m \u001b[1;36m1\u001b[0m,  \u001b[1;36m6\u001b[0m, \u001b[1;36m16\u001b[0m,  \u001b[1;36m9\u001b[0m,  \u001b[1;36m2\u001b[0m\u001b[1m]\u001b[0m\u001b[1m)\u001b[0m, \u001b[1;35mtensor\u001b[0m\u001b[1m(\u001b[0m\u001b[1m[\u001b[0m \u001b[1;36m1\u001b[0m, \u001b[1;36m17\u001b[0m,  \u001b[1;36m2\u001b[0m\u001b[1m]\u001b[0m\u001b[1m)\u001b[0m\u001b[1m)\u001b[0m,\n",
       "\u001b[2;32m│   \u001b[0m\u001b[1m(\u001b[0m\u001b[1;35mtensor\u001b[0m\u001b[1m(\u001b[0m\u001b[1m[\u001b[0m\u001b[1;36m1\u001b[0m, \u001b[1;36m7\u001b[0m, \u001b[1;36m4\u001b[0m, \u001b[1;36m2\u001b[0m\u001b[1m]\u001b[0m\u001b[1m)\u001b[0m, \u001b[1;35mtensor\u001b[0m\u001b[1m(\u001b[0m\u001b[1m[\u001b[0m\u001b[1;36m1\u001b[0m, \u001b[1;36m7\u001b[0m, \u001b[1;36m5\u001b[0m, \u001b[1;36m2\u001b[0m\u001b[1m]\u001b[0m\u001b[1m)\u001b[0m\u001b[1m)\u001b[0m,\n",
       "\u001b[2;32m│   \u001b[0m\u001b[1m(\u001b[0m\u001b[1;35mtensor\u001b[0m\u001b[1m(\u001b[0m\u001b[1m[\u001b[0m\u001b[1;36m1\u001b[0m, \u001b[1;36m7\u001b[0m, \u001b[1;36m5\u001b[0m, \u001b[1;36m2\u001b[0m\u001b[1m]\u001b[0m\u001b[1m)\u001b[0m, \u001b[1;35mtensor\u001b[0m\u001b[1m(\u001b[0m\u001b[1m[\u001b[0m\u001b[1;36m1\u001b[0m, \u001b[1;36m7\u001b[0m, \u001b[1;36m4\u001b[0m, \u001b[1;36m2\u001b[0m\u001b[1m]\u001b[0m\u001b[1m)\u001b[0m\u001b[1m)\u001b[0m,\n",
       "\u001b[2;32m│   \u001b[0m\u001b[1m(\u001b[0m\u001b[1;35mtensor\u001b[0m\u001b[1m(\u001b[0m\u001b[1m[\u001b[0m \u001b[1;36m1\u001b[0m, \u001b[1;36m18\u001b[0m,  \u001b[1;36m8\u001b[0m,  \u001b[1;36m9\u001b[0m, \u001b[1;36m19\u001b[0m,  \u001b[1;36m2\u001b[0m\u001b[1m]\u001b[0m\u001b[1m)\u001b[0m, \u001b[1;35mtensor\u001b[0m\u001b[1m(\u001b[0m\u001b[1m[\u001b[0m\u001b[1;36m1\u001b[0m, \u001b[1;36m6\u001b[0m, \u001b[1;36m9\u001b[0m, \u001b[1;36m2\u001b[0m\u001b[1m]\u001b[0m\u001b[1m)\u001b[0m\u001b[1m)\u001b[0m,\n",
       "\u001b[2;32m│   \u001b[0m\u001b[1m(\u001b[0m\u001b[1;35mtensor\u001b[0m\u001b[1m(\u001b[0m\u001b[1m[\u001b[0m\u001b[1;36m1\u001b[0m, \u001b[1;36m8\u001b[0m, \u001b[1;36m4\u001b[0m, \u001b[1;36m2\u001b[0m\u001b[1m]\u001b[0m\u001b[1m)\u001b[0m, \u001b[1;35mtensor\u001b[0m\u001b[1m(\u001b[0m\u001b[1m[\u001b[0m\u001b[1;36m1\u001b[0m, \u001b[1;36m6\u001b[0m, \u001b[1;36m5\u001b[0m, \u001b[1;36m2\u001b[0m\u001b[1m]\u001b[0m\u001b[1m)\u001b[0m\u001b[1m)\u001b[0m\n",
       "\u001b[1m]\u001b[0m\n"
      ]
     },
     "metadata": {},
     "output_type": "display_data"
    }
   ],
   "source": [
    "# Convert to Tensor\n",
    "def data_process(raw_text_iter, tokenizer):\n",
    "    data = [\n",
    "        torch.tensor(\n",
    "            [v[\"<SOS>\"]] + [v[token] for token in tokenizer(item)] + [v[\"<EOS>\"]],\n",
    "            dtype=torch.long,\n",
    "        )\n",
    "        for item in raw_text_iter\n",
    "    ]\n",
    "    return torch.cat(tuple(filter(lambda t: t.numel() > 0, data)))\n",
    "\n",
    "\n",
    "train_data = []\n",
    "for (user_input, bot_response) in training_data:\n",
    "    user_input_tensor = data_process([user_input], tokenizer)\n",
    "    bot_response_tensor = data_process([bot_response], tokenizer)\n",
    "    train_data.append((user_input_tensor, bot_response_tensor))\n",
    "\n",
    "# Let's check the output\n",
    "pprint(train_data)"
   ]
  },
  {
   "cell_type": "markdown",
   "metadata": {},
   "source": [
    "## Padding\n",
    "\n",
    "Padding is a common technique used in deep learning when dealing with sequences of varying lengths. Here are a few reasons why padding is necessary:\n",
    "\n",
    "1. **Uniform Input Size**: Many deep learning models, such as Convolutional Neural Networks (CNNs) and Recurrent Neural Networks (RNNs), require inputs to have a uniform size. For example, in a batch of sentences, each sentence might have a different number of words. By padding the sentences with a special `<PAD>` token, all sentences in the batch can be made to have the same length, allowing them to be processed as a single tensor.\n",
    "\n",
    "2. **Efficiency**: Processing sentences one by one can be inefficient. By padding sentences to the same length and forming a batch, we can process multiple sentences at once, leading to faster training times.\n",
    "\n",
    "3. **Sequence Models**: In sequence-to-sequence models, such as those used in machine translation or chatbot applications, padding is necessary not only to ensure uniform input size, but also to delineate where a sequence starts and ends. Special tokens like `<SOS>` (start of sequence) and `<EOS>` (end of sequence) are often used in conjunction with padding for this purpose.\n",
    "\n",
    "It's important to note that while padding allows for efficient batch processing and uniform input sizes, it can also introduce noise into the data, as the model needs to learn to ignore these padding tokens. This is often handled in practice by using masking techniques, which explicitly tell the model to ignore certain inputs (like the padding tokens)."
   ]
  },
  {
   "cell_type": "markdown",
   "metadata": {},
   "source": [
    "### Do we need padding in Transformers?\n",
    "\n",
    "Yes, the Transformer model does require padding, and here's why:\n",
    "\n",
    "1. **Batch Processing**: Just like other neural network architectures, Transformers also benefit from processing data in batches for computational efficiency. Since sequences in a batch may have varying lengths, padding is used to ensure all sequences in a batch have the same length.\n",
    "\n",
    "2. **Masking**: The Transformer uses a mechanism called \"attention\", which involves looking at all words in the sequence simultaneously. However, we don't want the model to pay attention to the padding tokens, as they don't contain any useful information. Therefore, we create a \"mask\" that explicitly tells the model to ignore the padding tokens when computing attention. This mask is a sequence of Boolean values indicating which tokens are padding (True) and which are not (False).\n",
    "\n",
    "3. **Sequence Boundaries**: In sequence-to-sequence tasks (like translation), padding is also used in conjunction with special tokens like `<SOS>` (start of sequence) and `<EOS>` (end of sequence) to indicate the boundaries of the sequence. This helps the model identify when a new sequence starts and when a sequence ends.\n",
    "\n",
    "So, while the Transformer doesn't inherently require sequences to be of the same length, padding is still a necessary step in the data preprocessing pipeline for the reasons mentioned above."
   ]
  },
  {
   "cell_type": "code",
   "execution_count": 8,
   "metadata": {},
   "outputs": [
    {
     "data": {
      "text/html": [
       "<pre style=\"white-space:pre;overflow-x:auto;line-height:normal;font-family:Menlo,'DejaVu Sans Mono',consolas,'Courier New',monospace\"><span style=\"font-weight: bold\">[</span>\n",
       "<span style=\"color: #7fbf7f; text-decoration-color: #7fbf7f\">│   </span><span style=\"font-weight: bold\">(</span><span style=\"color: #800080; text-decoration-color: #800080; font-weight: bold\">tensor</span><span style=\"font-weight: bold\">([</span> <span style=\"color: #008080; text-decoration-color: #008080; font-weight: bold\">1</span>, <span style=\"color: #008080; text-decoration-color: #008080; font-weight: bold\">10</span>,  <span style=\"color: #008080; text-decoration-color: #008080; font-weight: bold\">4</span>,  <span style=\"color: #008080; text-decoration-color: #008080; font-weight: bold\">2</span><span style=\"font-weight: bold\">])</span>, <span style=\"color: #800080; text-decoration-color: #800080; font-weight: bold\">tensor</span><span style=\"font-weight: bold\">([</span> <span style=\"color: #008080; text-decoration-color: #008080; font-weight: bold\">1</span>, <span style=\"color: #008080; text-decoration-color: #008080; font-weight: bold\">10</span>,  <span style=\"color: #008080; text-decoration-color: #008080; font-weight: bold\">5</span>,  <span style=\"color: #008080; text-decoration-color: #008080; font-weight: bold\">2</span><span style=\"font-weight: bold\">]))</span>,\n",
       "<span style=\"color: #7fbf7f; text-decoration-color: #7fbf7f\">│   </span><span style=\"font-weight: bold\">(</span><span style=\"color: #800080; text-decoration-color: #800080; font-weight: bold\">tensor</span><span style=\"font-weight: bold\">([</span> <span style=\"color: #008080; text-decoration-color: #008080; font-weight: bold\">1</span>,  <span style=\"color: #008080; text-decoration-color: #008080; font-weight: bold\">6</span>, <span style=\"color: #008080; text-decoration-color: #008080; font-weight: bold\">11</span>,  <span style=\"color: #008080; text-decoration-color: #008080; font-weight: bold\">2</span><span style=\"font-weight: bold\">])</span>, <span style=\"color: #800080; text-decoration-color: #800080; font-weight: bold\">tensor</span><span style=\"font-weight: bold\">([</span><span style=\"color: #008080; text-decoration-color: #008080; font-weight: bold\">1</span>, <span style=\"color: #008080; text-decoration-color: #008080; font-weight: bold\">8</span>, <span style=\"color: #008080; text-decoration-color: #008080; font-weight: bold\">4</span>, <span style=\"color: #008080; text-decoration-color: #008080; font-weight: bold\">2</span><span style=\"font-weight: bold\">]))</span>,\n",
       "<span style=\"color: #7fbf7f; text-decoration-color: #7fbf7f\">│   </span><span style=\"font-weight: bold\">(</span><span style=\"color: #800080; text-decoration-color: #800080; font-weight: bold\">tensor</span><span style=\"font-weight: bold\">([</span> <span style=\"color: #008080; text-decoration-color: #008080; font-weight: bold\">1</span>, <span style=\"color: #008080; text-decoration-color: #008080; font-weight: bold\">12</span>, <span style=\"color: #008080; text-decoration-color: #008080; font-weight: bold\">13</span>,  <span style=\"color: #008080; text-decoration-color: #008080; font-weight: bold\">2</span><span style=\"font-weight: bold\">])</span>, <span style=\"color: #800080; text-decoration-color: #800080; font-weight: bold\">tensor</span><span style=\"font-weight: bold\">([</span> <span style=\"color: #008080; text-decoration-color: #008080; font-weight: bold\">1</span>, <span style=\"color: #008080; text-decoration-color: #008080; font-weight: bold\">14</span>, <span style=\"color: #008080; text-decoration-color: #008080; font-weight: bold\">15</span>,  <span style=\"color: #008080; text-decoration-color: #008080; font-weight: bold\">2</span><span style=\"font-weight: bold\">]))</span>,\n",
       "<span style=\"color: #7fbf7f; text-decoration-color: #7fbf7f\">│   </span><span style=\"font-weight: bold\">(</span><span style=\"color: #800080; text-decoration-color: #800080; font-weight: bold\">tensor</span><span style=\"font-weight: bold\">([</span> <span style=\"color: #008080; text-decoration-color: #008080; font-weight: bold\">1</span>,  <span style=\"color: #008080; text-decoration-color: #008080; font-weight: bold\">6</span>, <span style=\"color: #008080; text-decoration-color: #008080; font-weight: bold\">16</span>,  <span style=\"color: #008080; text-decoration-color: #008080; font-weight: bold\">9</span>,  <span style=\"color: #008080; text-decoration-color: #008080; font-weight: bold\">2</span><span style=\"font-weight: bold\">])</span>, <span style=\"color: #800080; text-decoration-color: #800080; font-weight: bold\">tensor</span><span style=\"font-weight: bold\">([</span> <span style=\"color: #008080; text-decoration-color: #008080; font-weight: bold\">1</span>, <span style=\"color: #008080; text-decoration-color: #008080; font-weight: bold\">17</span>,  <span style=\"color: #008080; text-decoration-color: #008080; font-weight: bold\">2</span><span style=\"font-weight: bold\">]))</span>,\n",
       "<span style=\"color: #7fbf7f; text-decoration-color: #7fbf7f\">│   </span><span style=\"font-weight: bold\">(</span><span style=\"color: #800080; text-decoration-color: #800080; font-weight: bold\">tensor</span><span style=\"font-weight: bold\">([</span><span style=\"color: #008080; text-decoration-color: #008080; font-weight: bold\">1</span>, <span style=\"color: #008080; text-decoration-color: #008080; font-weight: bold\">7</span>, <span style=\"color: #008080; text-decoration-color: #008080; font-weight: bold\">4</span>, <span style=\"color: #008080; text-decoration-color: #008080; font-weight: bold\">2</span><span style=\"font-weight: bold\">])</span>, <span style=\"color: #800080; text-decoration-color: #800080; font-weight: bold\">tensor</span><span style=\"font-weight: bold\">([</span><span style=\"color: #008080; text-decoration-color: #008080; font-weight: bold\">1</span>, <span style=\"color: #008080; text-decoration-color: #008080; font-weight: bold\">7</span>, <span style=\"color: #008080; text-decoration-color: #008080; font-weight: bold\">5</span>, <span style=\"color: #008080; text-decoration-color: #008080; font-weight: bold\">2</span><span style=\"font-weight: bold\">]))</span>,\n",
       "<span style=\"color: #7fbf7f; text-decoration-color: #7fbf7f\">│   </span><span style=\"font-weight: bold\">(</span><span style=\"color: #800080; text-decoration-color: #800080; font-weight: bold\">tensor</span><span style=\"font-weight: bold\">([</span><span style=\"color: #008080; text-decoration-color: #008080; font-weight: bold\">1</span>, <span style=\"color: #008080; text-decoration-color: #008080; font-weight: bold\">7</span>, <span style=\"color: #008080; text-decoration-color: #008080; font-weight: bold\">5</span>, <span style=\"color: #008080; text-decoration-color: #008080; font-weight: bold\">2</span><span style=\"font-weight: bold\">])</span>, <span style=\"color: #800080; text-decoration-color: #800080; font-weight: bold\">tensor</span><span style=\"font-weight: bold\">([</span><span style=\"color: #008080; text-decoration-color: #008080; font-weight: bold\">1</span>, <span style=\"color: #008080; text-decoration-color: #008080; font-weight: bold\">7</span>, <span style=\"color: #008080; text-decoration-color: #008080; font-weight: bold\">4</span>, <span style=\"color: #008080; text-decoration-color: #008080; font-weight: bold\">2</span><span style=\"font-weight: bold\">]))</span>,\n",
       "<span style=\"color: #7fbf7f; text-decoration-color: #7fbf7f\">│   </span><span style=\"font-weight: bold\">(</span><span style=\"color: #800080; text-decoration-color: #800080; font-weight: bold\">tensor</span><span style=\"font-weight: bold\">([</span> <span style=\"color: #008080; text-decoration-color: #008080; font-weight: bold\">1</span>, <span style=\"color: #008080; text-decoration-color: #008080; font-weight: bold\">18</span>,  <span style=\"color: #008080; text-decoration-color: #008080; font-weight: bold\">8</span>,  <span style=\"color: #008080; text-decoration-color: #008080; font-weight: bold\">9</span>, <span style=\"color: #008080; text-decoration-color: #008080; font-weight: bold\">19</span>,  <span style=\"color: #008080; text-decoration-color: #008080; font-weight: bold\">2</span><span style=\"font-weight: bold\">])</span>, <span style=\"color: #800080; text-decoration-color: #800080; font-weight: bold\">tensor</span><span style=\"font-weight: bold\">([</span><span style=\"color: #008080; text-decoration-color: #008080; font-weight: bold\">1</span>, <span style=\"color: #008080; text-decoration-color: #008080; font-weight: bold\">6</span>, <span style=\"color: #008080; text-decoration-color: #008080; font-weight: bold\">9</span>, <span style=\"color: #008080; text-decoration-color: #008080; font-weight: bold\">2</span><span style=\"font-weight: bold\">]))</span>,\n",
       "<span style=\"color: #7fbf7f; text-decoration-color: #7fbf7f\">│   </span><span style=\"font-weight: bold\">(</span><span style=\"color: #800080; text-decoration-color: #800080; font-weight: bold\">tensor</span><span style=\"font-weight: bold\">([</span><span style=\"color: #008080; text-decoration-color: #008080; font-weight: bold\">1</span>, <span style=\"color: #008080; text-decoration-color: #008080; font-weight: bold\">8</span>, <span style=\"color: #008080; text-decoration-color: #008080; font-weight: bold\">4</span>, <span style=\"color: #008080; text-decoration-color: #008080; font-weight: bold\">2</span><span style=\"font-weight: bold\">])</span>, <span style=\"color: #800080; text-decoration-color: #800080; font-weight: bold\">tensor</span><span style=\"font-weight: bold\">([</span><span style=\"color: #008080; text-decoration-color: #008080; font-weight: bold\">1</span>, <span style=\"color: #008080; text-decoration-color: #008080; font-weight: bold\">6</span>, <span style=\"color: #008080; text-decoration-color: #008080; font-weight: bold\">5</span>, <span style=\"color: #008080; text-decoration-color: #008080; font-weight: bold\">2</span><span style=\"font-weight: bold\">]))</span>\n",
       "<span style=\"font-weight: bold\">]</span>\n",
       "</pre>\n"
      ],
      "text/plain": [
       "\u001b[1m[\u001b[0m\n",
       "\u001b[2;32m│   \u001b[0m\u001b[1m(\u001b[0m\u001b[1;35mtensor\u001b[0m\u001b[1m(\u001b[0m\u001b[1m[\u001b[0m \u001b[1;36m1\u001b[0m, \u001b[1;36m10\u001b[0m,  \u001b[1;36m4\u001b[0m,  \u001b[1;36m2\u001b[0m\u001b[1m]\u001b[0m\u001b[1m)\u001b[0m, \u001b[1;35mtensor\u001b[0m\u001b[1m(\u001b[0m\u001b[1m[\u001b[0m \u001b[1;36m1\u001b[0m, \u001b[1;36m10\u001b[0m,  \u001b[1;36m5\u001b[0m,  \u001b[1;36m2\u001b[0m\u001b[1m]\u001b[0m\u001b[1m)\u001b[0m\u001b[1m)\u001b[0m,\n",
       "\u001b[2;32m│   \u001b[0m\u001b[1m(\u001b[0m\u001b[1;35mtensor\u001b[0m\u001b[1m(\u001b[0m\u001b[1m[\u001b[0m \u001b[1;36m1\u001b[0m,  \u001b[1;36m6\u001b[0m, \u001b[1;36m11\u001b[0m,  \u001b[1;36m2\u001b[0m\u001b[1m]\u001b[0m\u001b[1m)\u001b[0m, \u001b[1;35mtensor\u001b[0m\u001b[1m(\u001b[0m\u001b[1m[\u001b[0m\u001b[1;36m1\u001b[0m, \u001b[1;36m8\u001b[0m, \u001b[1;36m4\u001b[0m, \u001b[1;36m2\u001b[0m\u001b[1m]\u001b[0m\u001b[1m)\u001b[0m\u001b[1m)\u001b[0m,\n",
       "\u001b[2;32m│   \u001b[0m\u001b[1m(\u001b[0m\u001b[1;35mtensor\u001b[0m\u001b[1m(\u001b[0m\u001b[1m[\u001b[0m \u001b[1;36m1\u001b[0m, \u001b[1;36m12\u001b[0m, \u001b[1;36m13\u001b[0m,  \u001b[1;36m2\u001b[0m\u001b[1m]\u001b[0m\u001b[1m)\u001b[0m, \u001b[1;35mtensor\u001b[0m\u001b[1m(\u001b[0m\u001b[1m[\u001b[0m \u001b[1;36m1\u001b[0m, \u001b[1;36m14\u001b[0m, \u001b[1;36m15\u001b[0m,  \u001b[1;36m2\u001b[0m\u001b[1m]\u001b[0m\u001b[1m)\u001b[0m\u001b[1m)\u001b[0m,\n",
       "\u001b[2;32m│   \u001b[0m\u001b[1m(\u001b[0m\u001b[1;35mtensor\u001b[0m\u001b[1m(\u001b[0m\u001b[1m[\u001b[0m \u001b[1;36m1\u001b[0m,  \u001b[1;36m6\u001b[0m, \u001b[1;36m16\u001b[0m,  \u001b[1;36m9\u001b[0m,  \u001b[1;36m2\u001b[0m\u001b[1m]\u001b[0m\u001b[1m)\u001b[0m, \u001b[1;35mtensor\u001b[0m\u001b[1m(\u001b[0m\u001b[1m[\u001b[0m \u001b[1;36m1\u001b[0m, \u001b[1;36m17\u001b[0m,  \u001b[1;36m2\u001b[0m\u001b[1m]\u001b[0m\u001b[1m)\u001b[0m\u001b[1m)\u001b[0m,\n",
       "\u001b[2;32m│   \u001b[0m\u001b[1m(\u001b[0m\u001b[1;35mtensor\u001b[0m\u001b[1m(\u001b[0m\u001b[1m[\u001b[0m\u001b[1;36m1\u001b[0m, \u001b[1;36m7\u001b[0m, \u001b[1;36m4\u001b[0m, \u001b[1;36m2\u001b[0m\u001b[1m]\u001b[0m\u001b[1m)\u001b[0m, \u001b[1;35mtensor\u001b[0m\u001b[1m(\u001b[0m\u001b[1m[\u001b[0m\u001b[1;36m1\u001b[0m, \u001b[1;36m7\u001b[0m, \u001b[1;36m5\u001b[0m, \u001b[1;36m2\u001b[0m\u001b[1m]\u001b[0m\u001b[1m)\u001b[0m\u001b[1m)\u001b[0m,\n",
       "\u001b[2;32m│   \u001b[0m\u001b[1m(\u001b[0m\u001b[1;35mtensor\u001b[0m\u001b[1m(\u001b[0m\u001b[1m[\u001b[0m\u001b[1;36m1\u001b[0m, \u001b[1;36m7\u001b[0m, \u001b[1;36m5\u001b[0m, \u001b[1;36m2\u001b[0m\u001b[1m]\u001b[0m\u001b[1m)\u001b[0m, \u001b[1;35mtensor\u001b[0m\u001b[1m(\u001b[0m\u001b[1m[\u001b[0m\u001b[1;36m1\u001b[0m, \u001b[1;36m7\u001b[0m, \u001b[1;36m4\u001b[0m, \u001b[1;36m2\u001b[0m\u001b[1m]\u001b[0m\u001b[1m)\u001b[0m\u001b[1m)\u001b[0m,\n",
       "\u001b[2;32m│   \u001b[0m\u001b[1m(\u001b[0m\u001b[1;35mtensor\u001b[0m\u001b[1m(\u001b[0m\u001b[1m[\u001b[0m \u001b[1;36m1\u001b[0m, \u001b[1;36m18\u001b[0m,  \u001b[1;36m8\u001b[0m,  \u001b[1;36m9\u001b[0m, \u001b[1;36m19\u001b[0m,  \u001b[1;36m2\u001b[0m\u001b[1m]\u001b[0m\u001b[1m)\u001b[0m, \u001b[1;35mtensor\u001b[0m\u001b[1m(\u001b[0m\u001b[1m[\u001b[0m\u001b[1;36m1\u001b[0m, \u001b[1;36m6\u001b[0m, \u001b[1;36m9\u001b[0m, \u001b[1;36m2\u001b[0m\u001b[1m]\u001b[0m\u001b[1m)\u001b[0m\u001b[1m)\u001b[0m,\n",
       "\u001b[2;32m│   \u001b[0m\u001b[1m(\u001b[0m\u001b[1;35mtensor\u001b[0m\u001b[1m(\u001b[0m\u001b[1m[\u001b[0m\u001b[1;36m1\u001b[0m, \u001b[1;36m8\u001b[0m, \u001b[1;36m4\u001b[0m, \u001b[1;36m2\u001b[0m\u001b[1m]\u001b[0m\u001b[1m)\u001b[0m, \u001b[1;35mtensor\u001b[0m\u001b[1m(\u001b[0m\u001b[1m[\u001b[0m\u001b[1;36m1\u001b[0m, \u001b[1;36m6\u001b[0m, \u001b[1;36m5\u001b[0m, \u001b[1;36m2\u001b[0m\u001b[1m]\u001b[0m\u001b[1m)\u001b[0m\u001b[1m)\u001b[0m\n",
       "\u001b[1m]\u001b[0m\n"
      ]
     },
     "metadata": {},
     "output_type": "display_data"
    }
   ],
   "source": [
    "# Pad the sequences\n",
    "train_data_padded = []\n",
    "for (user_input_tensor, bot_response_tensor) in train_data:\n",
    "    user_input_tensor_padded = pad_sequence(\n",
    "        [user_input_tensor], padding_value=v[\"<PAD>\"], batch_first=True\n",
    "    ).squeeze()\n",
    "    bot_response_tensor_padded = pad_sequence(\n",
    "        [bot_response_tensor], padding_value=v[\"<PAD>\"], batch_first=True\n",
    "    ).squeeze()\n",
    "    train_data_padded.append((user_input_tensor_padded, bot_response_tensor_padded))\n",
    "\n",
    "# Let's check the output\n",
    "pprint(train_data_padded)"
   ]
  },
  {
   "cell_type": "markdown",
   "metadata": {},
   "source": [
    "So I do not see any changes\n",
    "The `pad_sequence` function is designed to pad a batch of sequences, not a single sequence. In the code, you're applying `pad_sequence` to each pair of sentences individually, which is why you're not seeing any padding.\n",
    "\n",
    "So each data point is a batch, i.e. batch size = 1, so there's no need for padding\n",
    "and therefore no effect."
   ]
  },
  {
   "cell_type": "markdown",
   "metadata": {},
   "source": [
    "To see the padding in action, you would need to apply `pad_sequence` to a batch of sentences. Here's an example where we take the first and fourth sentence of\n",
    "different lengths and pad them to have the same length. The batch size is 2."
   ]
  },
  {
   "cell_type": "code",
   "execution_count": 9,
   "metadata": {},
   "outputs": [
    {
     "data": {
      "text/html": [
       "<pre style=\"white-space:pre;overflow-x:auto;line-height:normal;font-family:Menlo,'DejaVu Sans Mono',consolas,'Courier New',monospace\"><span style=\"font-weight: bold\">(</span><span style=\"color: #800080; text-decoration-color: #800080; font-weight: bold\">tensor</span><span style=\"font-weight: bold\">([</span> <span style=\"color: #008080; text-decoration-color: #008080; font-weight: bold\">1</span>, <span style=\"color: #008080; text-decoration-color: #008080; font-weight: bold\">10</span>,  <span style=\"color: #008080; text-decoration-color: #008080; font-weight: bold\">4</span>,  <span style=\"color: #008080; text-decoration-color: #008080; font-weight: bold\">2</span><span style=\"font-weight: bold\">])</span>, <span style=\"color: #800080; text-decoration-color: #800080; font-weight: bold\">tensor</span><span style=\"font-weight: bold\">([</span> <span style=\"color: #008080; text-decoration-color: #008080; font-weight: bold\">1</span>, <span style=\"color: #008080; text-decoration-color: #008080; font-weight: bold\">10</span>,  <span style=\"color: #008080; text-decoration-color: #008080; font-weight: bold\">5</span>,  <span style=\"color: #008080; text-decoration-color: #008080; font-weight: bold\">2</span><span style=\"font-weight: bold\">]))</span>\n",
       "</pre>\n"
      ],
      "text/plain": [
       "\u001b[1m(\u001b[0m\u001b[1;35mtensor\u001b[0m\u001b[1m(\u001b[0m\u001b[1m[\u001b[0m \u001b[1;36m1\u001b[0m, \u001b[1;36m10\u001b[0m,  \u001b[1;36m4\u001b[0m,  \u001b[1;36m2\u001b[0m\u001b[1m]\u001b[0m\u001b[1m)\u001b[0m, \u001b[1;35mtensor\u001b[0m\u001b[1m(\u001b[0m\u001b[1m[\u001b[0m \u001b[1;36m1\u001b[0m, \u001b[1;36m10\u001b[0m,  \u001b[1;36m5\u001b[0m,  \u001b[1;36m2\u001b[0m\u001b[1m]\u001b[0m\u001b[1m)\u001b[0m\u001b[1m)\u001b[0m\n"
      ]
     },
     "metadata": {},
     "output_type": "display_data"
    },
    {
     "data": {
      "text/html": [
       "<pre style=\"white-space:pre;overflow-x:auto;line-height:normal;font-family:Menlo,'DejaVu Sans Mono',consolas,'Courier New',monospace\"><span style=\"font-weight: bold\">(</span><span style=\"color: #800080; text-decoration-color: #800080; font-weight: bold\">tensor</span><span style=\"font-weight: bold\">([</span> <span style=\"color: #008080; text-decoration-color: #008080; font-weight: bold\">1</span>,  <span style=\"color: #008080; text-decoration-color: #008080; font-weight: bold\">6</span>, <span style=\"color: #008080; text-decoration-color: #008080; font-weight: bold\">16</span>,  <span style=\"color: #008080; text-decoration-color: #008080; font-weight: bold\">9</span>,  <span style=\"color: #008080; text-decoration-color: #008080; font-weight: bold\">2</span><span style=\"font-weight: bold\">])</span>, <span style=\"color: #800080; text-decoration-color: #800080; font-weight: bold\">tensor</span><span style=\"font-weight: bold\">([</span> <span style=\"color: #008080; text-decoration-color: #008080; font-weight: bold\">1</span>, <span style=\"color: #008080; text-decoration-color: #008080; font-weight: bold\">17</span>,  <span style=\"color: #008080; text-decoration-color: #008080; font-weight: bold\">2</span><span style=\"font-weight: bold\">]))</span>\n",
       "</pre>\n"
      ],
      "text/plain": [
       "\u001b[1m(\u001b[0m\u001b[1;35mtensor\u001b[0m\u001b[1m(\u001b[0m\u001b[1m[\u001b[0m \u001b[1;36m1\u001b[0m,  \u001b[1;36m6\u001b[0m, \u001b[1;36m16\u001b[0m,  \u001b[1;36m9\u001b[0m,  \u001b[1;36m2\u001b[0m\u001b[1m]\u001b[0m\u001b[1m)\u001b[0m, \u001b[1;35mtensor\u001b[0m\u001b[1m(\u001b[0m\u001b[1m[\u001b[0m \u001b[1;36m1\u001b[0m, \u001b[1;36m17\u001b[0m,  \u001b[1;36m2\u001b[0m\u001b[1m]\u001b[0m\u001b[1m)\u001b[0m\u001b[1m)\u001b[0m\n"
      ]
     },
     "metadata": {},
     "output_type": "display_data"
    }
   ],
   "source": [
    "# Let's take the first two pairs of sentences as a batch\n",
    "batch = [train_data[0], train_data[3]]\n",
    "pprint(batch[0]) # (4, 4)\n",
    "pprint(batch[1]) # (5, 3)"
   ]
  },
  {
   "cell_type": "markdown",
   "metadata": {},
   "source": [
    "After padding, we expect the input tensor to be of shape \n",
    "\n",
    "```python\n",
    "(batch_size, max_seq_len) = (2, 5)\n",
    "```\n",
    "\n",
    "and the response tensor to be of shape \n",
    "\n",
    "```python\n",
    "(batch_size, max_seq_len) = (2, 4)\n",
    "```"
   ]
  },
  {
   "cell_type": "code",
   "execution_count": 10,
   "metadata": {},
   "outputs": [
    {
     "name": "stdout",
     "output_type": "stream",
     "text": [
      "User inputs (padded):\n"
     ]
    },
    {
     "data": {
      "text/html": [
       "<pre style=\"white-space:pre;overflow-x:auto;line-height:normal;font-family:Menlo,'DejaVu Sans Mono',consolas,'Courier New',monospace\"><span style=\"color: #800080; text-decoration-color: #800080; font-weight: bold\">tensor</span><span style=\"font-weight: bold\">([[</span> <span style=\"color: #008080; text-decoration-color: #008080; font-weight: bold\">1</span>, <span style=\"color: #008080; text-decoration-color: #008080; font-weight: bold\">10</span>,  <span style=\"color: #008080; text-decoration-color: #008080; font-weight: bold\">4</span>,  <span style=\"color: #008080; text-decoration-color: #008080; font-weight: bold\">2</span>,  <span style=\"color: #008080; text-decoration-color: #008080; font-weight: bold\">0</span><span style=\"font-weight: bold\">]</span>,\n",
       "<span style=\"color: #7fbf7f; text-decoration-color: #7fbf7f\">│   │   </span><span style=\"font-weight: bold\">[</span> <span style=\"color: #008080; text-decoration-color: #008080; font-weight: bold\">1</span>,  <span style=\"color: #008080; text-decoration-color: #008080; font-weight: bold\">6</span>, <span style=\"color: #008080; text-decoration-color: #008080; font-weight: bold\">16</span>,  <span style=\"color: #008080; text-decoration-color: #008080; font-weight: bold\">9</span>,  <span style=\"color: #008080; text-decoration-color: #008080; font-weight: bold\">2</span><span style=\"font-weight: bold\">]])</span>\n",
       "</pre>\n"
      ],
      "text/plain": [
       "\u001b[1;35mtensor\u001b[0m\u001b[1m(\u001b[0m\u001b[1m[\u001b[0m\u001b[1m[\u001b[0m \u001b[1;36m1\u001b[0m, \u001b[1;36m10\u001b[0m,  \u001b[1;36m4\u001b[0m,  \u001b[1;36m2\u001b[0m,  \u001b[1;36m0\u001b[0m\u001b[1m]\u001b[0m,\n",
       "\u001b[2;32m│   │   \u001b[0m\u001b[1m[\u001b[0m \u001b[1;36m1\u001b[0m,  \u001b[1;36m6\u001b[0m, \u001b[1;36m16\u001b[0m,  \u001b[1;36m9\u001b[0m,  \u001b[1;36m2\u001b[0m\u001b[1m]\u001b[0m\u001b[1m]\u001b[0m\u001b[1m)\u001b[0m\n"
      ]
     },
     "metadata": {},
     "output_type": "display_data"
    },
    {
     "name": "stdout",
     "output_type": "stream",
     "text": [
      "Bot responses (padded):\n"
     ]
    },
    {
     "data": {
      "text/html": [
       "<pre style=\"white-space:pre;overflow-x:auto;line-height:normal;font-family:Menlo,'DejaVu Sans Mono',consolas,'Courier New',monospace\"><span style=\"color: #800080; text-decoration-color: #800080; font-weight: bold\">tensor</span><span style=\"font-weight: bold\">([[</span> <span style=\"color: #008080; text-decoration-color: #008080; font-weight: bold\">1</span>, <span style=\"color: #008080; text-decoration-color: #008080; font-weight: bold\">10</span>,  <span style=\"color: #008080; text-decoration-color: #008080; font-weight: bold\">5</span>,  <span style=\"color: #008080; text-decoration-color: #008080; font-weight: bold\">2</span><span style=\"font-weight: bold\">]</span>,\n",
       "<span style=\"color: #7fbf7f; text-decoration-color: #7fbf7f\">│   │   </span><span style=\"font-weight: bold\">[</span> <span style=\"color: #008080; text-decoration-color: #008080; font-weight: bold\">1</span>, <span style=\"color: #008080; text-decoration-color: #008080; font-weight: bold\">17</span>,  <span style=\"color: #008080; text-decoration-color: #008080; font-weight: bold\">2</span>,  <span style=\"color: #008080; text-decoration-color: #008080; font-weight: bold\">0</span><span style=\"font-weight: bold\">]])</span>\n",
       "</pre>\n"
      ],
      "text/plain": [
       "\u001b[1;35mtensor\u001b[0m\u001b[1m(\u001b[0m\u001b[1m[\u001b[0m\u001b[1m[\u001b[0m \u001b[1;36m1\u001b[0m, \u001b[1;36m10\u001b[0m,  \u001b[1;36m5\u001b[0m,  \u001b[1;36m2\u001b[0m\u001b[1m]\u001b[0m,\n",
       "\u001b[2;32m│   │   \u001b[0m\u001b[1m[\u001b[0m \u001b[1;36m1\u001b[0m, \u001b[1;36m17\u001b[0m,  \u001b[1;36m2\u001b[0m,  \u001b[1;36m0\u001b[0m\u001b[1m]\u001b[0m\u001b[1m]\u001b[0m\u001b[1m)\u001b[0m\n"
      ]
     },
     "metadata": {},
     "output_type": "display_data"
    }
   ],
   "source": [
    "# Separate the user inputs and bot responses\n",
    "user_inputs, bot_responses = zip(*batch)\n",
    "\n",
    "# Pad the user inputs\n",
    "user_inputs_padded = pad_sequence(\n",
    "    user_inputs, padding_value=v[\"<PAD>\"], batch_first=True\n",
    ")\n",
    "\n",
    "# Pad the bot responses\n",
    "bot_responses_padded = pad_sequence(\n",
    "    bot_responses, padding_value=v[\"<PAD>\"], batch_first=True\n",
    ")\n",
    "\n",
    "# Let's check the output\n",
    "print(\"User inputs (padded):\")\n",
    "pprint(user_inputs_padded)\n",
    "print(\"Bot responses (padded):\")\n",
    "pprint(bot_responses_padded)\n"
   ]
  },
  {
   "cell_type": "markdown",
   "metadata": {},
   "source": [
    "\n",
    "In this code, we first create a batch of sentences by taking the first two pairs of sentences from `train_data`. We then separate the English and French sentences, and pad each set of sentences using `pad_sequence`.\n",
    "\n",
    "This should give you padded sentences where all sentences in a batch have the same length. The shorter sentences in the batch are padded with the `<PAD>` token to make them the same length as the longest sentence in the batch.\n",
    "\n",
    "However, in practice, you would typically handle padding in the `collate_fn` function when you create your `DataLoader`, as this allows you to create batches of any size and automatically pad the sentences in each batch to the correct length."
   ]
  },
  {
   "cell_type": "markdown",
   "metadata": {},
   "source": [
    "## Intuition\n",
    "\n",
    "So far, the intuition is simple, to convert words in sentences to numbers,\n",
    "we achieved this through a series of preprocessing steps such as tokenization,\n",
    "padding, and attention mask. \n"
   ]
  },
  {
   "cell_type": "markdown",
   "metadata": {},
   "source": [
    "## Dataset class."
   ]
  },
  {
   "cell_type": "code",
   "execution_count": 11,
   "metadata": {},
   "outputs": [],
   "source": [
    "class ChatDataset(Dataset):\n",
    "    def __init__(\n",
    "        self,\n",
    "        data: List[Tuple[str, str]],\n",
    "        tokenizer_type: str = \"basic_english\",\n",
    "        specials: List[str] = [\"<PAD>\", \"<SOS>\", \"<EOS>\", \"<UNK>\"],\n",
    "    ) -> None:\n",
    "        self.data = data\n",
    "        self.tokenizer_type = tokenizer_type\n",
    "        self.tokenizer = get_tokenizer(tokenizer_type)\n",
    "        self.specials = specials\n",
    "        self.vocab = self.build_vocab()\n",
    "        self.padded_data = self.pad_data()\n",
    "\n",
    "    def __getitem__(self, index: int) -> Dict[str, torch.Tensor]:\n",
    "        input_ids, target_ids = self.padded_data[index]\n",
    "        item = {\n",
    "            \"input_ids\": input_ids,\n",
    "            \"attention_mask\": (input_ids != self.vocab[\"<PAD>\"]).type(torch.long),\n",
    "            \"target_ids\": target_ids,\n",
    "        }\n",
    "        return item\n",
    "\n",
    "    def __len__(self) -> int:\n",
    "        return len(self.padded_data)\n",
    "\n",
    "    @property\n",
    "    def vocab_size(self) -> int:\n",
    "        return len(self.vocab)\n",
    "\n",
    "    def build_vocab(self) -> vocab:\n",
    "        counter = Counter()\n",
    "        for (user_input, bot_response) in self.data:\n",
    "            counter.update(self.tokenizer(user_input))\n",
    "            counter.update(self.tokenizer(bot_response))\n",
    "\n",
    "        sorted_by_freq_tuples = sorted(\n",
    "            counter.items(), key=lambda x: x[1], reverse=True\n",
    "        )\n",
    "        ordered_dict = OrderedDict(sorted_by_freq_tuples)\n",
    "\n",
    "        v = vocab(ordered_dict)\n",
    "        for i, token in enumerate(self.specials):\n",
    "            v.insert_token(token, i)\n",
    "\n",
    "        return v\n",
    "\n",
    "    def pad_data(self) -> List[Tuple[torch.Tensor, torch.Tensor]]:\n",
    "        train_data_padded = []\n",
    "        for (user_input, bot_response) in self.data:\n",
    "            user_input_tensor = self._text_to_tensor(user_input)\n",
    "            bot_response_tensor = self._text_to_tensor(bot_response)\n",
    "            user_input_tensor_padded = self._pad_sequence(user_input_tensor)\n",
    "            bot_response_tensor_padded = self._pad_sequence(bot_response_tensor)\n",
    "            train_data_padded.append(\n",
    "                (user_input_tensor_padded, bot_response_tensor_padded)\n",
    "            )\n",
    "        return train_data_padded\n",
    "\n",
    "    def _text_to_tensor(self, text: str) -> torch.Tensor:\n",
    "        return torch.tensor(\n",
    "            [self.vocab[\"<SOS>\"]]\n",
    "            + [self.vocab[token] for token in self.tokenizer(text)]\n",
    "            + [self.vocab[\"<EOS>\"]],\n",
    "            dtype=torch.long,\n",
    "        )\n",
    "\n",
    "    def _pad_sequence(self, tensor: torch.Tensor) -> torch.Tensor:\n",
    "        return pad_sequence(\n",
    "            [tensor], padding_value=self.vocab[\"<PAD>\"], batch_first=True\n",
    "        ).squeeze()"
   ]
  },
  {
   "cell_type": "code",
   "execution_count": 12,
   "metadata": {},
   "outputs": [],
   "source": [
    "dataset = ChatDataset(training_data)\n",
    "\n",
    "assert len(dataset) == N"
   ]
  },
  {
   "cell_type": "markdown",
   "metadata": {},
   "source": [
    "If you run the below code, you get error\n",
    "\n",
    "```python\n",
    "RuntimeError: stack expects each tensor to be equal size, but got [6] at entry 0 and [5] at entry 1\n",
    "```\n",
    "\n",
    "because you have different length of sentences in the batch.\n",
    "So we need to apply padding properly."
   ]
  },
  {
   "cell_type": "code",
   "execution_count": 13,
   "metadata": {},
   "outputs": [],
   "source": [
    "# Use DataLoader\n",
    "# batch_size = 2\n",
    "# dataloader = DataLoader(dataset, batch_size=batch_size, shuffle=True)\n",
    "\n",
    "# # Iterate over data\n",
    "# for i, batch in enumerate(dataloader):\n",
    "#     print(f\"Batch {i+1}\")\n",
    "#     print(f\"Input IDs: {batch['input_ids']}\")\n",
    "#     print(f\"Attention Mask: {batch['attention_mask']}\")\n",
    "#     print(f\"Target IDs: {batch['target_ids']}\")\n"
   ]
  },
  {
   "cell_type": "code",
   "execution_count": 14,
   "metadata": {},
   "outputs": [],
   "source": [
    "def collate_fn(batch: List[Dict[str, torch.Tensor]]) -> Dict[str, torch.Tensor]:\n",
    "    input_ids = [item['input_ids'] for item in batch]\n",
    "    target_ids = [item['target_ids'] for item in batch]\n",
    "\n",
    "    input_ids = pad_sequence(input_ids, batch_first=True, padding_value=dataset.vocab[\"<PAD>\"])\n",
    "    target_ids = pad_sequence(target_ids, batch_first=True, padding_value=dataset.vocab[\"<PAD>\"])\n",
    "\n",
    "    attention_mask = (input_ids != dataset.vocab[\"<PAD>\"]).type(torch.long)\n",
    "\n",
    "    return {\n",
    "        \"input_ids\": input_ids,\n",
    "        \"attention_mask\": attention_mask,\n",
    "        \"target_ids\": target_ids\n",
    "    }\n"
   ]
  },
  {
   "cell_type": "markdown",
   "metadata": {},
   "source": [
    "I set `shuffle=False` because I want to keep the order of the data for easy\n",
    "visualization later."
   ]
  },
  {
   "cell_type": "code",
   "execution_count": 15,
   "metadata": {},
   "outputs": [
    {
     "name": "stdout",
     "output_type": "stream",
     "text": [
      "Batch 4\n",
      "\n",
      "Input IDs:\n",
      "[[ 1, 18,  8,  9, 19,  2],\n",
      " [ 1,  8,  4,  2,  0,  0]]\n",
      "\n",
      "Attention Mask:\n",
      "[[1, 1, 1, 1, 1, 1],\n",
      " [1, 1, 1, 1, 0, 0]]\n",
      "\n",
      "Target IDs:\n",
      "[[1, 6, 9, 2],\n",
      " [1, 6, 5, 2]]\n"
     ]
    }
   ],
   "source": [
    "# Use DataLoader\n",
    "def create_dataloader(\n",
    "    dataset: Dataset, batch_size: int, shuffle: bool = True, **kwargs: Dict[str, Any]\n",
    ") -> DataLoader:\n",
    "    return DataLoader(dataset, batch_size=batch_size, shuffle=shuffle, **kwargs)\n",
    "\n",
    "\n",
    "batch_size = 2\n",
    "dataloader = create_dataloader(\n",
    "    dataset, batch_size=batch_size, shuffle=False, collate_fn=collate_fn\n",
    ")\n",
    "\n",
    "\n",
    "# Iterate over data\n",
    "for i, batch in enumerate(dataloader):\n",
    "    if i == 3:\n",
    "        print(f\"Batch {i+1}\\n\")\n",
    "        print(\n",
    "            f\"Input IDs:\\n{np.array2string(batch['input_ids'].numpy(), separator=', ')}\\n\"\n",
    "        )\n",
    "        print(\n",
    "            f\"Attention Mask:\\n{np.array2string(batch['attention_mask'].numpy(), separator=', ')}\\n\"\n",
    "        )\n",
    "        print(\n",
    "            f\"Target IDs:\\n{np.array2string(batch['target_ids'].numpy(), separator=', ')}\"\n",
    "        )\n"
   ]
  },
  {
   "cell_type": "markdown",
   "metadata": {},
   "source": [
    "We see the last batch and input ids and target ids are easy, but the\n",
    "attention mask means that the model should not pay attention to the\n",
    "padding tokens. As we know they are a bit like dummy tokens."
   ]
  },
  {
   "cell_type": "markdown",
   "metadata": {},
   "source": [
    "```python\n",
    "(tensor([ 1, 18,  8,  9, 19,  2]), tensor([1, 6, 9, 2])),\n",
    "(tensor([1, 8, 4, 2]), tensor([1, 6, 5, 2]))\n",
    "```"
   ]
  },
  {
   "cell_type": "markdown",
   "metadata": {},
   "source": [
    "In the context of transformer models such as BERT or GPT, an attention mask is a binary tensor indicating the position of the padded indices so that the model does not attend to these positions.\n",
    "\n",
    "The attention mechanism in transformer models allows them to focus on different words in the input sequence when producing the output. However, when processing the input data, we often pad shorter sentences with special tokens (like \"<PAD>\") to make all sentences the same length. We don't want the model to focus on these padding tokens, as they don't contain any useful information.\n",
    "\n",
    "The attention mask has the same length as the input sequence and has a value of 1 for real tokens and a value of 0 for padding tokens. It tells the model to ignore (by setting to zero) the attention scores of padding tokens so that they don't affect the result."
   ]
  },
  {
   "cell_type": "markdown",
   "metadata": {},
   "source": [
    "## First layer - Word embeddings + Positional embeddings\n",
    "\n",
    "In the original \"Attention is All You Need\" paper where Transformers were first introduced, the authors proposed the use of two types of embeddings: token embeddings and position embeddings.\n",
    "\n",
    "1. **Token Embeddings**: These are the embeddings that we commonly refer to when talking about word embeddings. They are learned from the data and represent the individual words (or tokens) from the vocabulary. For example, the words \"queen\" and \"king\" will have their unique vectors in this embedding space.\n",
    "\n",
    "2. **Position Embeddings**: These are an additional type of embedding introduced specifically in Transformers. They represent the position of a word in a sentence. This is important because unlike previous architectures like RNNs, Transformers do not have an inherent understanding of the position or order of words in a sentence. These position embeddings are added to the token embeddings to give the model information about the position of the words.\n",
    "\n",
    "In summary, the first block in the Transformer's architecture is a combination of token and position embeddings. Both are vital for the model to understand the data correctly. If you would like to only focus on token embeddings for now, you can just use the `nn.Embedding` layer in PyTorch, but it's important to remember that this will only get you part way to replicating the Transformer's architecture.\n",
    "\n",
    "We look at the first part, the token embeddings, in more detail below."
   ]
  },
  {
   "cell_type": "markdown",
   "metadata": {},
   "source": [
    "### Token Embeddings"
   ]
  },
  {
   "cell_type": "markdown",
   "metadata": {},
   "source": [
    "The first layer in a transformer is indeed the embedding layer. This layer takes in words as input and outputs corresponding dense vectors. These vectors capture semantic meanings of the words, and words with similar meanings have vectors that are close in the vector space.\n",
    "\n",
    "An embedding layer is essentially a simple lookup table that's learned from data. It is a matrix where each row corresponds to a vector for a particular word in the vocabulary. The dimension of these vectors, also called the embedding dimension, is a hyperparameter. \n",
    "\n",
    "The intuition here is to transform sparse one-hot vectors representing words into dense vectors with lower dimensionality. These dense vectors can capture relationships between words in a more expressive way than the original one-hot vectors.\n",
    "\n",
    "In PyTorch, you can create an embedding layer using `nn.Embedding`. Here's how you can do it for your transformer:\n"
   ]
  },
  {
   "cell_type": "code",
   "execution_count": 16,
   "metadata": {},
   "outputs": [],
   "source": [
    "class TokenEmbedding(nn.Module):\n",
    "    def __init__(self, vocab_size: int, embedding_dim: int) -> None:\n",
    "        super(TokenEmbedding, self).__init__()\n",
    "        self.token_emb = nn.Embedding(vocab_size, embedding_dim)\n",
    "\n",
    "        self.init_weights()\n",
    "\n",
    "    def init_weights(self) -> None:\n",
    "        nn.init.kaiming_normal_(self.token_emb.weight)\n",
    "\n",
    "    def forward(self, x: torch.Tensor) -> torch.Tensor:\n",
    "        return self.token_emb(x)"
   ]
  },
  {
   "cell_type": "code",
   "execution_count": 17,
   "metadata": {},
   "outputs": [
    {
     "data": {
      "text/html": [
       "<pre style=\"white-space:pre;overflow-x:auto;line-height:normal;font-family:Menlo,'DejaVu Sans Mono',consolas,'Courier New',monospace\"><span style=\"color: #800080; text-decoration-color: #800080; font-weight: bold\">tensor</span><span style=\"font-weight: bold\">([[</span> <span style=\"color: #008080; text-decoration-color: #008080; font-weight: bold\">1</span>, <span style=\"color: #008080; text-decoration-color: #008080; font-weight: bold\">10</span>,  <span style=\"color: #008080; text-decoration-color: #008080; font-weight: bold\">4</span>,  <span style=\"color: #008080; text-decoration-color: #008080; font-weight: bold\">2</span><span style=\"font-weight: bold\">]</span>,\n",
       "<span style=\"color: #7fbf7f; text-decoration-color: #7fbf7f\">│   │   </span><span style=\"font-weight: bold\">[</span> <span style=\"color: #008080; text-decoration-color: #008080; font-weight: bold\">1</span>,  <span style=\"color: #008080; text-decoration-color: #008080; font-weight: bold\">6</span>, <span style=\"color: #008080; text-decoration-color: #008080; font-weight: bold\">11</span>,  <span style=\"color: #008080; text-decoration-color: #008080; font-weight: bold\">2</span><span style=\"font-weight: bold\">]])</span>\n",
       "</pre>\n"
      ],
      "text/plain": [
       "\u001b[1;35mtensor\u001b[0m\u001b[1m(\u001b[0m\u001b[1m[\u001b[0m\u001b[1m[\u001b[0m \u001b[1;36m1\u001b[0m, \u001b[1;36m10\u001b[0m,  \u001b[1;36m4\u001b[0m,  \u001b[1;36m2\u001b[0m\u001b[1m]\u001b[0m,\n",
       "\u001b[2;32m│   │   \u001b[0m\u001b[1m[\u001b[0m \u001b[1;36m1\u001b[0m,  \u001b[1;36m6\u001b[0m, \u001b[1;36m11\u001b[0m,  \u001b[1;36m2\u001b[0m\u001b[1m]\u001b[0m\u001b[1m]\u001b[0m\u001b[1m)\u001b[0m\n"
      ]
     },
     "metadata": {},
     "output_type": "display_data"
    },
    {
     "data": {
      "text/html": [
       "<pre style=\"white-space:pre;overflow-x:auto;line-height:normal;font-family:Menlo,'DejaVu Sans Mono',consolas,'Courier New',monospace\"><span style=\"color: #800080; text-decoration-color: #800080; font-weight: bold\">tensor</span><span style=\"font-weight: bold\">([[[</span><span style=\"color: #008080; text-decoration-color: #008080; font-weight: bold\">-0.2766</span>, <span style=\"color: #008080; text-decoration-color: #008080; font-weight: bold\">-1.0947</span>, <span style=\"color: #008080; text-decoration-color: #008080; font-weight: bold\">-0.4780</span><span style=\"font-weight: bold\">]</span>,\n",
       "<span style=\"color: #7fbf7f; text-decoration-color: #7fbf7f\">│   │    </span><span style=\"font-weight: bold\">[</span> <span style=\"color: #008080; text-decoration-color: #008080; font-weight: bold\">0.2163</span>,  <span style=\"color: #008080; text-decoration-color: #008080; font-weight: bold\">1.0395</span>, <span style=\"color: #008080; text-decoration-color: #008080; font-weight: bold\">-0.7271</span><span style=\"font-weight: bold\">]</span>,\n",
       "<span style=\"color: #7fbf7f; text-decoration-color: #7fbf7f\">│   │    </span><span style=\"font-weight: bold\">[</span><span style=\"color: #008080; text-decoration-color: #008080; font-weight: bold\">-0.8569</span>,  <span style=\"color: #008080; text-decoration-color: #008080; font-weight: bold\">0.4931</span>, <span style=\"color: #008080; text-decoration-color: #008080; font-weight: bold\">-1.4062</span><span style=\"font-weight: bold\">]</span>,\n",
       "<span style=\"color: #7fbf7f; text-decoration-color: #7fbf7f\">│   │    </span><span style=\"font-weight: bold\">[</span> <span style=\"color: #008080; text-decoration-color: #008080; font-weight: bold\">0.4378</span>,  <span style=\"color: #008080; text-decoration-color: #008080; font-weight: bold\">0.4284</span>, <span style=\"color: #008080; text-decoration-color: #008080; font-weight: bold\">-1.1996</span><span style=\"font-weight: bold\">]]</span>,\n",
       "<span style=\"color: #7fbf7f; text-decoration-color: #7fbf7f\">│   │   </span>\n",
       "<span style=\"color: #7fbf7f; text-decoration-color: #7fbf7f\">│   │   </span><span style=\"font-weight: bold\">[[</span><span style=\"color: #008080; text-decoration-color: #008080; font-weight: bold\">-0.2766</span>, <span style=\"color: #008080; text-decoration-color: #008080; font-weight: bold\">-1.0947</span>, <span style=\"color: #008080; text-decoration-color: #008080; font-weight: bold\">-0.4780</span><span style=\"font-weight: bold\">]</span>,\n",
       "<span style=\"color: #7fbf7f; text-decoration-color: #7fbf7f\">│   │    </span><span style=\"font-weight: bold\">[</span><span style=\"color: #008080; text-decoration-color: #008080; font-weight: bold\">-2.0490</span>,  <span style=\"color: #008080; text-decoration-color: #008080; font-weight: bold\">0.3985</span>,  <span style=\"color: #008080; text-decoration-color: #008080; font-weight: bold\">0.6406</span><span style=\"font-weight: bold\">]</span>,\n",
       "<span style=\"color: #7fbf7f; text-decoration-color: #7fbf7f\">│   │    </span><span style=\"font-weight: bold\">[</span> <span style=\"color: #008080; text-decoration-color: #008080; font-weight: bold\">0.3346</span>, <span style=\"color: #008080; text-decoration-color: #008080; font-weight: bold\">-1.1897</span>, <span style=\"color: #008080; text-decoration-color: #008080; font-weight: bold\">-0.0836</span><span style=\"font-weight: bold\">]</span>,\n",
       "<span style=\"color: #7fbf7f; text-decoration-color: #7fbf7f\">│   │    </span><span style=\"font-weight: bold\">[</span> <span style=\"color: #008080; text-decoration-color: #008080; font-weight: bold\">0.4378</span>,  <span style=\"color: #008080; text-decoration-color: #008080; font-weight: bold\">0.4284</span>, <span style=\"color: #008080; text-decoration-color: #008080; font-weight: bold\">-1.1996</span><span style=\"font-weight: bold\">]]]</span>, <span style=\"color: #808000; text-decoration-color: #808000\">grad_fn</span>=<span style=\"font-weight: bold\">&lt;</span><span style=\"color: #ff00ff; text-decoration-color: #ff00ff; font-weight: bold\">EmbeddingBackward0</span><span style=\"font-weight: bold\">&gt;)</span>\n",
       "</pre>\n"
      ],
      "text/plain": [
       "\u001b[1;35mtensor\u001b[0m\u001b[1m(\u001b[0m\u001b[1m[\u001b[0m\u001b[1m[\u001b[0m\u001b[1m[\u001b[0m\u001b[1;36m-0.2766\u001b[0m, \u001b[1;36m-1.0947\u001b[0m, \u001b[1;36m-0.4780\u001b[0m\u001b[1m]\u001b[0m,\n",
       "\u001b[2;32m│   │    \u001b[0m\u001b[1m[\u001b[0m \u001b[1;36m0.2163\u001b[0m,  \u001b[1;36m1.0395\u001b[0m, \u001b[1;36m-0.7271\u001b[0m\u001b[1m]\u001b[0m,\n",
       "\u001b[2;32m│   │    \u001b[0m\u001b[1m[\u001b[0m\u001b[1;36m-0.8569\u001b[0m,  \u001b[1;36m0.4931\u001b[0m, \u001b[1;36m-1.4062\u001b[0m\u001b[1m]\u001b[0m,\n",
       "\u001b[2;32m│   │    \u001b[0m\u001b[1m[\u001b[0m \u001b[1;36m0.4378\u001b[0m,  \u001b[1;36m0.4284\u001b[0m, \u001b[1;36m-1.1996\u001b[0m\u001b[1m]\u001b[0m\u001b[1m]\u001b[0m,\n",
       "\u001b[2;32m│   │   \u001b[0m\n",
       "\u001b[2;32m│   │   \u001b[0m\u001b[1m[\u001b[0m\u001b[1m[\u001b[0m\u001b[1;36m-0.2766\u001b[0m, \u001b[1;36m-1.0947\u001b[0m, \u001b[1;36m-0.4780\u001b[0m\u001b[1m]\u001b[0m,\n",
       "\u001b[2;32m│   │    \u001b[0m\u001b[1m[\u001b[0m\u001b[1;36m-2.0490\u001b[0m,  \u001b[1;36m0.3985\u001b[0m,  \u001b[1;36m0.6406\u001b[0m\u001b[1m]\u001b[0m,\n",
       "\u001b[2;32m│   │    \u001b[0m\u001b[1m[\u001b[0m \u001b[1;36m0.3346\u001b[0m, \u001b[1;36m-1.1897\u001b[0m, \u001b[1;36m-0.0836\u001b[0m\u001b[1m]\u001b[0m,\n",
       "\u001b[2;32m│   │    \u001b[0m\u001b[1m[\u001b[0m \u001b[1;36m0.4378\u001b[0m,  \u001b[1;36m0.4284\u001b[0m, \u001b[1;36m-1.1996\u001b[0m\u001b[1m]\u001b[0m\u001b[1m]\u001b[0m\u001b[1m]\u001b[0m, \u001b[33mgrad_fn\u001b[0m=\u001b[1m<\u001b[0m\u001b[1;95mEmbeddingBackward0\u001b[0m\u001b[1m>\u001b[0m\u001b[1m)\u001b[0m\n"
      ]
     },
     "metadata": {},
     "output_type": "display_data"
    }
   ],
   "source": [
    "# Usage\n",
    "embedding_dim = 3\n",
    "embedding_layer = TokenEmbedding(len(dataset.vocab), embedding_dim)\n",
    "\n",
    "# After you've loaded your batch from your dataloader\n",
    "for i, batch in enumerate(dataloader):\n",
    "    if i == 0:\n",
    "        input_ids = batch[\"input_ids\"]\n",
    "        embedded_sequences = embedding_layer(input_ids)\n",
    "\n",
    "        pprint(input_ids)\n",
    "        pprint(embedded_sequences)\n",
    "        break"
   ]
  },
  {
   "cell_type": "markdown",
   "metadata": {},
   "source": [
    "In the above code, `nn.Embedding(vocab_size, embedding_dim)` creates an embedding layer with `vocab_size` number of embeddings each of dimension `embedding_dim`. \n",
    "\n",
    "In the `forward` method, we compute token embeddings of the input ids by passing them through the embedding layer. \n",
    "\n",
    "This is a very simple embedding layer for a transformer. In reality, you might want to add more complexity like dropout, layer normalization, and positional encoding instead of simple position embeddings. Also, transformer-based models like BERT use subword tokenization, which adds another layer of complexity to the embedding layer. But this should give you a good starting point."
   ]
  },
  {
   "cell_type": "markdown",
   "metadata": {},
   "source": [
    "### What is the `nn.Embedding` layer?\n",
    "\n",
    "When you use an embedding layer like `nn.Embedding` in PyTorch, what you are effectively doing is learning a kind of word2vec (or similar) model as part of your larger model. The `nn.Embedding` layer is initialized with random weights, and these weights are then adjusted during training through backpropagation. The goal is to learn word embeddings that are useful for the specific task your model is trying to achieve. \n",
    "\n",
    "This is slightly different from using a pre-trained word embedding like word2vec or GloVe. In those cases, the embeddings are trained beforehand on a large corpus of text with the aim of capturing semantic similarities between words. These pre-trained embeddings can be useful when you don't have a lot of training data, or when you want to leverage the semantic knowledge captured by these models.\n",
    "\n",
    "When training a Transformer model from scratch, it's common to learn the embeddings from scratch as well, as part of the model. This allows the model to learn embeddings that are tailored to the specific task it's trying to solve. However, it's also possible to use pre-trained embeddings, especially in cases where the training data is limited.\n",
    "\n",
    "In summary, using `nn.Embedding` in PyTorch doesn't preclude the use of word2vec-like embeddings. It's just a different approach, and the right one to use depends on the specifics of your task and dataset."
   ]
  },
  {
   "cell_type": "markdown",
   "metadata": {},
   "source": [
    "So this embeddings below corresponds to the first two data points (sentences).\n",
    "\n",
    "```python\n",
    "tensor([[[-0.2766, -1.0947, -0.4780],\n",
    "│   │    [ 0.2163,  1.0395, -0.7271],\n",
    "│   │    [-0.8569,  0.4931, -1.4062],\n",
    "│   │    [ 0.4378,  0.4284, -1.1996]],\n",
    "│   │   \n",
    "│   │   [[-0.2766, -1.0947, -0.4780],\n",
    "│   │    [-2.0490,  0.3985,  0.6406],\n",
    "│   │    [ 0.3346, -1.1897, -0.0836],\n",
    "│   │    [ 0.4378,  0.4284, -1.1996]]], grad_fn=<EmbeddingBackward0>)\n",
    "```"
   ]
  },
  {
   "cell_type": "markdown",
   "metadata": {},
   "source": [
    "#### Why is first and last token always the same?\n",
    "\n",
    "The reason why the first and the last embeddings are the same is due to the use of special tokens `<SOS>` (Start Of Sentence) and `<EOS>` (End Of Sentence) in your sequences. In your pre-processing steps, each sentence is surrounded by these special tokens.\n",
    "\n",
    "When you feed these sequences into the `TokenEmbedding` layer, each unique token gets a unique embedding. Since the `<SOS>` token is always the first token in your sequences, it always gets the same embedding. The same goes for the `<EOS>` token, which is always the last token in your sequences.\n",
    "\n",
    "Hence, for every sequence, the first and the last embeddings are the same because they correspond to the `<SOS>` and `<EOS>` tokens, respectively. The embeddings for these tokens do not change unless the model is trained and the weights of the embedding layer get updated.\n",
    "\n",
    "You might see different weights for the `<SOS>` and `<EOS>` tokens in different batches if you shuffle your dataset between epochs and train your model, because the model is learning to update the weights of these tokens based on the context in which they appear.\n",
    "\n",
    "That being said, note that the purpose of these special tokens is not to carry semantic meaning like the other words in the vocabulary, but to provide structural information to the model. In the case of transformers, they also provide positions for the positional encodings."
   ]
  },
  {
   "cell_type": "markdown",
   "metadata": {},
   "source": [
    "#### First Input ID drill down\n",
    "\n",
    "To drill down further, let's just consider the first data point."
   ]
  },
  {
   "cell_type": "code",
   "execution_count": 18,
   "metadata": {},
   "outputs": [
    {
     "data": {
      "text/html": [
       "<pre style=\"white-space:pre;overflow-x:auto;line-height:normal;font-family:Menlo,'DejaVu Sans Mono',consolas,'Courier New',monospace\"><span style=\"color: #800080; text-decoration-color: #800080; font-weight: bold\">tensor</span><span style=\"font-weight: bold\">([</span> <span style=\"color: #008080; text-decoration-color: #008080; font-weight: bold\">1</span>, <span style=\"color: #008080; text-decoration-color: #008080; font-weight: bold\">10</span>,  <span style=\"color: #008080; text-decoration-color: #008080; font-weight: bold\">4</span>,  <span style=\"color: #008080; text-decoration-color: #008080; font-weight: bold\">2</span><span style=\"font-weight: bold\">])</span>\n",
       "</pre>\n"
      ],
      "text/plain": [
       "\u001b[1;35mtensor\u001b[0m\u001b[1m(\u001b[0m\u001b[1m[\u001b[0m \u001b[1;36m1\u001b[0m, \u001b[1;36m10\u001b[0m,  \u001b[1;36m4\u001b[0m,  \u001b[1;36m2\u001b[0m\u001b[1m]\u001b[0m\u001b[1m)\u001b[0m\n"
      ]
     },
     "metadata": {},
     "output_type": "display_data"
    },
    {
     "data": {
      "text/html": [
       "<pre style=\"white-space:pre;overflow-x:auto;line-height:normal;font-family:Menlo,'DejaVu Sans Mono',consolas,'Courier New',monospace\"><span style=\"color: #800080; text-decoration-color: #800080; font-weight: bold\">tensor</span><span style=\"font-weight: bold\">([[</span><span style=\"color: #008080; text-decoration-color: #008080; font-weight: bold\">-0.2766</span>, <span style=\"color: #008080; text-decoration-color: #008080; font-weight: bold\">-1.0947</span>, <span style=\"color: #008080; text-decoration-color: #008080; font-weight: bold\">-0.4780</span><span style=\"font-weight: bold\">]</span>,\n",
       "<span style=\"color: #7fbf7f; text-decoration-color: #7fbf7f\">│   │   </span><span style=\"font-weight: bold\">[</span> <span style=\"color: #008080; text-decoration-color: #008080; font-weight: bold\">0.2163</span>,  <span style=\"color: #008080; text-decoration-color: #008080; font-weight: bold\">1.0395</span>, <span style=\"color: #008080; text-decoration-color: #008080; font-weight: bold\">-0.7271</span><span style=\"font-weight: bold\">]</span>,\n",
       "<span style=\"color: #7fbf7f; text-decoration-color: #7fbf7f\">│   │   </span><span style=\"font-weight: bold\">[</span><span style=\"color: #008080; text-decoration-color: #008080; font-weight: bold\">-0.8569</span>,  <span style=\"color: #008080; text-decoration-color: #008080; font-weight: bold\">0.4931</span>, <span style=\"color: #008080; text-decoration-color: #008080; font-weight: bold\">-1.4062</span><span style=\"font-weight: bold\">]</span>,\n",
       "<span style=\"color: #7fbf7f; text-decoration-color: #7fbf7f\">│   │   </span><span style=\"font-weight: bold\">[</span> <span style=\"color: #008080; text-decoration-color: #008080; font-weight: bold\">0.4378</span>,  <span style=\"color: #008080; text-decoration-color: #008080; font-weight: bold\">0.4284</span>, <span style=\"color: #008080; text-decoration-color: #008080; font-weight: bold\">-1.1996</span><span style=\"font-weight: bold\">]]</span>, <span style=\"color: #808000; text-decoration-color: #808000\">grad_fn</span>=<span style=\"font-weight: bold\">&lt;</span><span style=\"color: #ff00ff; text-decoration-color: #ff00ff; font-weight: bold\">SelectBackward0</span><span style=\"font-weight: bold\">&gt;)</span>\n",
       "</pre>\n"
      ],
      "text/plain": [
       "\u001b[1;35mtensor\u001b[0m\u001b[1m(\u001b[0m\u001b[1m[\u001b[0m\u001b[1m[\u001b[0m\u001b[1;36m-0.2766\u001b[0m, \u001b[1;36m-1.0947\u001b[0m, \u001b[1;36m-0.4780\u001b[0m\u001b[1m]\u001b[0m,\n",
       "\u001b[2;32m│   │   \u001b[0m\u001b[1m[\u001b[0m \u001b[1;36m0.2163\u001b[0m,  \u001b[1;36m1.0395\u001b[0m, \u001b[1;36m-0.7271\u001b[0m\u001b[1m]\u001b[0m,\n",
       "\u001b[2;32m│   │   \u001b[0m\u001b[1m[\u001b[0m\u001b[1;36m-0.8569\u001b[0m,  \u001b[1;36m0.4931\u001b[0m, \u001b[1;36m-1.4062\u001b[0m\u001b[1m]\u001b[0m,\n",
       "\u001b[2;32m│   │   \u001b[0m\u001b[1m[\u001b[0m \u001b[1;36m0.4378\u001b[0m,  \u001b[1;36m0.4284\u001b[0m, \u001b[1;36m-1.1996\u001b[0m\u001b[1m]\u001b[0m\u001b[1m]\u001b[0m, \u001b[33mgrad_fn\u001b[0m=\u001b[1m<\u001b[0m\u001b[1;95mSelectBackward0\u001b[0m\u001b[1m>\u001b[0m\u001b[1m)\u001b[0m\n"
      ]
     },
     "metadata": {},
     "output_type": "display_data"
    }
   ],
   "source": [
    "first_input = dataset[0][\"input_ids\"]\n",
    "pprint(first_input)\n",
    "\n",
    "first_input_embeddings = embedded_sequences[0]\n",
    "pprint(first_input_embeddings)\n",
    "\n",
    "# equivalent to:\n",
    "assert_equal = functools.partial(torch.testing.assert_close, rtol=0, atol=0)\n",
    "assert_equal(first_input_embeddings, embedding_layer.token_emb(first_input))"
   ]
  },
  {
   "cell_type": "markdown",
   "metadata": {},
   "source": [
    "In the scenario you've outlined:\n",
    "\n",
    "1. The sentence \"Hello bot\" has been preprocessed into the sequence of token IDs `[1, 10, 4, 2]`. \n",
    "\n",
    "2. Your `TokenEmbedding` model is learning a unique vector representation (i.e., an embedding) for each unique token ID in your vocabulary.\n",
    "\n",
    "    ```python\n",
    "    tensor([[-0.2766, -1.0947, -0.4780],\n",
    "    │   │   [ 0.2163,  1.0395, -0.7271],\n",
    "    │   │   [-0.8569,  0.4931, -1.4062],\n",
    "    │   │   [ 0.4378,  0.4284, -1.1996]], grad_fn=<SelectBackward0>)\n",
    "    ```\n",
    "\n",
    "3. When you pass your sequence of token IDs `[1, 10, 4, 2]` into your `TokenEmbedding` model, it looks up the vector representation for each token ID in the sequence, effectively converting your sequence of token IDs into a sequence of embeddings.\n",
    "\n",
    "4. The tensor that is output by the model represents these embeddings. Each row in the tensor corresponds to the embedding for the respective token ID in your sequence.\n",
    "\n",
    "In summary, your understanding is correct: the tensor represents the \"learnt word/token embeddings\" for the input sentence."
   ]
  },
  {
   "cell_type": "markdown",
   "metadata": {},
   "source": [
    "and its weights.\n",
    "\n",
    "In the context of neural networks, \"weights\" often refer to the parameters that the model learns during training. These are the values that are updated in each iteration of the optimization process, with the aim to minimize the loss function.\n",
    "\n",
    "The Embedding layer in PyTorch is essentially a lookup table that maps each token in the vocabulary to a vector in a high-dimensional space. The \"weights\" in the Embedding layer are the values of these vectors. Each row in the weight matrix corresponds to the vector for a specific token.\n",
    "\n",
    "For a vocabulary of `vocab_size` and an embedding size of `embedding_dim`, the Embedding layer will have a weight matrix of shape `(vocab_size, embedding_dim)`. Each row of this matrix is the embedding vector for a corresponding token in the vocabulary. For example, the first row of the matrix is the vector for the token with ID 0, the second row is for the token with ID 1, and so on.\n",
    "\n",
    "When the model is initialized, these weights are usually assigned random values. During training, the model learns the appropriate values for these weights based on the training data. The goal is to arrange the vectors in such a way that semantically similar words are located close to each other in the embedding space.\n",
    "\n",
    "To summarize, the weights in the Embedding layer represent the embeddings for each token in the vocabulary. They are the parameters that the model needs to learn from the data during training."
   ]
  },
  {
   "cell_type": "code",
   "execution_count": 19,
   "metadata": {},
   "outputs": [
    {
     "data": {
      "text/html": [
       "<pre style=\"white-space:pre;overflow-x:auto;line-height:normal;font-family:Menlo,'DejaVu Sans Mono',consolas,'Courier New',monospace\">Parameter containing:\n",
       "<span style=\"color: #800080; text-decoration-color: #800080; font-weight: bold\">tensor</span><span style=\"font-weight: bold\">([[</span> <span style=\"color: #008080; text-decoration-color: #008080; font-weight: bold\">0.2762</span>,  <span style=\"color: #008080; text-decoration-color: #008080; font-weight: bold\">1.3874</span>,  <span style=\"color: #008080; text-decoration-color: #008080; font-weight: bold\">0.0089</span><span style=\"font-weight: bold\">]</span>,\n",
       "<span style=\"color: #7fbf7f; text-decoration-color: #7fbf7f\">│   │   </span><span style=\"font-weight: bold\">[</span><span style=\"color: #008080; text-decoration-color: #008080; font-weight: bold\">-0.2766</span>, <span style=\"color: #008080; text-decoration-color: #008080; font-weight: bold\">-1.0947</span>, <span style=\"color: #008080; text-decoration-color: #008080; font-weight: bold\">-0.4780</span><span style=\"font-weight: bold\">]</span>,\n",
       "<span style=\"color: #7fbf7f; text-decoration-color: #7fbf7f\">│   │   </span><span style=\"font-weight: bold\">[</span> <span style=\"color: #008080; text-decoration-color: #008080; font-weight: bold\">0.4378</span>,  <span style=\"color: #008080; text-decoration-color: #008080; font-weight: bold\">0.4284</span>, <span style=\"color: #008080; text-decoration-color: #008080; font-weight: bold\">-1.1996</span><span style=\"font-weight: bold\">]</span>,\n",
       "<span style=\"color: #7fbf7f; text-decoration-color: #7fbf7f\">│   │   </span><span style=\"font-weight: bold\">[</span> <span style=\"color: #008080; text-decoration-color: #008080; font-weight: bold\">1.1702</span>,  <span style=\"color: #008080; text-decoration-color: #008080; font-weight: bold\">0.6074</span>, <span style=\"color: #008080; text-decoration-color: #008080; font-weight: bold\">-0.3932</span><span style=\"font-weight: bold\">]</span>,\n",
       "<span style=\"color: #7fbf7f; text-decoration-color: #7fbf7f\">│   │   </span><span style=\"font-weight: bold\">[</span><span style=\"color: #008080; text-decoration-color: #008080; font-weight: bold\">-0.8569</span>,  <span style=\"color: #008080; text-decoration-color: #008080; font-weight: bold\">0.4931</span>, <span style=\"color: #008080; text-decoration-color: #008080; font-weight: bold\">-1.4062</span><span style=\"font-weight: bold\">]</span>,\n",
       "<span style=\"color: #7fbf7f; text-decoration-color: #7fbf7f\">│   │   </span><span style=\"font-weight: bold\">[</span><span style=\"color: #008080; text-decoration-color: #008080; font-weight: bold\">-0.6759</span>, <span style=\"color: #008080; text-decoration-color: #008080; font-weight: bold\">-0.4063</span>,  <span style=\"color: #008080; text-decoration-color: #008080; font-weight: bold\">0.3876</span><span style=\"font-weight: bold\">]</span>,\n",
       "<span style=\"color: #7fbf7f; text-decoration-color: #7fbf7f\">│   │   </span><span style=\"font-weight: bold\">[</span><span style=\"color: #008080; text-decoration-color: #008080; font-weight: bold\">-2.0490</span>,  <span style=\"color: #008080; text-decoration-color: #008080; font-weight: bold\">0.3985</span>,  <span style=\"color: #008080; text-decoration-color: #008080; font-weight: bold\">0.6406</span><span style=\"font-weight: bold\">]</span>,\n",
       "<span style=\"color: #7fbf7f; text-decoration-color: #7fbf7f\">│   │   </span><span style=\"font-weight: bold\">[</span> <span style=\"color: #008080; text-decoration-color: #008080; font-weight: bold\">0.0234</span>,  <span style=\"color: #008080; text-decoration-color: #008080; font-weight: bold\">0.5232</span>,  <span style=\"color: #008080; text-decoration-color: #008080; font-weight: bold\">0.4762</span><span style=\"font-weight: bold\">]</span>,\n",
       "<span style=\"color: #7fbf7f; text-decoration-color: #7fbf7f\">│   │   </span><span style=\"font-weight: bold\">[</span> <span style=\"color: #008080; text-decoration-color: #008080; font-weight: bold\">0.1789</span>,  <span style=\"color: #008080; text-decoration-color: #008080; font-weight: bold\">0.4512</span>, <span style=\"color: #008080; text-decoration-color: #008080; font-weight: bold\">-0.1513</span><span style=\"font-weight: bold\">]</span>,\n",
       "<span style=\"color: #7fbf7f; text-decoration-color: #7fbf7f\">│   │   </span><span style=\"font-weight: bold\">[</span> <span style=\"color: #008080; text-decoration-color: #008080; font-weight: bold\">0.6146</span>,  <span style=\"color: #008080; text-decoration-color: #008080; font-weight: bold\">0.3305</span>,  <span style=\"color: #008080; text-decoration-color: #008080; font-weight: bold\">0.1457</span><span style=\"font-weight: bold\">]</span>,\n",
       "<span style=\"color: #7fbf7f; text-decoration-color: #7fbf7f\">│   │   </span><span style=\"font-weight: bold\">[</span> <span style=\"color: #008080; text-decoration-color: #008080; font-weight: bold\">0.2163</span>,  <span style=\"color: #008080; text-decoration-color: #008080; font-weight: bold\">1.0395</span>, <span style=\"color: #008080; text-decoration-color: #008080; font-weight: bold\">-0.7271</span><span style=\"font-weight: bold\">]</span>,\n",
       "<span style=\"color: #7fbf7f; text-decoration-color: #7fbf7f\">│   │   </span><span style=\"font-weight: bold\">[</span> <span style=\"color: #008080; text-decoration-color: #008080; font-weight: bold\">0.3346</span>, <span style=\"color: #008080; text-decoration-color: #008080; font-weight: bold\">-1.1897</span>, <span style=\"color: #008080; text-decoration-color: #008080; font-weight: bold\">-0.0836</span><span style=\"font-weight: bold\">]</span>,\n",
       "<span style=\"color: #7fbf7f; text-decoration-color: #7fbf7f\">│   │   </span><span style=\"font-weight: bold\">[</span><span style=\"color: #008080; text-decoration-color: #008080; font-weight: bold\">-0.4892</span>,  <span style=\"color: #008080; text-decoration-color: #008080; font-weight: bold\">0.3895</span>,  <span style=\"color: #008080; text-decoration-color: #008080; font-weight: bold\">0.5929</span><span style=\"font-weight: bold\">]</span>,\n",
       "<span style=\"color: #7fbf7f; text-decoration-color: #7fbf7f\">│   │   </span><span style=\"font-weight: bold\">[</span> <span style=\"color: #008080; text-decoration-color: #008080; font-weight: bold\">0.0744</span>,  <span style=\"color: #008080; text-decoration-color: #008080; font-weight: bold\">3.2951</span>,  <span style=\"color: #008080; text-decoration-color: #008080; font-weight: bold\">1.0447</span><span style=\"font-weight: bold\">]</span>,\n",
       "<span style=\"color: #7fbf7f; text-decoration-color: #7fbf7f\">│   │   </span><span style=\"font-weight: bold\">[</span><span style=\"color: #008080; text-decoration-color: #008080; font-weight: bold\">-0.0104</span>,  <span style=\"color: #008080; text-decoration-color: #008080; font-weight: bold\">0.1966</span>,  <span style=\"color: #008080; text-decoration-color: #008080; font-weight: bold\">0.0598</span><span style=\"font-weight: bold\">]</span>,\n",
       "<span style=\"color: #7fbf7f; text-decoration-color: #7fbf7f\">│   │   </span><span style=\"font-weight: bold\">[</span> <span style=\"color: #008080; text-decoration-color: #008080; font-weight: bold\">0.6684</span>,  <span style=\"color: #008080; text-decoration-color: #008080; font-weight: bold\">1.2088</span>,  <span style=\"color: #008080; text-decoration-color: #008080; font-weight: bold\">0.2816</span><span style=\"font-weight: bold\">]</span>,\n",
       "<span style=\"color: #7fbf7f; text-decoration-color: #7fbf7f\">│   │   </span><span style=\"font-weight: bold\">[</span><span style=\"color: #008080; text-decoration-color: #008080; font-weight: bold\">-1.1628</span>, <span style=\"color: #008080; text-decoration-color: #008080; font-weight: bold\">-0.0950</span>, <span style=\"color: #008080; text-decoration-color: #008080; font-weight: bold\">-0.7942</span><span style=\"font-weight: bold\">]</span>,\n",
       "<span style=\"color: #7fbf7f; text-decoration-color: #7fbf7f\">│   │   </span><span style=\"font-weight: bold\">[</span> <span style=\"color: #008080; text-decoration-color: #008080; font-weight: bold\">0.7826</span>, <span style=\"color: #008080; text-decoration-color: #008080; font-weight: bold\">-1.1705</span>, <span style=\"color: #008080; text-decoration-color: #008080; font-weight: bold\">-0.4626</span><span style=\"font-weight: bold\">]</span>,\n",
       "<span style=\"color: #7fbf7f; text-decoration-color: #7fbf7f\">│   │   </span><span style=\"font-weight: bold\">[</span><span style=\"color: #008080; text-decoration-color: #008080; font-weight: bold\">-0.3472</span>,  <span style=\"color: #008080; text-decoration-color: #008080; font-weight: bold\">0.2143</span>, <span style=\"color: #008080; text-decoration-color: #008080; font-weight: bold\">-1.1750</span><span style=\"font-weight: bold\">]</span>,\n",
       "<span style=\"color: #7fbf7f; text-decoration-color: #7fbf7f\">│   │   </span><span style=\"font-weight: bold\">[</span> <span style=\"color: #008080; text-decoration-color: #008080; font-weight: bold\">0.4257</span>,  <span style=\"color: #008080; text-decoration-color: #008080; font-weight: bold\">0.2848</span>,  <span style=\"color: #008080; text-decoration-color: #008080; font-weight: bold\">0.7900</span><span style=\"font-weight: bold\">]]</span>, <span style=\"color: #808000; text-decoration-color: #808000\">requires_grad</span>=<span style=\"color: #00ff00; text-decoration-color: #00ff00; font-style: italic\">True</span><span style=\"font-weight: bold\">)</span>\n",
       "</pre>\n"
      ],
      "text/plain": [
       "Parameter containing:\n",
       "\u001b[1;35mtensor\u001b[0m\u001b[1m(\u001b[0m\u001b[1m[\u001b[0m\u001b[1m[\u001b[0m \u001b[1;36m0.2762\u001b[0m,  \u001b[1;36m1.3874\u001b[0m,  \u001b[1;36m0.0089\u001b[0m\u001b[1m]\u001b[0m,\n",
       "\u001b[2;32m│   │   \u001b[0m\u001b[1m[\u001b[0m\u001b[1;36m-0.2766\u001b[0m, \u001b[1;36m-1.0947\u001b[0m, \u001b[1;36m-0.4780\u001b[0m\u001b[1m]\u001b[0m,\n",
       "\u001b[2;32m│   │   \u001b[0m\u001b[1m[\u001b[0m \u001b[1;36m0.4378\u001b[0m,  \u001b[1;36m0.4284\u001b[0m, \u001b[1;36m-1.1996\u001b[0m\u001b[1m]\u001b[0m,\n",
       "\u001b[2;32m│   │   \u001b[0m\u001b[1m[\u001b[0m \u001b[1;36m1.1702\u001b[0m,  \u001b[1;36m0.6074\u001b[0m, \u001b[1;36m-0.3932\u001b[0m\u001b[1m]\u001b[0m,\n",
       "\u001b[2;32m│   │   \u001b[0m\u001b[1m[\u001b[0m\u001b[1;36m-0.8569\u001b[0m,  \u001b[1;36m0.4931\u001b[0m, \u001b[1;36m-1.4062\u001b[0m\u001b[1m]\u001b[0m,\n",
       "\u001b[2;32m│   │   \u001b[0m\u001b[1m[\u001b[0m\u001b[1;36m-0.6759\u001b[0m, \u001b[1;36m-0.4063\u001b[0m,  \u001b[1;36m0.3876\u001b[0m\u001b[1m]\u001b[0m,\n",
       "\u001b[2;32m│   │   \u001b[0m\u001b[1m[\u001b[0m\u001b[1;36m-2.0490\u001b[0m,  \u001b[1;36m0.3985\u001b[0m,  \u001b[1;36m0.6406\u001b[0m\u001b[1m]\u001b[0m,\n",
       "\u001b[2;32m│   │   \u001b[0m\u001b[1m[\u001b[0m \u001b[1;36m0.0234\u001b[0m,  \u001b[1;36m0.5232\u001b[0m,  \u001b[1;36m0.4762\u001b[0m\u001b[1m]\u001b[0m,\n",
       "\u001b[2;32m│   │   \u001b[0m\u001b[1m[\u001b[0m \u001b[1;36m0.1789\u001b[0m,  \u001b[1;36m0.4512\u001b[0m, \u001b[1;36m-0.1513\u001b[0m\u001b[1m]\u001b[0m,\n",
       "\u001b[2;32m│   │   \u001b[0m\u001b[1m[\u001b[0m \u001b[1;36m0.6146\u001b[0m,  \u001b[1;36m0.3305\u001b[0m,  \u001b[1;36m0.1457\u001b[0m\u001b[1m]\u001b[0m,\n",
       "\u001b[2;32m│   │   \u001b[0m\u001b[1m[\u001b[0m \u001b[1;36m0.2163\u001b[0m,  \u001b[1;36m1.0395\u001b[0m, \u001b[1;36m-0.7271\u001b[0m\u001b[1m]\u001b[0m,\n",
       "\u001b[2;32m│   │   \u001b[0m\u001b[1m[\u001b[0m \u001b[1;36m0.3346\u001b[0m, \u001b[1;36m-1.1897\u001b[0m, \u001b[1;36m-0.0836\u001b[0m\u001b[1m]\u001b[0m,\n",
       "\u001b[2;32m│   │   \u001b[0m\u001b[1m[\u001b[0m\u001b[1;36m-0.4892\u001b[0m,  \u001b[1;36m0.3895\u001b[0m,  \u001b[1;36m0.5929\u001b[0m\u001b[1m]\u001b[0m,\n",
       "\u001b[2;32m│   │   \u001b[0m\u001b[1m[\u001b[0m \u001b[1;36m0.0744\u001b[0m,  \u001b[1;36m3.2951\u001b[0m,  \u001b[1;36m1.0447\u001b[0m\u001b[1m]\u001b[0m,\n",
       "\u001b[2;32m│   │   \u001b[0m\u001b[1m[\u001b[0m\u001b[1;36m-0.0104\u001b[0m,  \u001b[1;36m0.1966\u001b[0m,  \u001b[1;36m0.0598\u001b[0m\u001b[1m]\u001b[0m,\n",
       "\u001b[2;32m│   │   \u001b[0m\u001b[1m[\u001b[0m \u001b[1;36m0.6684\u001b[0m,  \u001b[1;36m1.2088\u001b[0m,  \u001b[1;36m0.2816\u001b[0m\u001b[1m]\u001b[0m,\n",
       "\u001b[2;32m│   │   \u001b[0m\u001b[1m[\u001b[0m\u001b[1;36m-1.1628\u001b[0m, \u001b[1;36m-0.0950\u001b[0m, \u001b[1;36m-0.7942\u001b[0m\u001b[1m]\u001b[0m,\n",
       "\u001b[2;32m│   │   \u001b[0m\u001b[1m[\u001b[0m \u001b[1;36m0.7826\u001b[0m, \u001b[1;36m-1.1705\u001b[0m, \u001b[1;36m-0.4626\u001b[0m\u001b[1m]\u001b[0m,\n",
       "\u001b[2;32m│   │   \u001b[0m\u001b[1m[\u001b[0m\u001b[1;36m-0.3472\u001b[0m,  \u001b[1;36m0.2143\u001b[0m, \u001b[1;36m-1.1750\u001b[0m\u001b[1m]\u001b[0m,\n",
       "\u001b[2;32m│   │   \u001b[0m\u001b[1m[\u001b[0m \u001b[1;36m0.4257\u001b[0m,  \u001b[1;36m0.2848\u001b[0m,  \u001b[1;36m0.7900\u001b[0m\u001b[1m]\u001b[0m\u001b[1m]\u001b[0m, \u001b[33mrequires_grad\u001b[0m=\u001b[3;92mTrue\u001b[0m\u001b[1m)\u001b[0m\n"
      ]
     },
     "metadata": {},
     "output_type": "display_data"
    }
   ],
   "source": [
    "token_embeddings_weight = embedding_layer.token_emb.weight\n",
    "pprint(token_embeddings_weight)"
   ]
  },
  {
   "cell_type": "code",
   "execution_count": 20,
   "metadata": {},
   "outputs": [
    {
     "data": {
      "text/plain": [
       "(torch.Size([4]), torch.Size([4, 3]), torch.Size([20, 3]))"
      ]
     },
     "execution_count": 20,
     "metadata": {},
     "output_type": "execute_result"
    }
   ],
   "source": [
    "first_input.shape, first_input_embeddings.shape, token_embeddings_weight.shape"
   ]
  },
  {
   "cell_type": "code",
   "execution_count": 21,
   "metadata": {},
   "outputs": [
    {
     "data": {
      "text/html": [
       "<pre style=\"white-space:pre;overflow-x:auto;line-height:normal;font-family:Menlo,'DejaVu Sans Mono',consolas,'Courier New',monospace\"><span style=\"color: #800080; text-decoration-color: #800080; font-weight: bold\">tensor</span><span style=\"font-weight: bold\">([[</span><span style=\"color: #008080; text-decoration-color: #008080; font-weight: bold\">0</span>., <span style=\"color: #008080; text-decoration-color: #008080; font-weight: bold\">1</span>., <span style=\"color: #008080; text-decoration-color: #008080; font-weight: bold\">0</span>., <span style=\"color: #008080; text-decoration-color: #008080; font-weight: bold\">0</span>., <span style=\"color: #008080; text-decoration-color: #008080; font-weight: bold\">0</span>., <span style=\"color: #008080; text-decoration-color: #008080; font-weight: bold\">0</span>., <span style=\"color: #008080; text-decoration-color: #008080; font-weight: bold\">0</span>., <span style=\"color: #008080; text-decoration-color: #008080; font-weight: bold\">0</span>., <span style=\"color: #008080; text-decoration-color: #008080; font-weight: bold\">0</span>., <span style=\"color: #008080; text-decoration-color: #008080; font-weight: bold\">0</span>., <span style=\"color: #008080; text-decoration-color: #008080; font-weight: bold\">0</span>., <span style=\"color: #008080; text-decoration-color: #008080; font-weight: bold\">0</span>., <span style=\"color: #008080; text-decoration-color: #008080; font-weight: bold\">0</span>., <span style=\"color: #008080; text-decoration-color: #008080; font-weight: bold\">0</span>., <span style=\"color: #008080; text-decoration-color: #008080; font-weight: bold\">0</span>., <span style=\"color: #008080; text-decoration-color: #008080; font-weight: bold\">0</span>., <span style=\"color: #008080; text-decoration-color: #008080; font-weight: bold\">0</span>., <span style=\"color: #008080; text-decoration-color: #008080; font-weight: bold\">0</span>.,\n",
       "<span style=\"color: #7fbf7f; text-decoration-color: #7fbf7f\">│   │    </span><span style=\"color: #008080; text-decoration-color: #008080; font-weight: bold\">0</span>., <span style=\"color: #008080; text-decoration-color: #008080; font-weight: bold\">0</span>.<span style=\"font-weight: bold\">]</span>,\n",
       "<span style=\"color: #7fbf7f; text-decoration-color: #7fbf7f\">│   │   </span><span style=\"font-weight: bold\">[</span><span style=\"color: #008080; text-decoration-color: #008080; font-weight: bold\">0</span>., <span style=\"color: #008080; text-decoration-color: #008080; font-weight: bold\">0</span>., <span style=\"color: #008080; text-decoration-color: #008080; font-weight: bold\">0</span>., <span style=\"color: #008080; text-decoration-color: #008080; font-weight: bold\">0</span>., <span style=\"color: #008080; text-decoration-color: #008080; font-weight: bold\">0</span>., <span style=\"color: #008080; text-decoration-color: #008080; font-weight: bold\">0</span>., <span style=\"color: #008080; text-decoration-color: #008080; font-weight: bold\">0</span>., <span style=\"color: #008080; text-decoration-color: #008080; font-weight: bold\">0</span>., <span style=\"color: #008080; text-decoration-color: #008080; font-weight: bold\">0</span>., <span style=\"color: #008080; text-decoration-color: #008080; font-weight: bold\">0</span>., <span style=\"color: #008080; text-decoration-color: #008080; font-weight: bold\">1</span>., <span style=\"color: #008080; text-decoration-color: #008080; font-weight: bold\">0</span>., <span style=\"color: #008080; text-decoration-color: #008080; font-weight: bold\">0</span>., <span style=\"color: #008080; text-decoration-color: #008080; font-weight: bold\">0</span>., <span style=\"color: #008080; text-decoration-color: #008080; font-weight: bold\">0</span>., <span style=\"color: #008080; text-decoration-color: #008080; font-weight: bold\">0</span>., <span style=\"color: #008080; text-decoration-color: #008080; font-weight: bold\">0</span>., <span style=\"color: #008080; text-decoration-color: #008080; font-weight: bold\">0</span>.,\n",
       "<span style=\"color: #7fbf7f; text-decoration-color: #7fbf7f\">│   │    </span><span style=\"color: #008080; text-decoration-color: #008080; font-weight: bold\">0</span>., <span style=\"color: #008080; text-decoration-color: #008080; font-weight: bold\">0</span>.<span style=\"font-weight: bold\">]</span>,\n",
       "<span style=\"color: #7fbf7f; text-decoration-color: #7fbf7f\">│   │   </span><span style=\"font-weight: bold\">[</span><span style=\"color: #008080; text-decoration-color: #008080; font-weight: bold\">0</span>., <span style=\"color: #008080; text-decoration-color: #008080; font-weight: bold\">0</span>., <span style=\"color: #008080; text-decoration-color: #008080; font-weight: bold\">0</span>., <span style=\"color: #008080; text-decoration-color: #008080; font-weight: bold\">0</span>., <span style=\"color: #008080; text-decoration-color: #008080; font-weight: bold\">1</span>., <span style=\"color: #008080; text-decoration-color: #008080; font-weight: bold\">0</span>., <span style=\"color: #008080; text-decoration-color: #008080; font-weight: bold\">0</span>., <span style=\"color: #008080; text-decoration-color: #008080; font-weight: bold\">0</span>., <span style=\"color: #008080; text-decoration-color: #008080; font-weight: bold\">0</span>., <span style=\"color: #008080; text-decoration-color: #008080; font-weight: bold\">0</span>., <span style=\"color: #008080; text-decoration-color: #008080; font-weight: bold\">0</span>., <span style=\"color: #008080; text-decoration-color: #008080; font-weight: bold\">0</span>., <span style=\"color: #008080; text-decoration-color: #008080; font-weight: bold\">0</span>., <span style=\"color: #008080; text-decoration-color: #008080; font-weight: bold\">0</span>., <span style=\"color: #008080; text-decoration-color: #008080; font-weight: bold\">0</span>., <span style=\"color: #008080; text-decoration-color: #008080; font-weight: bold\">0</span>., <span style=\"color: #008080; text-decoration-color: #008080; font-weight: bold\">0</span>., <span style=\"color: #008080; text-decoration-color: #008080; font-weight: bold\">0</span>.,\n",
       "<span style=\"color: #7fbf7f; text-decoration-color: #7fbf7f\">│   │    </span><span style=\"color: #008080; text-decoration-color: #008080; font-weight: bold\">0</span>., <span style=\"color: #008080; text-decoration-color: #008080; font-weight: bold\">0</span>.<span style=\"font-weight: bold\">]</span>,\n",
       "<span style=\"color: #7fbf7f; text-decoration-color: #7fbf7f\">│   │   </span><span style=\"font-weight: bold\">[</span><span style=\"color: #008080; text-decoration-color: #008080; font-weight: bold\">0</span>., <span style=\"color: #008080; text-decoration-color: #008080; font-weight: bold\">0</span>., <span style=\"color: #008080; text-decoration-color: #008080; font-weight: bold\">1</span>., <span style=\"color: #008080; text-decoration-color: #008080; font-weight: bold\">0</span>., <span style=\"color: #008080; text-decoration-color: #008080; font-weight: bold\">0</span>., <span style=\"color: #008080; text-decoration-color: #008080; font-weight: bold\">0</span>., <span style=\"color: #008080; text-decoration-color: #008080; font-weight: bold\">0</span>., <span style=\"color: #008080; text-decoration-color: #008080; font-weight: bold\">0</span>., <span style=\"color: #008080; text-decoration-color: #008080; font-weight: bold\">0</span>., <span style=\"color: #008080; text-decoration-color: #008080; font-weight: bold\">0</span>., <span style=\"color: #008080; text-decoration-color: #008080; font-weight: bold\">0</span>., <span style=\"color: #008080; text-decoration-color: #008080; font-weight: bold\">0</span>., <span style=\"color: #008080; text-decoration-color: #008080; font-weight: bold\">0</span>., <span style=\"color: #008080; text-decoration-color: #008080; font-weight: bold\">0</span>., <span style=\"color: #008080; text-decoration-color: #008080; font-weight: bold\">0</span>., <span style=\"color: #008080; text-decoration-color: #008080; font-weight: bold\">0</span>., <span style=\"color: #008080; text-decoration-color: #008080; font-weight: bold\">0</span>., <span style=\"color: #008080; text-decoration-color: #008080; font-weight: bold\">0</span>.,\n",
       "<span style=\"color: #7fbf7f; text-decoration-color: #7fbf7f\">│   │    </span><span style=\"color: #008080; text-decoration-color: #008080; font-weight: bold\">0</span>., <span style=\"color: #008080; text-decoration-color: #008080; font-weight: bold\">0</span>.<span style=\"font-weight: bold\">]])</span>\n",
       "</pre>\n"
      ],
      "text/plain": [
       "\u001b[1;35mtensor\u001b[0m\u001b[1m(\u001b[0m\u001b[1m[\u001b[0m\u001b[1m[\u001b[0m\u001b[1;36m0\u001b[0m., \u001b[1;36m1\u001b[0m., \u001b[1;36m0\u001b[0m., \u001b[1;36m0\u001b[0m., \u001b[1;36m0\u001b[0m., \u001b[1;36m0\u001b[0m., \u001b[1;36m0\u001b[0m., \u001b[1;36m0\u001b[0m., \u001b[1;36m0\u001b[0m., \u001b[1;36m0\u001b[0m., \u001b[1;36m0\u001b[0m., \u001b[1;36m0\u001b[0m., \u001b[1;36m0\u001b[0m., \u001b[1;36m0\u001b[0m., \u001b[1;36m0\u001b[0m., \u001b[1;36m0\u001b[0m., \u001b[1;36m0\u001b[0m., \u001b[1;36m0\u001b[0m.,\n",
       "\u001b[2;32m│   │    \u001b[0m\u001b[1;36m0\u001b[0m., \u001b[1;36m0\u001b[0m.\u001b[1m]\u001b[0m,\n",
       "\u001b[2;32m│   │   \u001b[0m\u001b[1m[\u001b[0m\u001b[1;36m0\u001b[0m., \u001b[1;36m0\u001b[0m., \u001b[1;36m0\u001b[0m., \u001b[1;36m0\u001b[0m., \u001b[1;36m0\u001b[0m., \u001b[1;36m0\u001b[0m., \u001b[1;36m0\u001b[0m., \u001b[1;36m0\u001b[0m., \u001b[1;36m0\u001b[0m., \u001b[1;36m0\u001b[0m., \u001b[1;36m1\u001b[0m., \u001b[1;36m0\u001b[0m., \u001b[1;36m0\u001b[0m., \u001b[1;36m0\u001b[0m., \u001b[1;36m0\u001b[0m., \u001b[1;36m0\u001b[0m., \u001b[1;36m0\u001b[0m., \u001b[1;36m0\u001b[0m.,\n",
       "\u001b[2;32m│   │    \u001b[0m\u001b[1;36m0\u001b[0m., \u001b[1;36m0\u001b[0m.\u001b[1m]\u001b[0m,\n",
       "\u001b[2;32m│   │   \u001b[0m\u001b[1m[\u001b[0m\u001b[1;36m0\u001b[0m., \u001b[1;36m0\u001b[0m., \u001b[1;36m0\u001b[0m., \u001b[1;36m0\u001b[0m., \u001b[1;36m1\u001b[0m., \u001b[1;36m0\u001b[0m., \u001b[1;36m0\u001b[0m., \u001b[1;36m0\u001b[0m., \u001b[1;36m0\u001b[0m., \u001b[1;36m0\u001b[0m., \u001b[1;36m0\u001b[0m., \u001b[1;36m0\u001b[0m., \u001b[1;36m0\u001b[0m., \u001b[1;36m0\u001b[0m., \u001b[1;36m0\u001b[0m., \u001b[1;36m0\u001b[0m., \u001b[1;36m0\u001b[0m., \u001b[1;36m0\u001b[0m.,\n",
       "\u001b[2;32m│   │    \u001b[0m\u001b[1;36m0\u001b[0m., \u001b[1;36m0\u001b[0m.\u001b[1m]\u001b[0m,\n",
       "\u001b[2;32m│   │   \u001b[0m\u001b[1m[\u001b[0m\u001b[1;36m0\u001b[0m., \u001b[1;36m0\u001b[0m., \u001b[1;36m1\u001b[0m., \u001b[1;36m0\u001b[0m., \u001b[1;36m0\u001b[0m., \u001b[1;36m0\u001b[0m., \u001b[1;36m0\u001b[0m., \u001b[1;36m0\u001b[0m., \u001b[1;36m0\u001b[0m., \u001b[1;36m0\u001b[0m., \u001b[1;36m0\u001b[0m., \u001b[1;36m0\u001b[0m., \u001b[1;36m0\u001b[0m., \u001b[1;36m0\u001b[0m., \u001b[1;36m0\u001b[0m., \u001b[1;36m0\u001b[0m., \u001b[1;36m0\u001b[0m., \u001b[1;36m0\u001b[0m.,\n",
       "\u001b[2;32m│   │    \u001b[0m\u001b[1;36m0\u001b[0m., \u001b[1;36m0\u001b[0m.\u001b[1m]\u001b[0m\u001b[1m]\u001b[0m\u001b[1m)\u001b[0m\n"
      ]
     },
     "metadata": {},
     "output_type": "display_data"
    },
    {
     "data": {
      "text/html": [
       "<pre style=\"white-space:pre;overflow-x:auto;line-height:normal;font-family:Menlo,'DejaVu Sans Mono',consolas,'Courier New',monospace\"><span style=\"color: #800080; text-decoration-color: #800080; font-weight: bold\">tensor</span><span style=\"font-weight: bold\">([[</span><span style=\"color: #008080; text-decoration-color: #008080; font-weight: bold\">-0.2766</span>, <span style=\"color: #008080; text-decoration-color: #008080; font-weight: bold\">-1.0947</span>, <span style=\"color: #008080; text-decoration-color: #008080; font-weight: bold\">-0.4780</span><span style=\"font-weight: bold\">]</span>,\n",
       "<span style=\"color: #7fbf7f; text-decoration-color: #7fbf7f\">│   │   </span><span style=\"font-weight: bold\">[</span> <span style=\"color: #008080; text-decoration-color: #008080; font-weight: bold\">0.2163</span>,  <span style=\"color: #008080; text-decoration-color: #008080; font-weight: bold\">1.0395</span>, <span style=\"color: #008080; text-decoration-color: #008080; font-weight: bold\">-0.7271</span><span style=\"font-weight: bold\">]</span>,\n",
       "<span style=\"color: #7fbf7f; text-decoration-color: #7fbf7f\">│   │   </span><span style=\"font-weight: bold\">[</span><span style=\"color: #008080; text-decoration-color: #008080; font-weight: bold\">-0.8569</span>,  <span style=\"color: #008080; text-decoration-color: #008080; font-weight: bold\">0.4931</span>, <span style=\"color: #008080; text-decoration-color: #008080; font-weight: bold\">-1.4062</span><span style=\"font-weight: bold\">]</span>,\n",
       "<span style=\"color: #7fbf7f; text-decoration-color: #7fbf7f\">│   │   </span><span style=\"font-weight: bold\">[</span> <span style=\"color: #008080; text-decoration-color: #008080; font-weight: bold\">0.4378</span>,  <span style=\"color: #008080; text-decoration-color: #008080; font-weight: bold\">0.4284</span>, <span style=\"color: #008080; text-decoration-color: #008080; font-weight: bold\">-1.1996</span><span style=\"font-weight: bold\">]]</span>, <span style=\"color: #808000; text-decoration-color: #808000\">grad_fn</span>=<span style=\"font-weight: bold\">&lt;</span><span style=\"color: #ff00ff; text-decoration-color: #ff00ff; font-weight: bold\">MmBackward0</span><span style=\"font-weight: bold\">&gt;)</span>\n",
       "</pre>\n"
      ],
      "text/plain": [
       "\u001b[1;35mtensor\u001b[0m\u001b[1m(\u001b[0m\u001b[1m[\u001b[0m\u001b[1m[\u001b[0m\u001b[1;36m-0.2766\u001b[0m, \u001b[1;36m-1.0947\u001b[0m, \u001b[1;36m-0.4780\u001b[0m\u001b[1m]\u001b[0m,\n",
       "\u001b[2;32m│   │   \u001b[0m\u001b[1m[\u001b[0m \u001b[1;36m0.2163\u001b[0m,  \u001b[1;36m1.0395\u001b[0m, \u001b[1;36m-0.7271\u001b[0m\u001b[1m]\u001b[0m,\n",
       "\u001b[2;32m│   │   \u001b[0m\u001b[1m[\u001b[0m\u001b[1;36m-0.8569\u001b[0m,  \u001b[1;36m0.4931\u001b[0m, \u001b[1;36m-1.4062\u001b[0m\u001b[1m]\u001b[0m,\n",
       "\u001b[2;32m│   │   \u001b[0m\u001b[1m[\u001b[0m \u001b[1;36m0.4378\u001b[0m,  \u001b[1;36m0.4284\u001b[0m, \u001b[1;36m-1.1996\u001b[0m\u001b[1m]\u001b[0m\u001b[1m]\u001b[0m, \u001b[33mgrad_fn\u001b[0m=\u001b[1m<\u001b[0m\u001b[1;95mMmBackward0\u001b[0m\u001b[1m>\u001b[0m\u001b[1m)\u001b[0m\n"
      ]
     },
     "metadata": {},
     "output_type": "display_data"
    }
   ],
   "source": [
    "# Convert the first token ID to a one-hot encoded vector\n",
    "first_input_onehot = F.one_hot(first_input, num_classes=len(dataset.vocab)).float()\n",
    "pprint(first_input_onehot)\n",
    "\n",
    "# Perform a matrix multiplication between the one-hot vector and the embedding weight matrix\n",
    "first_input_embedding_via_matmul = torch.matmul(first_input_onehot, token_embeddings_weight)\n",
    "# Now, first_token_embedding_via_matmul should be the same as first_token_embedding\n",
    "pprint(first_input_embedding_via_matmul)\n",
    "\n",
    "# Now, first_input_embedding_via_matmul should be the same as first_input_embeddings\n",
    "assert_equal(first_input_embeddings, first_input_embedding_via_matmul)"
   ]
  },
  {
   "cell_type": "markdown",
   "metadata": {},
   "source": [
    "#### Intuition 1"
   ]
  },
  {
   "cell_type": "code",
   "execution_count": 22,
   "metadata": {},
   "outputs": [
    {
     "data": {
      "text/html": [
       "<pre style=\"white-space:pre;overflow-x:auto;line-height:normal;font-family:Menlo,'DejaVu Sans Mono',consolas,'Courier New',monospace\"><span style=\"color: #800080; text-decoration-color: #800080; font-weight: bold\">tensor</span><span style=\"font-weight: bold\">([</span> <span style=\"color: #008080; text-decoration-color: #008080; font-weight: bold\">0.2163</span>,  <span style=\"color: #008080; text-decoration-color: #008080; font-weight: bold\">1.0395</span>, <span style=\"color: #008080; text-decoration-color: #008080; font-weight: bold\">-0.7271</span><span style=\"font-weight: bold\">]</span>, <span style=\"color: #808000; text-decoration-color: #808000\">grad_fn</span>=<span style=\"font-weight: bold\">&lt;</span><span style=\"color: #ff00ff; text-decoration-color: #ff00ff; font-weight: bold\">SelectBackward0</span><span style=\"font-weight: bold\">&gt;)</span>\n",
       "</pre>\n"
      ],
      "text/plain": [
       "\u001b[1;35mtensor\u001b[0m\u001b[1m(\u001b[0m\u001b[1m[\u001b[0m \u001b[1;36m0.2163\u001b[0m,  \u001b[1;36m1.0395\u001b[0m, \u001b[1;36m-0.7271\u001b[0m\u001b[1m]\u001b[0m, \u001b[33mgrad_fn\u001b[0m=\u001b[1m<\u001b[0m\u001b[1;95mSelectBackward0\u001b[0m\u001b[1m>\u001b[0m\u001b[1m)\u001b[0m\n"
      ]
     },
     "metadata": {},
     "output_type": "display_data"
    }
   ],
   "source": [
    "hello_weight = token_embeddings_weight[stoi_sorted_by_index['hello']]\n",
    "pprint(hello_weight)"
   ]
  },
  {
   "cell_type": "markdown",
   "metadata": {},
   "source": [
    "##### The weight is the embedding of the word (token)\n",
    "\n",
    "Yes, exactly! In the context of the `nn.Embedding` layer in PyTorch, the weights are indeed the embeddings. \n",
    "\n",
    "When you have a sentence and you convert each word/token to its corresponding ID, you use these IDs as indices to lookup in the embedding table (weights). The row from the embedding table (weights) corresponding to the ID is the embedding vector for that word/token. \n",
    "\n",
    "So in essence, the weights in the embedding layer are the learned embeddings for each word/token in your vocabulary. \n",
    "\n",
    "This is a good realization to make as it highlights the fact that in machine learning models, weights are not just random numbers, but they often have interpretable meanings. In this case, the weights are the learned vector representations of words."
   ]
  },
  {
   "cell_type": "markdown",
   "metadata": {},
   "source": [
    "- `tensor([ 0.2163,  1.0395, -0.7271], grad_fn=<SelectBackward0>)` \n",
    "    - is the weight corresponding to the token (word) `hello` in the vocabulary corpus.\n",
    "    - is also the word/token representation (embedding) of the word `hello` in the vocabulary corpus.\n",
    "    - Why so? Because one-hot encoding ensures that the weight corresponding to the token (word) `hello` is 1 and the weights corresponding to all other tokens (words) are 0. So, the dot product of the one-hot encoded vector of the word `hello` with the embedding matrix will be the weight corresponding to the token (word) `hello` in the vocabulary corpus."
   ]
  },
  {
   "cell_type": "code",
   "execution_count": 23,
   "metadata": {},
   "outputs": [],
   "source": [
    "hello_embeddings = hello_weight"
   ]
  },
  {
   "cell_type": "markdown",
   "metadata": {},
   "source": [
    "Thus, for the first input setence `Hello bot`, the encoded embedding for \n",
    "this sentence is four tokens (including the special tokens)."
   ]
  },
  {
   "cell_type": "code",
   "execution_count": 24,
   "metadata": {},
   "outputs": [
    {
     "data": {
      "text/html": [
       "<pre style=\"white-space:pre;overflow-x:auto;line-height:normal;font-family:Menlo,'DejaVu Sans Mono',consolas,'Courier New',monospace\"><span style=\"color: #800080; text-decoration-color: #800080; font-weight: bold\">tensor</span><span style=\"font-weight: bold\">([[</span><span style=\"color: #008080; text-decoration-color: #008080; font-weight: bold\">-0.2766</span>, <span style=\"color: #008080; text-decoration-color: #008080; font-weight: bold\">-1.0947</span>, <span style=\"color: #008080; text-decoration-color: #008080; font-weight: bold\">-0.4780</span><span style=\"font-weight: bold\">]</span>,\n",
       "<span style=\"color: #7fbf7f; text-decoration-color: #7fbf7f\">│   │   </span><span style=\"font-weight: bold\">[</span> <span style=\"color: #008080; text-decoration-color: #008080; font-weight: bold\">0.2163</span>,  <span style=\"color: #008080; text-decoration-color: #008080; font-weight: bold\">1.0395</span>, <span style=\"color: #008080; text-decoration-color: #008080; font-weight: bold\">-0.7271</span><span style=\"font-weight: bold\">]</span>,\n",
       "<span style=\"color: #7fbf7f; text-decoration-color: #7fbf7f\">│   │   </span><span style=\"font-weight: bold\">[</span><span style=\"color: #008080; text-decoration-color: #008080; font-weight: bold\">-0.8569</span>,  <span style=\"color: #008080; text-decoration-color: #008080; font-weight: bold\">0.4931</span>, <span style=\"color: #008080; text-decoration-color: #008080; font-weight: bold\">-1.4062</span><span style=\"font-weight: bold\">]</span>,\n",
       "<span style=\"color: #7fbf7f; text-decoration-color: #7fbf7f\">│   │   </span><span style=\"font-weight: bold\">[</span> <span style=\"color: #008080; text-decoration-color: #008080; font-weight: bold\">0.4378</span>,  <span style=\"color: #008080; text-decoration-color: #008080; font-weight: bold\">0.4284</span>, <span style=\"color: #008080; text-decoration-color: #008080; font-weight: bold\">-1.1996</span><span style=\"font-weight: bold\">]]</span>, <span style=\"color: #808000; text-decoration-color: #808000\">grad_fn</span>=<span style=\"font-weight: bold\">&lt;</span><span style=\"color: #ff00ff; text-decoration-color: #ff00ff; font-weight: bold\">SelectBackward0</span><span style=\"font-weight: bold\">&gt;)</span>\n",
       "</pre>\n"
      ],
      "text/plain": [
       "\u001b[1;35mtensor\u001b[0m\u001b[1m(\u001b[0m\u001b[1m[\u001b[0m\u001b[1m[\u001b[0m\u001b[1;36m-0.2766\u001b[0m, \u001b[1;36m-1.0947\u001b[0m, \u001b[1;36m-0.4780\u001b[0m\u001b[1m]\u001b[0m,\n",
       "\u001b[2;32m│   │   \u001b[0m\u001b[1m[\u001b[0m \u001b[1;36m0.2163\u001b[0m,  \u001b[1;36m1.0395\u001b[0m, \u001b[1;36m-0.7271\u001b[0m\u001b[1m]\u001b[0m,\n",
       "\u001b[2;32m│   │   \u001b[0m\u001b[1m[\u001b[0m\u001b[1;36m-0.8569\u001b[0m,  \u001b[1;36m0.4931\u001b[0m, \u001b[1;36m-1.4062\u001b[0m\u001b[1m]\u001b[0m,\n",
       "\u001b[2;32m│   │   \u001b[0m\u001b[1m[\u001b[0m \u001b[1;36m0.4378\u001b[0m,  \u001b[1;36m0.4284\u001b[0m, \u001b[1;36m-1.1996\u001b[0m\u001b[1m]\u001b[0m\u001b[1m]\u001b[0m, \u001b[33mgrad_fn\u001b[0m=\u001b[1m<\u001b[0m\u001b[1;95mSelectBackward0\u001b[0m\u001b[1m>\u001b[0m\u001b[1m)\u001b[0m\n"
      ]
     },
     "metadata": {},
     "output_type": "display_data"
    }
   ],
   "source": [
    "pprint(first_input_embeddings)"
   ]
  },
  {
   "cell_type": "markdown",
   "metadata": {},
   "source": [
    "And notice the `[ 0.2163,  1.0395, -0.7271]` weight we got corresponding to `hello`\n",
    "is indeed here, in the output embeddings 2nd row, which is indeed `hello` since\n",
    "the full first sentence is `<SOS> hello bot <EOS>`."
   ]
  },
  {
   "cell_type": "markdown",
   "metadata": {},
   "source": [
    "##### am i right to say at this stage, the learnt embeddings are on a token level and not on a sentence level\n",
    "\n",
    "At the embedding stage, the model is learning embeddings for individual tokens and not for entire sentences. \n",
    "\n",
    "Each token in your vocabulary is associated with a unique vector in the embedding space, irrespective of the context in which the token appears. This means that the same word has the same embedding regardless of its position in the sentence or the other words in the sentence. \n",
    "\n",
    "However, it's important to note that this is the initial step in the transformer model. The transformer architecture uses these individual token embeddings and, with its self-attention mechanism, generates context-aware embeddings where the representation of a word does consider its context within a sentence. These context-aware embeddings are what is used for downstream tasks like text classification, named entity recognition, etc. \n",
    "\n",
    "So while the initial embeddings are at the token level, the transformer architecture builds on top of this to generate embeddings that capture the context of a token within a sentence.\n"
   ]
  },
  {
   "cell_type": "markdown",
   "metadata": {},
   "source": [
    "#### Intuition (To refine)\n",
    "\n",
    "Emphasize again, that this stage is just the embedding space for individual tokens\n",
    "or words, not the sentence, the output of each input sentence here is just a\n",
    "stack of vectors (learnt word embeddings) for each word in the sentence.\n",
    "\n",
    "Semantically related words such as 'King' and 'Queen' are represented in the vector space such that the geometric relationships between these vectors capture the semantic relationships between the corresponding words. So if you visualize in a 2d space,\n",
    "then king and queen are closer than that of men and women.\n",
    "\n",
    "In the context of Word Embeddings:\n",
    "\n",
    "Word embeddings are the result of mapping words or phrases from the vocabulary to vectors of real numbers. They are capable of capturing the context of a word in a document, semantic and syntactic similarity, and other relevant linguistic patterns. \n",
    "\n",
    "Here is an example to give a clear idea of how word embeddings capture relationships:\n",
    "\n",
    "Let's say we have four words: King, Queen, Man, Woman. After training the word embeddings (like Word2Vec, GloVe, etc.) on a large corpus, these words are mapped into a high-dimensional space. \n",
    "\n",
    "The relationships between these words are captured as vectors in this space. For example, if we subtract the vector for 'Man' from 'King' and add the vector for 'Woman', we get a vector that is very close to the vector for 'Queen'.\n",
    "\n",
    "Mathematically: \n",
    "\n",
    "    Vector('King') - Vector('Man') + Vector('Woman') ≈ Vector('Queen')\n",
    "\n",
    "This is because the word embeddings have learned that 'King' is to 'Queen' what 'Man' is to 'Woman' from the co-occurrence statistics in the training corpus. This is known as an analogy relationship in word embeddings.\n",
    "\n",
    "Remember that while this analogy works well in many cases, it's not always perfect and depends largely on the training data and the quality of the embeddings."
   ]
  },
  {
   "cell_type": "markdown",
   "metadata": {},
   "source": [
    "## Stage 1. Token (Word) Embeddings"
   ]
  },
  {
   "cell_type": "code",
   "execution_count": 25,
   "metadata": {},
   "outputs": [],
   "source": [
    "training_data_simple = [\n",
    "    (\"hello bot\", \"hello human\"),\n",
    "    (\"hello hello human\", \"hello bot\"),\n",
    "]\n",
    "\n",
    "dataset = ChatDataset(\n",
    "    data=training_data_simple,\n",
    "    tokenizer_type=\"basic_english\",\n",
    "    specials=[\"<SOS>\", \"<EOS>\", \"<PAD>\"],\n",
    ")\n",
    "\n",
    "batch_size = 1\n",
    "dataloader = create_dataloader(\n",
    "    dataset, batch_size=batch_size, shuffle=False, collate_fn=collate_fn\n",
    ")"
   ]
  },
  {
   "cell_type": "code",
   "execution_count": 26,
   "metadata": {},
   "outputs": [
    {
     "name": "stdout",
     "output_type": "stream",
     "text": [
      "Batch 1\n",
      "\n",
      "Input IDs:\n",
      "[[0, 3, 4, 1]]\n",
      "\n",
      "Attention Mask:\n",
      "[[1, 1, 1, 1]]\n",
      "\n",
      "Target IDs:\n",
      "[[0, 3, 5, 1]]\n",
      "Batch 2\n",
      "\n",
      "Input IDs:\n",
      "[[0, 3, 3, 5, 1]]\n",
      "\n",
      "Attention Mask:\n",
      "[[1, 1, 1, 1, 1]]\n",
      "\n",
      "Target IDs:\n",
      "[[0, 3, 4, 1]]\n"
     ]
    }
   ],
   "source": [
    "for i, batch in enumerate(dataloader):\n",
    "    print(f\"Batch {i+1}\\n\")\n",
    "    print(\n",
    "        f\"Input IDs:\\n{np.array2string(batch['input_ids'].numpy(), separator=', ')}\\n\"\n",
    "    )\n",
    "    print(\n",
    "        f\"Attention Mask:\\n{np.array2string(batch['attention_mask'].numpy(), separator=', ')}\\n\"\n",
    "    )\n",
    "    print(\n",
    "        f\"Target IDs:\\n{np.array2string(batch['target_ids'].numpy(), separator=', ')}\"\n",
    "    )"
   ]
  },
  {
   "cell_type": "code",
   "execution_count": 27,
   "metadata": {},
   "outputs": [
    {
     "data": {
      "text/html": [
       "<pre style=\"white-space:pre;overflow-x:auto;line-height:normal;font-family:Menlo,'DejaVu Sans Mono',consolas,'Courier New',monospace\"><span style=\"font-weight: bold\">[</span><span style=\"color: #008000; text-decoration-color: #008000\">'&lt;SOS&gt;'</span><span style=\"color: #000000; text-decoration-color: #000000\">, </span><span style=\"color: #008000; text-decoration-color: #008000\">'&lt;EOS&gt;'</span><span style=\"color: #000000; text-decoration-color: #000000\">, </span><span style=\"color: #008000; text-decoration-color: #008000\">'&lt;PAD&gt;'</span>, <span style=\"color: #008000; text-decoration-color: #008000\">'hello'</span>, <span style=\"color: #008000; text-decoration-color: #008000\">'bot'</span>, <span style=\"color: #008000; text-decoration-color: #008000\">'human'</span><span style=\"font-weight: bold\">]</span>\n",
       "</pre>\n"
      ],
      "text/plain": [
       "\u001b[1m[\u001b[0m\u001b[32m'\u001b[0m\u001b[32m<\u001b[0m\u001b[32mSOS\u001b[0m\u001b[32m>'\u001b[0m\u001b[39m, \u001b[0m\u001b[32m'<EOS>'\u001b[0m\u001b[39m, \u001b[0m\u001b[32m'<PAD\u001b[0m\u001b[32m>\u001b[0m\u001b[32m'\u001b[0m, \u001b[32m'hello'\u001b[0m, \u001b[32m'bot'\u001b[0m, \u001b[32m'human'\u001b[0m\u001b[1m]\u001b[0m\n"
      ]
     },
     "metadata": {},
     "output_type": "display_data"
    },
    {
     "data": {
      "text/html": [
       "<pre style=\"white-space:pre;overflow-x:auto;line-height:normal;font-family:Menlo,'DejaVu Sans Mono',consolas,'Courier New',monospace\"><span style=\"font-weight: bold\">{</span><span style=\"color: #008000; text-decoration-color: #008000\">'&lt;SOS&gt;'</span><span style=\"color: #000000; text-decoration-color: #000000\">: </span><span style=\"color: #008080; text-decoration-color: #008080; font-weight: bold\">0</span><span style=\"color: #000000; text-decoration-color: #000000\">, </span><span style=\"color: #008000; text-decoration-color: #008000\">'&lt;EOS&gt;'</span><span style=\"color: #000000; text-decoration-color: #000000\">: </span><span style=\"color: #008080; text-decoration-color: #008080; font-weight: bold\">1</span><span style=\"color: #000000; text-decoration-color: #000000\">, </span><span style=\"color: #008000; text-decoration-color: #008000\">'&lt;PAD&gt;'</span>: <span style=\"color: #008080; text-decoration-color: #008080; font-weight: bold\">2</span>, <span style=\"color: #008000; text-decoration-color: #008000\">'hello'</span>: <span style=\"color: #008080; text-decoration-color: #008080; font-weight: bold\">3</span>, <span style=\"color: #008000; text-decoration-color: #008000\">'bot'</span>: <span style=\"color: #008080; text-decoration-color: #008080; font-weight: bold\">4</span>, <span style=\"color: #008000; text-decoration-color: #008000\">'human'</span>: <span style=\"color: #008080; text-decoration-color: #008080; font-weight: bold\">5</span><span style=\"font-weight: bold\">}</span>\n",
       "</pre>\n"
      ],
      "text/plain": [
       "\u001b[1m{\u001b[0m\u001b[32m'\u001b[0m\u001b[32m<\u001b[0m\u001b[32mSOS\u001b[0m\u001b[32m>'\u001b[0m\u001b[39m: \u001b[0m\u001b[1;36m0\u001b[0m\u001b[39m, \u001b[0m\u001b[32m'<EOS>'\u001b[0m\u001b[39m: \u001b[0m\u001b[1;36m1\u001b[0m\u001b[39m, \u001b[0m\u001b[32m'<PAD\u001b[0m\u001b[32m>\u001b[0m\u001b[32m'\u001b[0m: \u001b[1;36m2\u001b[0m, \u001b[32m'hello'\u001b[0m: \u001b[1;36m3\u001b[0m, \u001b[32m'bot'\u001b[0m: \u001b[1;36m4\u001b[0m, \u001b[32m'human'\u001b[0m: \u001b[1;36m5\u001b[0m\u001b[1m}\u001b[0m\n"
      ]
     },
     "metadata": {},
     "output_type": "display_data"
    }
   ],
   "source": [
    "itos: List[str] = dataset.vocab.get_itos()\n",
    "pprint(itos)\n",
    "\n",
    "V_mathcal = itos # our $\\mathcal{V}$\n",
    "V = len(V_mathcal) # our $V = |\\mathcal{V}|$\n",
    "\n",
    "stoi_sorted_by_index: Dict[str, int] = sort_stoi_by_index(itos)\n",
    "pprint(stoi_sorted_by_index)"
   ]
  },
  {
   "cell_type": "code",
   "execution_count": 28,
   "metadata": {},
   "outputs": [
    {
     "data": {
      "text/html": [
       "<pre style=\"white-space:pre;overflow-x:auto;line-height:normal;font-family:Menlo,'DejaVu Sans Mono',consolas,'Courier New',monospace\"><span style=\"font-weight: bold\">{</span>\n",
       "<span style=\"color: #7fbf7f; text-decoration-color: #7fbf7f\">│   </span><span style=\"color: #008000; text-decoration-color: #008000\">'input_ids'</span>: <span style=\"color: #800080; text-decoration-color: #800080; font-weight: bold\">tensor</span><span style=\"font-weight: bold\">([[</span><span style=\"color: #008080; text-decoration-color: #008080; font-weight: bold\">0</span>, <span style=\"color: #008080; text-decoration-color: #008080; font-weight: bold\">3</span>, <span style=\"color: #008080; text-decoration-color: #008080; font-weight: bold\">4</span>, <span style=\"color: #008080; text-decoration-color: #008080; font-weight: bold\">1</span><span style=\"font-weight: bold\">]])</span>,\n",
       "<span style=\"color: #7fbf7f; text-decoration-color: #7fbf7f\">│   </span><span style=\"color: #008000; text-decoration-color: #008000\">'attention_mask'</span>: <span style=\"color: #800080; text-decoration-color: #800080; font-weight: bold\">tensor</span><span style=\"font-weight: bold\">([[</span><span style=\"color: #008080; text-decoration-color: #008080; font-weight: bold\">1</span>, <span style=\"color: #008080; text-decoration-color: #008080; font-weight: bold\">1</span>, <span style=\"color: #008080; text-decoration-color: #008080; font-weight: bold\">1</span>, <span style=\"color: #008080; text-decoration-color: #008080; font-weight: bold\">1</span><span style=\"font-weight: bold\">]])</span>,\n",
       "<span style=\"color: #7fbf7f; text-decoration-color: #7fbf7f\">│   </span><span style=\"color: #008000; text-decoration-color: #008000\">'target_ids'</span>: <span style=\"color: #800080; text-decoration-color: #800080; font-weight: bold\">tensor</span><span style=\"font-weight: bold\">([[</span><span style=\"color: #008080; text-decoration-color: #008080; font-weight: bold\">0</span>, <span style=\"color: #008080; text-decoration-color: #008080; font-weight: bold\">3</span>, <span style=\"color: #008080; text-decoration-color: #008080; font-weight: bold\">5</span>, <span style=\"color: #008080; text-decoration-color: #008080; font-weight: bold\">1</span><span style=\"font-weight: bold\">]])</span>\n",
       "<span style=\"font-weight: bold\">}</span>\n",
       "</pre>\n"
      ],
      "text/plain": [
       "\u001b[1m{\u001b[0m\n",
       "\u001b[2;32m│   \u001b[0m\u001b[32m'input_ids'\u001b[0m: \u001b[1;35mtensor\u001b[0m\u001b[1m(\u001b[0m\u001b[1m[\u001b[0m\u001b[1m[\u001b[0m\u001b[1;36m0\u001b[0m, \u001b[1;36m3\u001b[0m, \u001b[1;36m4\u001b[0m, \u001b[1;36m1\u001b[0m\u001b[1m]\u001b[0m\u001b[1m]\u001b[0m\u001b[1m)\u001b[0m,\n",
       "\u001b[2;32m│   \u001b[0m\u001b[32m'attention_mask'\u001b[0m: \u001b[1;35mtensor\u001b[0m\u001b[1m(\u001b[0m\u001b[1m[\u001b[0m\u001b[1m[\u001b[0m\u001b[1;36m1\u001b[0m, \u001b[1;36m1\u001b[0m, \u001b[1;36m1\u001b[0m, \u001b[1;36m1\u001b[0m\u001b[1m]\u001b[0m\u001b[1m]\u001b[0m\u001b[1m)\u001b[0m,\n",
       "\u001b[2;32m│   \u001b[0m\u001b[32m'target_ids'\u001b[0m: \u001b[1;35mtensor\u001b[0m\u001b[1m(\u001b[0m\u001b[1m[\u001b[0m\u001b[1m[\u001b[0m\u001b[1;36m0\u001b[0m, \u001b[1;36m3\u001b[0m, \u001b[1;36m5\u001b[0m, \u001b[1;36m1\u001b[0m\u001b[1m]\u001b[0m\u001b[1m]\u001b[0m\u001b[1m)\u001b[0m\n",
       "\u001b[1m}\u001b[0m\n"
      ]
     },
     "metadata": {},
     "output_type": "display_data"
    }
   ],
   "source": [
    "batch = next(iter(dataloader))\n",
    "pprint(batch)"
   ]
  },
  {
   "cell_type": "markdown",
   "metadata": {},
   "source": [
    "- We are interested in only the `input_ids` now."
   ]
  },
  {
   "cell_type": "code",
   "execution_count": 29,
   "metadata": {},
   "outputs": [
    {
     "data": {
      "text/html": [
       "<pre style=\"white-space:pre;overflow-x:auto;line-height:normal;font-family:Menlo,'DejaVu Sans Mono',consolas,'Courier New',monospace\"><span style=\"color: #800080; text-decoration-color: #800080; font-weight: bold\">tensor</span><span style=\"font-weight: bold\">([[</span><span style=\"color: #008080; text-decoration-color: #008080; font-weight: bold\">0</span>, <span style=\"color: #008080; text-decoration-color: #008080; font-weight: bold\">3</span>, <span style=\"color: #008080; text-decoration-color: #008080; font-weight: bold\">4</span>, <span style=\"color: #008080; text-decoration-color: #008080; font-weight: bold\">1</span><span style=\"font-weight: bold\">]])</span>\n",
       "</pre>\n"
      ],
      "text/plain": [
       "\u001b[1;35mtensor\u001b[0m\u001b[1m(\u001b[0m\u001b[1m[\u001b[0m\u001b[1m[\u001b[0m\u001b[1;36m0\u001b[0m, \u001b[1;36m3\u001b[0m, \u001b[1;36m4\u001b[0m, \u001b[1;36m1\u001b[0m\u001b[1m]\u001b[0m\u001b[1m]\u001b[0m\u001b[1m)\u001b[0m\n"
      ]
     },
     "metadata": {},
     "output_type": "display_data"
    },
    {
     "data": {
      "text/html": [
       "<pre style=\"white-space:pre;overflow-x:auto;line-height:normal;font-family:Menlo,'DejaVu Sans Mono',consolas,'Courier New',monospace\"><span style=\"color: #800080; text-decoration-color: #800080; font-weight: bold\">torch.Size</span><span style=\"font-weight: bold\">([</span><span style=\"color: #008080; text-decoration-color: #008080; font-weight: bold\">1</span>, <span style=\"color: #008080; text-decoration-color: #008080; font-weight: bold\">4</span><span style=\"font-weight: bold\">])</span>\n",
       "</pre>\n"
      ],
      "text/plain": [
       "\u001b[1;35mtorch.Size\u001b[0m\u001b[1m(\u001b[0m\u001b[1m[\u001b[0m\u001b[1;36m1\u001b[0m, \u001b[1;36m4\u001b[0m\u001b[1m]\u001b[0m\u001b[1m)\u001b[0m\n"
      ]
     },
     "metadata": {},
     "output_type": "display_data"
    }
   ],
   "source": [
    "X = batch[\"input_ids\"] # our $\\mathbf{X}$\n",
    "pprint(X)\n",
    "pprint(X.shape)"
   ]
  },
  {
   "cell_type": "markdown",
   "metadata": {},
   "source": [
    "- The first `input` is the sentence `hello bot`.\n",
    "- The tokenization is `[0, 3, 4, 1]` which correctly maps to the tokens `[<SOS>, hello, bot, <EOS>]` as per the `stoi` mapping.\n",
    "- The shape is `[1, 4]` because we have one sentence with 4 tokens, where the first token is the `<SOS>` token and the last token is the `<EOS>` token.\n",
    "    - In this context, the first dimension of the shape corresponds to the number of sentences (or samples) in the batch, and the second dimension corresponds to the number of tokens in each sentence.\n",
    "\n",
    "---\n",
    "\n",
    "In mathematical terms, we have:\n",
    "\n",
    "- The vocabulary $\\mathcal{V}$ consists of the unique tokens $\\{\\text{<SOS>, <EOS>, <PAD>, hello, bot, human}\\}$ in our text data. The size of the vocabulary is $V = |\\mathcal{V}| = 6$.\n",
    "\n",
    "- We define a function $f_{\\text{stoi}}$ that maps each token in our vocabulary to a unique integer index. \n",
    "  \n",
    "  $$\n",
    "  \\begin{aligned}\n",
    "  f_{\\text{stoi}}: \\mathcal{V} &\\to \\{0, 1, ..., V-1\\} \\\\\n",
    "  v &\\mapsto f_{\\text{stoi}}(v)\n",
    "  \\end{aligned}\n",
    "  $$\n",
    "  \n",
    "  This function represents the `stoi` mapping in the code. For example, $f_{\\text{stoi}}(\\text{<SOS>}) = 0$, $f_{\\text{stoi}}(\\text{hello}) = 3$, etc.\n",
    "\n",
    "- A sequence of text, such as the sentence \"hello bot\", is represented as a sequence of token indices $X=(x_1, x_2, x_3, x_4)$ using the $f_{\\text{stoi}}$ mapping. For the sentence \"hello bot\", we have:\n",
    "  \n",
    "    $$\n",
    "    \\begin{aligned}\n",
    "    \\mathbf{X} &= (f_{\\text{stoi}}(\\text{<SOS>}), f_{\\text{stoi}}(\\text{hello}), f_{{\\text{stoi}}}(\\text{bot}), f_{\\text{stoi}}(\\text{<EOS>})) \\\\\n",
    "    &= (0, 3, 4, 1)\n",
    "    \\end{aligned}\n",
    "    $$\n",
    "\n",
    "- Although $\\mathbf{X}$ is a sequence, we can consider it to be a vector:\n",
    "\n",
    "    $$\n",
    "    \\mathbf{X} = \\begin{bmatrix} 0 & 3 & 4 & 1 \\end{bmatrix} \\in \\mathbb{Z}^{1 \\times 4}\n",
    "    $$\n",
    "\n",
    "    which correctly corresponds to the shape `[1, 4]` in the code."
   ]
  },
  {
   "cell_type": "markdown",
   "metadata": {},
   "source": [
    "Next, we need to map each token to a vector in a high-dimensional space. The vectors we use are called embeddings. The integer tokens, by themselves, do not carry much information. For example, the word `hello` is tokenized to be $3$, which is an arbitrary integer. In a one-dimensional Euclidean space, the word `hello` and the next word `bot`, indexed by $4$, ***would appear to be very close to each other***. However, if we were to extend the vocabulary to say, a size of $10000$, and the word `bot` is instead indexed at $9999$, then the words `hello` and `bot` ***would appear to be very far from each other***. This means that the model would not recognize any relationship between these two words based on their tokenized integers. To address this, we use embedding vectors. While the initial mapping from words to vectors is arbitrary, during training, the model adjusts these vectors so that words used in similar contexts come to have similar vectors. This allows the model to capture semantic relationships between words, improving its ability to understand and generate meaningful text."
   ]
  },
  {
   "cell_type": "markdown",
   "metadata": {},
   "source": [
    "### One-hot encoding\n",
    "\n",
    "One-hot encoding is a common technique used in machine learning to represent categorical variables, such as our tokens. In the context of Natural Language Processing (NLP), one-hot encoding means representing each token as an $V$-dimensional vector. Each token is represented by a vector of all zeros except for a single one at the position corresponding to its index in the vocabulary. Therefore, the token 'hello' which corresponds to the index 3 in the vocabulary would be represented as the vector `[0, 0, 0, 1, 0, 0]`. This step is necessary as it allows us to convert the tokens into a format that can be processed by the embedding layer."
   ]
  },
  {
   "cell_type": "code",
   "execution_count": 30,
   "metadata": {},
   "outputs": [
    {
     "data": {
      "text/html": [
       "<pre style=\"white-space:pre;overflow-x:auto;line-height:normal;font-family:Menlo,'DejaVu Sans Mono',consolas,'Courier New',monospace\"><span style=\"color: #800080; text-decoration-color: #800080; font-weight: bold\">tensor</span><span style=\"font-weight: bold\">([[[</span><span style=\"color: #008080; text-decoration-color: #008080; font-weight: bold\">1</span>., <span style=\"color: #008080; text-decoration-color: #008080; font-weight: bold\">0</span>., <span style=\"color: #008080; text-decoration-color: #008080; font-weight: bold\">0</span>., <span style=\"color: #008080; text-decoration-color: #008080; font-weight: bold\">0</span>., <span style=\"color: #008080; text-decoration-color: #008080; font-weight: bold\">0</span>., <span style=\"color: #008080; text-decoration-color: #008080; font-weight: bold\">0</span>.<span style=\"font-weight: bold\">]</span>,\n",
       "<span style=\"color: #7fbf7f; text-decoration-color: #7fbf7f\">│   │    </span><span style=\"font-weight: bold\">[</span><span style=\"color: #008080; text-decoration-color: #008080; font-weight: bold\">0</span>., <span style=\"color: #008080; text-decoration-color: #008080; font-weight: bold\">0</span>., <span style=\"color: #008080; text-decoration-color: #008080; font-weight: bold\">0</span>., <span style=\"color: #008080; text-decoration-color: #008080; font-weight: bold\">1</span>., <span style=\"color: #008080; text-decoration-color: #008080; font-weight: bold\">0</span>., <span style=\"color: #008080; text-decoration-color: #008080; font-weight: bold\">0</span>.<span style=\"font-weight: bold\">]</span>,\n",
       "<span style=\"color: #7fbf7f; text-decoration-color: #7fbf7f\">│   │    </span><span style=\"font-weight: bold\">[</span><span style=\"color: #008080; text-decoration-color: #008080; font-weight: bold\">0</span>., <span style=\"color: #008080; text-decoration-color: #008080; font-weight: bold\">0</span>., <span style=\"color: #008080; text-decoration-color: #008080; font-weight: bold\">0</span>., <span style=\"color: #008080; text-decoration-color: #008080; font-weight: bold\">0</span>., <span style=\"color: #008080; text-decoration-color: #008080; font-weight: bold\">1</span>., <span style=\"color: #008080; text-decoration-color: #008080; font-weight: bold\">0</span>.<span style=\"font-weight: bold\">]</span>,\n",
       "<span style=\"color: #7fbf7f; text-decoration-color: #7fbf7f\">│   │    </span><span style=\"font-weight: bold\">[</span><span style=\"color: #008080; text-decoration-color: #008080; font-weight: bold\">0</span>., <span style=\"color: #008080; text-decoration-color: #008080; font-weight: bold\">1</span>., <span style=\"color: #008080; text-decoration-color: #008080; font-weight: bold\">0</span>., <span style=\"color: #008080; text-decoration-color: #008080; font-weight: bold\">0</span>., <span style=\"color: #008080; text-decoration-color: #008080; font-weight: bold\">0</span>., <span style=\"color: #008080; text-decoration-color: #008080; font-weight: bold\">0</span>.<span style=\"font-weight: bold\">]]])</span>\n",
       "</pre>\n"
      ],
      "text/plain": [
       "\u001b[1;35mtensor\u001b[0m\u001b[1m(\u001b[0m\u001b[1m[\u001b[0m\u001b[1m[\u001b[0m\u001b[1m[\u001b[0m\u001b[1;36m1\u001b[0m., \u001b[1;36m0\u001b[0m., \u001b[1;36m0\u001b[0m., \u001b[1;36m0\u001b[0m., \u001b[1;36m0\u001b[0m., \u001b[1;36m0\u001b[0m.\u001b[1m]\u001b[0m,\n",
       "\u001b[2;32m│   │    \u001b[0m\u001b[1m[\u001b[0m\u001b[1;36m0\u001b[0m., \u001b[1;36m0\u001b[0m., \u001b[1;36m0\u001b[0m., \u001b[1;36m1\u001b[0m., \u001b[1;36m0\u001b[0m., \u001b[1;36m0\u001b[0m.\u001b[1m]\u001b[0m,\n",
       "\u001b[2;32m│   │    \u001b[0m\u001b[1m[\u001b[0m\u001b[1;36m0\u001b[0m., \u001b[1;36m0\u001b[0m., \u001b[1;36m0\u001b[0m., \u001b[1;36m0\u001b[0m., \u001b[1;36m1\u001b[0m., \u001b[1;36m0\u001b[0m.\u001b[1m]\u001b[0m,\n",
       "\u001b[2;32m│   │    \u001b[0m\u001b[1m[\u001b[0m\u001b[1;36m0\u001b[0m., \u001b[1;36m1\u001b[0m., \u001b[1;36m0\u001b[0m., \u001b[1;36m0\u001b[0m., \u001b[1;36m0\u001b[0m., \u001b[1;36m0\u001b[0m.\u001b[1m]\u001b[0m\u001b[1m]\u001b[0m\u001b[1m]\u001b[0m\u001b[1m)\u001b[0m\n"
      ]
     },
     "metadata": {},
     "output_type": "display_data"
    },
    {
     "data": {
      "text/html": [
       "<pre style=\"white-space:pre;overflow-x:auto;line-height:normal;font-family:Menlo,'DejaVu Sans Mono',consolas,'Courier New',monospace\"><span style=\"color: #800080; text-decoration-color: #800080; font-weight: bold\">torch.Size</span><span style=\"font-weight: bold\">([</span><span style=\"color: #008080; text-decoration-color: #008080; font-weight: bold\">1</span>, <span style=\"color: #008080; text-decoration-color: #008080; font-weight: bold\">4</span>, <span style=\"color: #008080; text-decoration-color: #008080; font-weight: bold\">6</span><span style=\"font-weight: bold\">])</span>\n",
       "</pre>\n"
      ],
      "text/plain": [
       "\u001b[1;35mtorch.Size\u001b[0m\u001b[1m(\u001b[0m\u001b[1m[\u001b[0m\u001b[1;36m1\u001b[0m, \u001b[1;36m4\u001b[0m, \u001b[1;36m6\u001b[0m\u001b[1m]\u001b[0m\u001b[1m)\u001b[0m\n"
      ]
     },
     "metadata": {},
     "output_type": "display_data"
    }
   ],
   "source": [
    "O = F.one_hot(X, num_classes=len(dataset.vocab)).float() # our one-hot encoding $\\mathbf{O}$\n",
    "pprint(O)\n",
    "pprint(O.shape)"
   ]
  },
  {
   "cell_type": "markdown",
   "metadata": {},
   "source": [
    "- Recall our tokenized sequence is `[0, 3, 4, 1]`.\n",
    "- Converting it to one-hot encoding, we get:\n",
    "    - `[1, 0, 0, 0, 0, 0]`\n",
    "    - `[0, 0, 0, 1, 0, 0]`\n",
    "    - `[0, 0, 0, 0, 1, 0]`\n",
    "    - `[0, 1, 0, 0, 0, 0]`\n",
    "- The shape has turned from `[1, 4]` to be broadcasted to `[1, 4, 6]` corresponding to the sequence length and the vocabulary size. Or more concretely `[batch_size, sequence_length, vocab_size]`.\n",
    "- For simplicity sake, you can remove the first dimension, the batch index, and just use `[4, 6]`. The `4` is the sequence length and the `6` is the vocabulary size.\n",
    "\n",
    "---\n",
    "\n",
    "In mathematical terms, we have:\n",
    "\n",
    "Using these notations, we can say that our tokenized sequence $\\mathbf{X}$ is converted to a one-hot matrix $O$ of size $[L, V]$ (or more generally $[N, L, V]$ in the presence of batch size $N$). \n",
    "\n",
    "In the given example, $\\mathbf{X} = [0, 3, 4, 1]$, which is of size $[4]$, and after one-hot encoding, we get $O$, a $[4, 6]$ matrix as follows:\n",
    "\n",
    "$$\n",
    "O = \\begin{bmatrix} 1 & 0 & 0 & 0 & 0 & 0 \\\\ 0 & 0 & 0 & 1 & 0 & 0 \\\\ 0 & 0 & 0 & 0 & 1 & 0 \\\\ 0 & 1 & 0 & 0 & 0 & 0 \\end{bmatrix} \\in \\mathbb{R}^{4 \\times 6}\n",
    "$$\n",
    "\n",
    "where\n",
    "\n",
    "- $4$ is the sequence length $L$.\n",
    "- $6$ is the vocabulary size $V$.\n",
    "- Each row is a one-hot vector of the token $x_{\\ell} \\in \\mathbb{R}^{V}$ at position $\\ell$.\n",
    "\n",
    "A minute quirk here is that the token $x_{\\ell}$ exists in the ***continuous space***\n",
    "instead of the ***discrete space***. This is because we have to perform the dot product between the one-hot vector and the embedding vector, which is a continuous vector.\n",
    "\n",
    "The reason is that these spaces will be used in computations that involve real-valued numbers, especially when the models are trained with gradient-based optimization algorithms, where the parameters of the model are updated using real-valued gradients.\n",
    "\n",
    "Therefore, in our code, we also converted the one-hot vector to `.float()`."
   ]
  },
  {
   "cell_type": "markdown",
   "metadata": {},
   "source": [
    "### Embedding Layer/Matrix\n",
    "\n",
    "Now, let's introduce the concept of an \"embedding\" which is a way to transform our one-hot encoded vectors into a lower, or sometimes higher, dimensional space that is easier to process by the model and, more importantly, contains meaningful representation of the words. Embedding also helps the model understand the semantic relationships between the words. Each unique word in our vocabulary is associated with an embedding, which is a real-valued vector.\n",
    "\n",
    "Usually, it is a lower dimension because our vocabulary size is in the tens\n",
    "of thousands and the embedding dimension are typically $512$ or $768$.\n",
    "\n",
    "Here, our vocabulary size is $V=6$ and the embedding dimension is $D=2$."
   ]
  },
  {
   "cell_type": "code",
   "execution_count": 31,
   "metadata": {},
   "outputs": [
    {
     "data": {
      "text/html": [
       "<pre style=\"white-space:pre;overflow-x:auto;line-height:normal;font-family:Menlo,'DejaVu Sans Mono',consolas,'Courier New',monospace\">Parameter containing:\n",
       "<span style=\"color: #800080; text-decoration-color: #800080; font-weight: bold\">tensor</span><span style=\"font-weight: bold\">([[</span> <span style=\"color: #008080; text-decoration-color: #008080; font-weight: bold\">1.1103</span>, <span style=\"color: #008080; text-decoration-color: #008080; font-weight: bold\">-1.6898</span><span style=\"font-weight: bold\">]</span>,\n",
       "<span style=\"color: #7fbf7f; text-decoration-color: #7fbf7f\">│   │   </span><span style=\"font-weight: bold\">[</span><span style=\"color: #008080; text-decoration-color: #008080; font-weight: bold\">-0.9890</span>,  <span style=\"color: #008080; text-decoration-color: #008080; font-weight: bold\">0.9580</span><span style=\"font-weight: bold\">]</span>,\n",
       "<span style=\"color: #7fbf7f; text-decoration-color: #7fbf7f\">│   │   </span><span style=\"font-weight: bold\">[</span> <span style=\"color: #008080; text-decoration-color: #008080; font-weight: bold\">1.3221</span>,  <span style=\"color: #008080; text-decoration-color: #008080; font-weight: bold\">0.8172</span><span style=\"font-weight: bold\">]</span>,\n",
       "<span style=\"color: #7fbf7f; text-decoration-color: #7fbf7f\">│   │   </span><span style=\"font-weight: bold\">[</span><span style=\"color: #008080; text-decoration-color: #008080; font-weight: bold\">-0.7658</span>, <span style=\"color: #008080; text-decoration-color: #008080; font-weight: bold\">-0.7506</span><span style=\"font-weight: bold\">]</span>,\n",
       "<span style=\"color: #7fbf7f; text-decoration-color: #7fbf7f\">│   │   </span><span style=\"font-weight: bold\">[</span> <span style=\"color: #008080; text-decoration-color: #008080; font-weight: bold\">1.3525</span>,  <span style=\"color: #008080; text-decoration-color: #008080; font-weight: bold\">0.6863</span><span style=\"font-weight: bold\">]</span>,\n",
       "<span style=\"color: #7fbf7f; text-decoration-color: #7fbf7f\">│   │   </span><span style=\"font-weight: bold\">[</span><span style=\"color: #008080; text-decoration-color: #008080; font-weight: bold\">-0.3278</span>,  <span style=\"color: #008080; text-decoration-color: #008080; font-weight: bold\">0.7950</span><span style=\"font-weight: bold\">]]</span>, <span style=\"color: #808000; text-decoration-color: #808000\">requires_grad</span>=<span style=\"color: #00ff00; text-decoration-color: #00ff00; font-style: italic\">True</span><span style=\"font-weight: bold\">)</span>\n",
       "</pre>\n"
      ],
      "text/plain": [
       "Parameter containing:\n",
       "\u001b[1;35mtensor\u001b[0m\u001b[1m(\u001b[0m\u001b[1m[\u001b[0m\u001b[1m[\u001b[0m \u001b[1;36m1.1103\u001b[0m, \u001b[1;36m-1.6898\u001b[0m\u001b[1m]\u001b[0m,\n",
       "\u001b[2;32m│   │   \u001b[0m\u001b[1m[\u001b[0m\u001b[1;36m-0.9890\u001b[0m,  \u001b[1;36m0.9580\u001b[0m\u001b[1m]\u001b[0m,\n",
       "\u001b[2;32m│   │   \u001b[0m\u001b[1m[\u001b[0m \u001b[1;36m1.3221\u001b[0m,  \u001b[1;36m0.8172\u001b[0m\u001b[1m]\u001b[0m,\n",
       "\u001b[2;32m│   │   \u001b[0m\u001b[1m[\u001b[0m\u001b[1;36m-0.7658\u001b[0m, \u001b[1;36m-0.7506\u001b[0m\u001b[1m]\u001b[0m,\n",
       "\u001b[2;32m│   │   \u001b[0m\u001b[1m[\u001b[0m \u001b[1;36m1.3525\u001b[0m,  \u001b[1;36m0.6863\u001b[0m\u001b[1m]\u001b[0m,\n",
       "\u001b[2;32m│   │   \u001b[0m\u001b[1m[\u001b[0m\u001b[1;36m-0.3278\u001b[0m,  \u001b[1;36m0.7950\u001b[0m\u001b[1m]\u001b[0m\u001b[1m]\u001b[0m, \u001b[33mrequires_grad\u001b[0m=\u001b[3;92mTrue\u001b[0m\u001b[1m)\u001b[0m\n"
      ]
     },
     "metadata": {},
     "output_type": "display_data"
    },
    {
     "data": {
      "text/html": [
       "<pre style=\"white-space:pre;overflow-x:auto;line-height:normal;font-family:Menlo,'DejaVu Sans Mono',consolas,'Courier New',monospace\"><span style=\"color: #800080; text-decoration-color: #800080; font-weight: bold\">torch.Size</span><span style=\"font-weight: bold\">([</span><span style=\"color: #008080; text-decoration-color: #008080; font-weight: bold\">6</span>, <span style=\"color: #008080; text-decoration-color: #008080; font-weight: bold\">2</span><span style=\"font-weight: bold\">])</span>\n",
       "</pre>\n"
      ],
      "text/plain": [
       "\u001b[1;35mtorch.Size\u001b[0m\u001b[1m(\u001b[0m\u001b[1m[\u001b[0m\u001b[1;36m6\u001b[0m, \u001b[1;36m2\u001b[0m\u001b[1m]\u001b[0m\u001b[1m)\u001b[0m\n"
      ]
     },
     "metadata": {},
     "output_type": "display_data"
    }
   ],
   "source": [
    "seed_all(42, seed_torch=True)\n",
    "D = embedding_dim = 2\n",
    "token_emb = nn.Embedding(num_embeddings=len(dataset.vocab), embedding_dim=embedding_dim)\n",
    "nn.init.kaiming_normal_(token_emb.weight)\n",
    "\n",
    "E = embedding_weight_matrix = token_emb.weight # E for embedding weights\n",
    "pprint(E)\n",
    "pprint(E.shape)"
   ]
  },
  {
   "cell_type": "markdown",
   "metadata": {},
   "source": [
    "We use PyTorch's embedding layer to create our embeddings. The embedding layer is simply a linear layer that maps the one-hot encoded input to the embedding space. This layer has a weight matrix, often called the embedding matrix, which is a $V \\times D$ matrix where $V$ is the size of the vocabulary and $D$ is the desired embedding dimension.\n",
    "\n",
    "It is of course randomly initialized, and it is learned during the training of the model. \n",
    "\n",
    "So for now, the embedding matrix is:\n",
    "\n",
    "$$\n",
    "\\mathbf{E} = \\begin{bmatrix} 1.1103 & -1.6898 \\\\ -0.9890 & 0.9580 \\\\ 1.3221 & 0.8172 \\\\ -0.7658 & -0.7506 \\\\ 1.3525 & 0.6863 \\\\ -0.3278 & 0.7950 \\end{bmatrix} \\in \\mathbb{R}^{6 \\times 2}\n",
    "$$\n",
    "\n",
    "This is a $6 \\times 2$ matrix where each row represents the embedding vector of a word in the vocabulary. The matrix is in $\\mathbb{R}^{V \\times D}$, where $V$ is the vocabulary size and $D$ is the embedding dimension. In this case, $V = 6$ and $D = 2$.\n",
    "\n",
    "The element $e_{j, d}$ at the $j$-th row and the $d$-th column is the $d$-th element of the embedding vector of the $j$-th word in the vocabulary.\n",
    "\n",
    "We want to associate each token with a $D$ dimensional vector, as mentioned earlier.\n",
    "This is to associate each token with a more meaningful representation.\n",
    "\n",
    "In our example:\n",
    "\n",
    "- `[1.1103, -1.6898]` is the embedding vector of the token `<SOS>`.\n",
    "- `[-0.9890, 0.9580]` is the embedding vector of the token `<EOS>`.\n",
    "- `[1.3221, 0.8172]` is the embedding vector of the token `<PAD>`.\n",
    "- `[-0.7658, -0.7506]` is the embedding vector of the token `hello`.\n",
    "- `[1.3525, 0.6863]` is the embedding vector of the token `bot`.\n",
    "- `[-0.3278, 0.7950]` is the embedding vector of the token `human`.\n"
   ]
  },
  {
   "cell_type": "code",
   "execution_count": 32,
   "metadata": {},
   "outputs": [
    {
     "data": {
      "image/png": "[encoded data removed]",
      "text/plain": [
       "<Figure size 800x800 with 1 Axes>"
      ]
     },
     "metadata": {},
     "output_type": "display_data"
    }
   ],
   "source": [
    "vectors = {\n",
    "    \"<SOS>\": [1.1103, -1.6898],\n",
    "    \"<EOS>\": [-0.9890, 0.9580],\n",
    "    \"<PAD>\": [1.3221, 0.8172],\n",
    "    \"hello\": [-0.7658, -0.7506],\n",
    "    \"bot\": [1.3525, 0.6863],\n",
    "    \"human\": [-0.3278, 0.7950],\n",
    "}\n",
    "\n",
    "fig = plt.figure(figsize=(8,8))\n",
    "ax = fig.add_subplot(111)\n",
    "\n",
    "for word, vec in vectors.items():\n",
    "    ax.quiver(0, 0, vec[0], vec[1], angles='xy', scale_units='xy', scale=1, color='r')\n",
    "    ax.text(vec[0], vec[1], word)\n",
    "\n",
    "ax.set_xlim([-2, 2])\n",
    "ax.set_ylim([-2, 2])\n",
    "ax.set_xlabel('X')\n",
    "ax.set_ylabel('Y')\n",
    "plt.title('Vector Representation of Tokens')\n",
    "plt.show()"
   ]
  },
  {
   "cell_type": "markdown",
   "metadata": {},
   "source": [
    "Measuring how close each vector is semantically can be formalized by cosine\n",
    "similarity, essentially intuition is measuring the angle between two vectors."
   ]
  },
  {
   "cell_type": "code",
   "execution_count": 33,
   "metadata": {},
   "outputs": [
    {
     "data": {
      "text/html": [
       "<pre style=\"white-space:pre;overflow-x:auto;line-height:normal;font-family:Menlo,'DejaVu Sans Mono',consolas,'Courier New',monospace\"><span style=\"font-weight: bold\">[</span><span style=\"color: #008000; text-decoration-color: #008000\">'&lt;SOS&gt;'</span><span style=\"color: #000000; text-decoration-color: #000000\">, </span><span style=\"color: #008000; text-decoration-color: #008000\">'&lt;EOS&gt;'</span><span style=\"color: #000000; text-decoration-color: #000000\">, </span><span style=\"color: #008000; text-decoration-color: #008000\">'&lt;PAD&gt;'</span>, <span style=\"color: #008000; text-decoration-color: #008000\">'hello'</span>, <span style=\"color: #008000; text-decoration-color: #008000\">'bot'</span>, <span style=\"color: #008000; text-decoration-color: #008000\">'human'</span><span style=\"font-weight: bold\">]</span>\n",
       "</pre>\n"
      ],
      "text/plain": [
       "\u001b[1m[\u001b[0m\u001b[32m'\u001b[0m\u001b[32m<\u001b[0m\u001b[32mSOS\u001b[0m\u001b[32m>'\u001b[0m\u001b[39m, \u001b[0m\u001b[32m'<EOS>'\u001b[0m\u001b[39m, \u001b[0m\u001b[32m'<PAD\u001b[0m\u001b[32m>\u001b[0m\u001b[32m'\u001b[0m, \u001b[32m'hello'\u001b[0m, \u001b[32m'bot'\u001b[0m, \u001b[32m'human'\u001b[0m\u001b[1m]\u001b[0m\n"
      ]
     },
     "metadata": {},
     "output_type": "display_data"
    },
    {
     "data": {
      "text/html": [
       "<div>\n",
       "<style scoped>\n",
       "    .dataframe tbody tr th:only-of-type {\n",
       "        vertical-align: middle;\n",
       "    }\n",
       "\n",
       "    .dataframe tbody tr th {\n",
       "        vertical-align: top;\n",
       "    }\n",
       "\n",
       "    .dataframe thead th {\n",
       "        text-align: right;\n",
       "    }\n",
       "</style>\n",
       "<table border=\"1\" class=\"dataframe\">\n",
       "  <thead>\n",
       "    <tr style=\"text-align: right;\">\n",
       "      <th></th>\n",
       "      <th>&lt;SOS&gt;</th>\n",
       "      <th>&lt;EOS&gt;</th>\n",
       "      <th>&lt;PAD&gt;</th>\n",
       "      <th>hello</th>\n",
       "      <th>bot</th>\n",
       "      <th>human</th>\n",
       "    </tr>\n",
       "  </thead>\n",
       "  <tbody>\n",
       "    <tr>\n",
       "      <th>&lt;SOS&gt;</th>\n",
       "      <td>1.000000</td>\n",
       "      <td>-0.975899</td>\n",
       "      <td>0.027705</td>\n",
       "      <td>0.192830</td>\n",
       "      <td>0.111513</td>\n",
       "      <td>-0.981955</td>\n",
       "    </tr>\n",
       "    <tr>\n",
       "      <th>&lt;EOS&gt;</th>\n",
       "      <td>-0.975899</td>\n",
       "      <td>1.000000</td>\n",
       "      <td>-0.245178</td>\n",
       "      <td>0.025946</td>\n",
       "      <td>-0.325689</td>\n",
       "      <td>0.917019</td>\n",
       "    </tr>\n",
       "    <tr>\n",
       "      <th>&lt;PAD&gt;</th>\n",
       "      <td>0.027705</td>\n",
       "      <td>-0.245178</td>\n",
       "      <td>1.000000</td>\n",
       "      <td>-0.975513</td>\n",
       "      <td>0.996471</td>\n",
       "      <td>0.161838</td>\n",
       "    </tr>\n",
       "    <tr>\n",
       "      <th>hello</th>\n",
       "      <td>0.192830</td>\n",
       "      <td>0.025946</td>\n",
       "      <td>-0.975513</td>\n",
       "      <td>1.000000</td>\n",
       "      <td>-0.953609</td>\n",
       "      <td>-0.374917</td>\n",
       "    </tr>\n",
       "    <tr>\n",
       "      <th>bot</th>\n",
       "      <td>0.111513</td>\n",
       "      <td>-0.325689</td>\n",
       "      <td>0.996471</td>\n",
       "      <td>-0.953609</td>\n",
       "      <td>1.000000</td>\n",
       "      <td>0.078435</td>\n",
       "    </tr>\n",
       "    <tr>\n",
       "      <th>human</th>\n",
       "      <td>-0.981955</td>\n",
       "      <td>0.917019</td>\n",
       "      <td>0.161838</td>\n",
       "      <td>-0.374917</td>\n",
       "      <td>0.078435</td>\n",
       "      <td>1.000000</td>\n",
       "    </tr>\n",
       "  </tbody>\n",
       "</table>\n",
       "</div>"
      ],
      "text/plain": [
       "          <SOS>     <EOS>     <PAD>     hello       bot     human\n",
       "<SOS>  1.000000 -0.975899  0.027705  0.192830  0.111513 -0.981955\n",
       "<EOS> -0.975899  1.000000 -0.245178  0.025946 -0.325689  0.917019\n",
       "<PAD>  0.027705 -0.245178  1.000000 -0.975513  0.996471  0.161838\n",
       "hello  0.192830  0.025946 -0.975513  1.000000 -0.953609 -0.374917\n",
       "bot    0.111513 -0.325689  0.996471 -0.953609  1.000000  0.078435\n",
       "human -0.981955  0.917019  0.161838 -0.374917  0.078435  1.000000"
      ]
     },
     "execution_count": 33,
     "metadata": {},
     "output_type": "execute_result"
    }
   ],
   "source": [
    "# Calculate cosine similarity\n",
    "cos_sim = cosine_similarity(E.detach().numpy())\n",
    "\n",
    "# Your vocabulary\n",
    "# V_mathcal = [\"<SOS>\", \"<EOS>\", \"<PAD>\", \"hello\", \"bot\", \"human\"]\n",
    "pprint(V_mathcal)\n",
    "\n",
    "# Create a DataFrame\n",
    "df = pd.DataFrame(cos_sim, index=V_mathcal, columns=V_mathcal)\n",
    "\n",
    "df"
   ]
  },
  {
   "cell_type": "code",
   "execution_count": 34,
   "metadata": {},
   "outputs": [
    {
     "data": {
      "text/html": [
       "<pre style=\"white-space:pre;overflow-x:auto;line-height:normal;font-family:Menlo,'DejaVu Sans Mono',consolas,'Courier New',monospace\"><span style=\"color: #800080; text-decoration-color: #800080; font-weight: bold\">tensor</span><span style=\"font-weight: bold\">([[[</span> <span style=\"color: #008080; text-decoration-color: #008080; font-weight: bold\">1.1103</span>, <span style=\"color: #008080; text-decoration-color: #008080; font-weight: bold\">-1.6898</span><span style=\"font-weight: bold\">]</span>,\n",
       "<span style=\"color: #7fbf7f; text-decoration-color: #7fbf7f\">│   │    </span><span style=\"font-weight: bold\">[</span><span style=\"color: #008080; text-decoration-color: #008080; font-weight: bold\">-0.7658</span>, <span style=\"color: #008080; text-decoration-color: #008080; font-weight: bold\">-0.7506</span><span style=\"font-weight: bold\">]</span>,\n",
       "<span style=\"color: #7fbf7f; text-decoration-color: #7fbf7f\">│   │    </span><span style=\"font-weight: bold\">[</span> <span style=\"color: #008080; text-decoration-color: #008080; font-weight: bold\">1.3525</span>,  <span style=\"color: #008080; text-decoration-color: #008080; font-weight: bold\">0.6863</span><span style=\"font-weight: bold\">]</span>,\n",
       "<span style=\"color: #7fbf7f; text-decoration-color: #7fbf7f\">│   │    </span><span style=\"font-weight: bold\">[</span><span style=\"color: #008080; text-decoration-color: #008080; font-weight: bold\">-0.9890</span>,  <span style=\"color: #008080; text-decoration-color: #008080; font-weight: bold\">0.9580</span><span style=\"font-weight: bold\">]]]</span>, <span style=\"color: #808000; text-decoration-color: #808000\">grad_fn</span>=<span style=\"font-weight: bold\">&lt;</span><span style=\"color: #ff00ff; text-decoration-color: #ff00ff; font-weight: bold\">UnsafeViewBackward0</span><span style=\"font-weight: bold\">&gt;)</span>\n",
       "</pre>\n"
      ],
      "text/plain": [
       "\u001b[1;35mtensor\u001b[0m\u001b[1m(\u001b[0m\u001b[1m[\u001b[0m\u001b[1m[\u001b[0m\u001b[1m[\u001b[0m \u001b[1;36m1.1103\u001b[0m, \u001b[1;36m-1.6898\u001b[0m\u001b[1m]\u001b[0m,\n",
       "\u001b[2;32m│   │    \u001b[0m\u001b[1m[\u001b[0m\u001b[1;36m-0.7658\u001b[0m, \u001b[1;36m-0.7506\u001b[0m\u001b[1m]\u001b[0m,\n",
       "\u001b[2;32m│   │    \u001b[0m\u001b[1m[\u001b[0m \u001b[1;36m1.3525\u001b[0m,  \u001b[1;36m0.6863\u001b[0m\u001b[1m]\u001b[0m,\n",
       "\u001b[2;32m│   │    \u001b[0m\u001b[1m[\u001b[0m\u001b[1;36m-0.9890\u001b[0m,  \u001b[1;36m0.9580\u001b[0m\u001b[1m]\u001b[0m\u001b[1m]\u001b[0m\u001b[1m]\u001b[0m, \u001b[33mgrad_fn\u001b[0m=\u001b[1m<\u001b[0m\u001b[1;95mUnsafeViewBackward0\u001b[0m\u001b[1m>\u001b[0m\u001b[1m)\u001b[0m\n"
      ]
     },
     "metadata": {},
     "output_type": "display_data"
    },
    {
     "data": {
      "text/html": [
       "<pre style=\"white-space:pre;overflow-x:auto;line-height:normal;font-family:Menlo,'DejaVu Sans Mono',consolas,'Courier New',monospace\"><span style=\"color: #800080; text-decoration-color: #800080; font-weight: bold\">torch.Size</span><span style=\"font-weight: bold\">([</span><span style=\"color: #008080; text-decoration-color: #008080; font-weight: bold\">1</span>, <span style=\"color: #008080; text-decoration-color: #008080; font-weight: bold\">4</span>, <span style=\"color: #008080; text-decoration-color: #008080; font-weight: bold\">2</span><span style=\"font-weight: bold\">])</span>\n",
       "</pre>\n"
      ],
      "text/plain": [
       "\u001b[1;35mtorch.Size\u001b[0m\u001b[1m(\u001b[0m\u001b[1m[\u001b[0m\u001b[1;36m1\u001b[0m, \u001b[1;36m4\u001b[0m, \u001b[1;36m2\u001b[0m\u001b[1m]\u001b[0m\u001b[1m)\u001b[0m\n"
      ]
     },
     "metadata": {},
     "output_type": "display_data"
    }
   ],
   "source": [
    "Z = torch.matmul(O, E)\n",
    "pprint(Z)\n",
    "pprint(Z.shape)"
   ]
  },
  {
   "cell_type": "markdown",
   "metadata": {},
   "source": [
    "This is our $\\mathbf{Z}$, each row is the embedding vector of a word in the vocabulary. Note that these values are initially random, and they are learned during the training of the model.\n",
    "\n",
    "It is no surprise the dimension is $4 \\times 4$, which is $L \\times D$, the \n",
    "length of the sequence times the dimension of the embedding vector."
   ]
  },
  {
   "cell_type": "markdown",
   "metadata": {},
   "source": [
    "### Positional Embeddings\n",
    "\n",
    "VISIT after attention.\n",
    "\n",
    "The code below wont work as of now because the `embedding_dim` is odd. It needs to be even.\n",
    "\n",
    "$P$ is not learnable. It is a fixed matrix.\n"
   ]
  },
  {
   "cell_type": "code",
   "execution_count": 35,
   "metadata": {},
   "outputs": [],
   "source": [
    "class PositionalEncoding(nn.Module):\n",
    "    def __init__(\n",
    "        self, embedding_dim: int, dropout: float = 0.1, max_len: int = 3\n",
    "    ) -> None:\n",
    "        super(PositionalEncoding, self).__init__()\n",
    "        self.dropout = nn.Dropout(dropout)\n",
    "        self.max_len = max_len\n",
    "        self.embedding_dim = embedding_dim\n",
    "        self.P = self._init_positional_encoding()\n",
    "\n",
    "    def _init_positional_encoding(self):\n",
    "        \"\"\"Initialize the positional encoding tensor.\"\"\"\n",
    "        P = torch.zeros((1, self.max_len, self.embedding_dim))\n",
    "        position = self._get_position_vector()\n",
    "        div_term = self._get_div_term_vector()\n",
    "        P[:, :, 0::2] = torch.sin(position / div_term)\n",
    "        P[:, :, 1::2] = torch.cos(position / div_term)\n",
    "        return P\n",
    "\n",
    "    def _get_position_vector(self):\n",
    "        \"\"\"Return a vector representing the position of each token in a sequence.\"\"\"\n",
    "        return torch.arange(self.max_len, dtype=torch.float32).reshape(-1, 1)\n",
    "\n",
    "    def _get_div_term_vector(self):\n",
    "        \"\"\"Return a vector representing the divisor term for positional encoding.\"\"\"\n",
    "        return torch.pow(\n",
    "            10000,\n",
    "            torch.arange(0, self.embedding_dim, 2, dtype=torch.float32)\n",
    "            / self.embedding_dim,\n",
    "        )\n",
    "\n",
    "    def forward(self, Z):\n",
    "        Z = self._add_positional_encoding(Z)\n",
    "        return self.dropout(Z)\n",
    "\n",
    "    def _add_positional_encoding(self, Z):\n",
    "        \"\"\"Add the positional encoding tensor to the input tensor.\"\"\"\n",
    "        return Z + self.P[:, : Z.shape[1], :].to(Z.device)"
   ]
  },
  {
   "cell_type": "markdown",
   "metadata": {},
   "source": [
    "In the `forward` method of the `PositionalEncoding` class, the positional encoding is added to the input `X`:\n",
    "\n",
    "```python\n",
    "def forward(self, X):\n",
    "    X = X + self.P[:, :X.shape[1], :].to(X.device)\n",
    "    return self.dropout(X)\n",
    "```\n",
    "\n",
    "This method slices the precalculated positional encodings tensor `self.P` to match the sequence length of `X`, adds it to `X`, and then applies dropout. The result, which is the sum of the original embeddings and the positional encodings, is returned. So there's no need to add the positional encodings to `X` outside of this class.\n",
    "\n",
    "So when you call `positional_encoding(Z)`, it adds the positional encodings to `Z` and applies dropout, then returns the result. You could store this result in `Z_with_pos_encodings` or just overwrite it as `Z`:\n",
    "\n",
    "```python\n",
    "Z = positional_encoding(Z)\n",
    "```\n",
    "\n",
    "Now, `Z` contains the original embeddings with the positional encodings added and dropout applied."
   ]
  },
  {
   "cell_type": "code",
   "execution_count": 36,
   "metadata": {},
   "outputs": [
    {
     "data": {
      "text/html": [
       "<pre style=\"white-space:pre;overflow-x:auto;line-height:normal;font-family:Menlo,'DejaVu Sans Mono',consolas,'Courier New',monospace\"><span style=\"color: #800080; text-decoration-color: #800080; font-weight: bold\">tensor</span><span style=\"font-weight: bold\">([[[</span> <span style=\"color: #008080; text-decoration-color: #008080; font-weight: bold\">1.1103</span>, <span style=\"color: #008080; text-decoration-color: #008080; font-weight: bold\">-0.6898</span><span style=\"font-weight: bold\">]</span>,\n",
       "<span style=\"color: #7fbf7f; text-decoration-color: #7fbf7f\">│   │    </span><span style=\"font-weight: bold\">[</span> <span style=\"color: #008080; text-decoration-color: #008080; font-weight: bold\">0.0756</span>, <span style=\"color: #008080; text-decoration-color: #008080; font-weight: bold\">-0.2103</span><span style=\"font-weight: bold\">]</span>,\n",
       "<span style=\"color: #7fbf7f; text-decoration-color: #7fbf7f\">│   │    </span><span style=\"font-weight: bold\">[</span> <span style=\"color: #008080; text-decoration-color: #008080; font-weight: bold\">2.2618</span>,  <span style=\"color: #008080; text-decoration-color: #008080; font-weight: bold\">0.2702</span><span style=\"font-weight: bold\">]</span>,\n",
       "<span style=\"color: #7fbf7f; text-decoration-color: #7fbf7f\">│   │    </span><span style=\"font-weight: bold\">[</span><span style=\"color: #008080; text-decoration-color: #008080; font-weight: bold\">-0.8478</span>, <span style=\"color: #008080; text-decoration-color: #008080; font-weight: bold\">-0.0320</span><span style=\"font-weight: bold\">]]]</span>, <span style=\"color: #808000; text-decoration-color: #808000\">grad_fn</span>=<span style=\"font-weight: bold\">&lt;</span><span style=\"color: #ff00ff; text-decoration-color: #ff00ff; font-weight: bold\">AddBackward0</span><span style=\"font-weight: bold\">&gt;)</span>\n",
       "</pre>\n"
      ],
      "text/plain": [
       "\u001b[1;35mtensor\u001b[0m\u001b[1m(\u001b[0m\u001b[1m[\u001b[0m\u001b[1m[\u001b[0m\u001b[1m[\u001b[0m \u001b[1;36m1.1103\u001b[0m, \u001b[1;36m-0.6898\u001b[0m\u001b[1m]\u001b[0m,\n",
       "\u001b[2;32m│   │    \u001b[0m\u001b[1m[\u001b[0m \u001b[1;36m0.0756\u001b[0m, \u001b[1;36m-0.2103\u001b[0m\u001b[1m]\u001b[0m,\n",
       "\u001b[2;32m│   │    \u001b[0m\u001b[1m[\u001b[0m \u001b[1;36m2.2618\u001b[0m,  \u001b[1;36m0.2702\u001b[0m\u001b[1m]\u001b[0m,\n",
       "\u001b[2;32m│   │    \u001b[0m\u001b[1m[\u001b[0m\u001b[1;36m-0.8478\u001b[0m, \u001b[1;36m-0.0320\u001b[0m\u001b[1m]\u001b[0m\u001b[1m]\u001b[0m\u001b[1m]\u001b[0m, \u001b[33mgrad_fn\u001b[0m=\u001b[1m<\u001b[0m\u001b[1;95mAddBackward0\u001b[0m\u001b[1m>\u001b[0m\u001b[1m)\u001b[0m\n"
      ]
     },
     "metadata": {},
     "output_type": "display_data"
    },
    {
     "data": {
      "text/html": [
       "<pre style=\"white-space:pre;overflow-x:auto;line-height:normal;font-family:Menlo,'DejaVu Sans Mono',consolas,'Courier New',monospace\"><span style=\"color: #800080; text-decoration-color: #800080; font-weight: bold\">torch.Size</span><span style=\"font-weight: bold\">([</span><span style=\"color: #008080; text-decoration-color: #008080; font-weight: bold\">1</span>, <span style=\"color: #008080; text-decoration-color: #008080; font-weight: bold\">4</span>, <span style=\"color: #008080; text-decoration-color: #008080; font-weight: bold\">2</span><span style=\"font-weight: bold\">])</span>\n",
       "</pre>\n"
      ],
      "text/plain": [
       "\u001b[1;35mtorch.Size\u001b[0m\u001b[1m(\u001b[0m\u001b[1m[\u001b[0m\u001b[1;36m1\u001b[0m, \u001b[1;36m4\u001b[0m, \u001b[1;36m2\u001b[0m\u001b[1m]\u001b[0m\u001b[1m)\u001b[0m\n"
      ]
     },
     "metadata": {},
     "output_type": "display_data"
    }
   ],
   "source": [
    "max_len = 10\n",
    "dropout = 0\n",
    "D = embedding_dim = 2 # same as earlier\n",
    "\n",
    "positional_encoding = PositionalEncoding(embedding_dim=embedding_dim, dropout=dropout, max_len=max_len)\n",
    "Z = positional_encoding(Z)\n",
    "pprint(Z)\n",
    "pprint(Z.shape)"
   ]
  },
  {
   "cell_type": "markdown",
   "metadata": {},
   "source": [
    "In the context of your \"hello bot\" example, the original tensor `Z` represented the word embeddings, where each token in the sequence (i.e., `SOS`, `hello`, `bot`, `EOS`) was converted into a 2-dimensional vector capturing the semantic meaning of each token. After adding positional encoding, the new tensor represents both the semantic and positional information of each token in the sequence.\n",
    "\n",
    "- The first row (`[1.1103, -0.6898]`) now encapsulates both the meaning of the `SOS` token and the information that it's the first token in the sequence.\n",
    "\n",
    "- The second row (`[0.0756, -0.2103]`) is now a representation of the word `hello` that carries not just its semantics (e.g., being a greeting), but also the information that it's the second word in the sentence.\n",
    "\n",
    "- The third row (`[2.2618, 0.2702]`) likewise carries both the semantics of `bot` (likely related to AI or technology), and its position as the third word in the sentence.\n",
    "\n",
    "- The last row (`[-0.8478, -0.0320]`) encapsulates the semantics of `EOS` token, signifying end of a sentence, and the fact that it's the last token in the sentence.\n",
    "\n",
    "The idea here is that in natural language, word order matters. The sentence \"hello bot\" is not the same as \"bot hello\" (okay maybe it is the same in this example, a better one is cat eat mouse isn't the same as mouse eat cat).\n",
    "\n",
    "So, in a language model, we want our representations to capture not just what words mean, but also where they are in a sentence. Positional encoding is a technique to achieve this goal.\n",
    "\n",
    "Again, it's important to note that the exact interpretation of these values is not straightforward. They are the result of complex transformations and learned during the training process to minimize the loss function. They don't have a clear, individual meaning that humans can easily understand. This is a common characteristic of the inner workings of deep learning models."
   ]
  },
  {
   "cell_type": "markdown",
   "metadata": {},
   "source": [
    "### More Intuition with P added (Pretty bad analogy, to revise)\n",
    "\n",
    "Let's revise the analogy using the sentence \"Mary visited the museum in Paris.\"\n",
    "\n",
    "The original word embeddings (Z) can be thought of as guests at a party, where each guest represents a word: 'Mary,' 'visited,' 'the,' 'museum,' 'in,' and 'Paris.' The personality of each guest represents the semantic meaning of the word they represent. \n",
    "\n",
    "Now, let's think of the positional encoding (P) as the order in which these guests arrived at the party. This captures the positional information in the sentence. 'Mary' was the first to arrive, 'visited' the second, and so on.\n",
    "\n",
    "When we add the positional encoding to the original embeddings (Z = Z + P), we're basically combining the personality of each guest (the meaning of the word) with their arrival order at the party (their position in the sentence). \n",
    "\n",
    "So, for example, 'Mary' isn't just represented as a proper noun referring to a person, but she's also identified as the first person who arrived at the party. Similarly, 'Paris' isn't just a proper noun referring to a city, but it's the last entity that arrived.\n",
    "\n",
    "This way, the combined tensor (Z = Z + P) captures both the semantic meaning and the positional information for each word, allowing the Transformer to understand both the meaning of the words and their order in the sentence. This is crucial because, in many languages, changing the order of words can drastically alter the meaning of a sentence."
   ]
  },
  {
   "cell_type": "markdown",
   "metadata": {},
   "source": [
    "### Piecing it together \n",
    "\n",
    "\n",
    "...\n",
    "\n",
    "Note if you use the `TokenEmbedding` layer, you do not need to one-hot encode\n",
    "the input $X$ since it will be done automatically."
   ]
  },
  {
   "cell_type": "code",
   "execution_count": 37,
   "metadata": {},
   "outputs": [],
   "source": [
    "# seed_all(42, seed_torch=True)\n",
    "# embedding_layer = TokenEmbedding(len(dataset.vocab), embedding_dim=embedding_dim)\n",
    "\n",
    "# Z = embedding_layer(X)\n",
    "# pprint(Z)"
   ]
  },
  {
   "cell_type": "markdown",
   "metadata": {},
   "source": [
    "## Attention\n",
    "\n",
    "- https://stats.stackexchange.com/questions/421935/what-exactly-are-keys-queries-and-values-in-attention-mechanisms#:~:text=The%20meaning%20of%20query%2C%20value,the%20same%20tensor%20as%20value.\n",
    "- https://d2l.ai/chapter_attention-mechanisms-and-transformers/queries-keys-values.html\n"
   ]
  },
  {
   "cell_type": "markdown",
   "metadata": {},
   "source": [
    "### Example Simple\n",
    "\n",
    "- Query:\n",
    "\n",
    "    The Query vector, like the word embedding, is a learned representation of the word. However, while the word embedding represents the semantic meaning of the word itself, the Query vector represents how the word should be used as a query to attend to other words.\n",
    "\n",
    "    In other words, the Query vector captures the \"asking\" aspect of the word in the context of the sentence. It's used to compute attention scores with the Key vectors of other words. The more similar the Query vector is to a Key vector of another word (as measured by their dot product), the more attention the model should pay to that word.\n",
    "\n",
    "    So, in the case of our example, the Query vector [1.15157688, 1.26007255] for \"cat\" determines how \"cat\" attends to other words in the sentence. For instance, if the Key vector for \"mat\" is very similar to this Query vector, then \"cat\" would pay more attention to \"mat\" in the computation of the output vectors. However, \"cat\" will also attend to all other words in the sentence, with the amount of attention determined by the similarity of the Query vector for \"cat\" to the Key vector of each other word.\n",
    "\n",
    "    Remember, these Query (and Key, and Value) vectors are typically learned during the training process. They are updated iteratively to minimize the prediction error of the model on a set of training examples. As such, they can capture complex patterns in the data and help the model make accurate predictions.\n",
    "\n",
    "    However, it's important to note that the actual values in these vectors can be difficult to interpret directly. They don't necessarily correspond to intuitive features of the words. Instead, they should be understood in relation to each other: the attention mechanism is essentially learning to use these vectors to weigh the importance of different words when processing each individual word in the sentence.\n",
    "\n",
    "  - More intuition: In this example, \"the cat sat on the mat\", the \"Query\" vector for the word \"cat\" can be thought of as posing the queries: \"What is the cat doing?\" and \"Where is the cat?\" As we move forward, we'll see that this \"Query\" vector interacts with the \"Key\" vectors of all other words in the sentence. The goal is for this \"learned query representation\" to align well with the \"Key\" vectors of words that provide meaningful responses to the queries posed. For instance, the word \"mat\" becomes a key part of answering the question \"Where is the cat?\", and so we would want the \"Query\" vector for \"cat\" and the \"Key\" vector for \"mat\" to have a high degree of alignment.\n",
    "\n",
    "- Value, the output of the attention.\n",
    "\n",
    "    The final value vector of a word after the attention mechanism captures not just the word's individual meaning, but also its context within the sentence. It's a more sophisticated representation that captures how the word interacts with all other words in the sentence.\n",
    "\n",
    "    One way to think about this is as a form of feature engineering. The attention mechanism allows the model to automatically learn features that capture important relationships between words. In our example, the final value vector for \"cat\" could capture the fact that \"cat\" is the subject of the sentence, that it's performing an action (\"sat\"), and that this action is happening in a specific location (\"on the mat\"). \n",
    "\n",
    "    To provide an example of how this could be useful, consider a downstream task like sentiment analysis. The sentiment of a sentence often depends on the relationships between words, not just the words themselves. For example, consider the difference between the sentences \"The cat sat on the mat\" and \"The cat did not sit on the mat\". The presence of the word \"not\" changes the meaning of the sentence, and this change is captured by the relationships between the words.\n",
    "\n",
    "    By using the attention mechanism, the model can learn to capture these relationships, and thus it can learn to better perform tasks like sentiment analysis. The final value vector for each word captures a rich set of features that reflect both the word's individual meaning and its context within the sentence, and these features can be very useful for many natural language processing tasks."
   ]
  },
  {
   "cell_type": "code",
   "execution_count": 38,
   "metadata": {},
   "outputs": [
    {
     "data": {
      "text/plain": [
       "(array([[0.11515769, 0.12600725],\n",
       "        [1.15157688, 1.26007255],\n",
       "        [0.04948636, 0.08854955],\n",
       "        [0.04948636, 0.08854955],\n",
       "        [1.15157688, 1.26007255]]),\n",
       " array([[0.0861242 , 0.15376671],\n",
       "        [0.86124201, 1.53766711],\n",
       "        [0.04097224, 0.04000152],\n",
       "        [0.04097224, 0.04000152],\n",
       "        [0.86124201, 1.53766711]]),\n",
       " array([[0.17553878, 0.09123364],\n",
       "        [1.7553878 , 0.91233644],\n",
       "        [0.11356005, 0.02379881],\n",
       "        [0.11356005, 0.02379881],\n",
       "        [1.7553878 , 0.91233644]]))"
      ]
     },
     "execution_count": 38,
     "metadata": {},
     "output_type": "execute_result"
    }
   ],
   "source": [
    "# Word embeddings for \"the\", \"cat\", \"sat\", \"on\", \"mat\"\n",
    "embeddings = np.array([[0.1, 0.1],  # \"the\"\n",
    "                       [1, 1],      # \"cat\"\n",
    "                       [0.2, -0.1], # \"sat\"\n",
    "                       [0.2, -0.1], # \"on\"\n",
    "                       [1, 1]])     # \"mat\"\n",
    "\n",
    "# Initialize the Query, Key, and Value weight matrices\n",
    "np.random.seed(0)\n",
    "Q_weight_matrix = np.random.rand(2, 2)\n",
    "K_weight_matrix = np.random.rand(2, 2)\n",
    "V_weight_matrix = np.random.rand(2, 2)\n",
    "\n",
    "# Compute the Query, Key, and Value vectors for each word\n",
    "Q = np.dot(embeddings, Q_weight_matrix)\n",
    "K = np.dot(embeddings, K_weight_matrix)\n",
    "V = np.dot(embeddings, V_weight_matrix)\n",
    "\n",
    "Q, K, V\n"
   ]
  },
  {
   "cell_type": "code",
   "execution_count": 39,
   "metadata": {},
   "outputs": [
    {
     "data": {
      "text/plain": [
       "array([[0.02929359, 0.29293585, 0.00975875, 0.00975875, 0.29293585],\n",
       "       [0.29293585, 2.92935851, 0.0975875 , 0.0975875 , 2.92935851],\n",
       "       [0.01787795, 0.17877947, 0.00556968, 0.00556968, 0.17877947],\n",
       "       [0.01787795, 0.17877947, 0.00556968, 0.00556968, 0.17877947],\n",
       "       [0.29293585, 2.92935851, 0.0975875 , 0.0975875 , 2.92935851]])"
      ]
     },
     "execution_count": 39,
     "metadata": {},
     "output_type": "execute_result"
    }
   ],
   "source": [
    "# Compute the attention scores\n",
    "attention_scores = Q @ K.T\n",
    "\n",
    "# Print the attention scores\n",
    "attention_scores\n"
   ]
  },
  {
   "cell_type": "markdown",
   "metadata": {},
   "source": [
    "Next, we apply the softmax function to these scores. This will convert the scores into probabilities that sum to 1. It will also amplify high scores and suppress low scores. The softmax function is applied to each row of the matrix separately."
   ]
  },
  {
   "cell_type": "code",
   "execution_count": 40,
   "metadata": {},
   "outputs": [
    {
     "data": {
      "text/plain": [
       "array([[0.17970633, 0.23391698, 0.17622986, 0.17622986, 0.23391698],\n",
       "       [0.03271029, 0.45673907, 0.02690578, 0.02690578, 0.45673907],\n",
       "       [0.18780496, 0.22058994, 0.18550758, 0.18550758, 0.22058994],\n",
       "       [0.18780496, 0.22058994, 0.18550758, 0.18550758, 0.22058994],\n",
       "       [0.03271029, 0.45673907, 0.02690578, 0.02690578, 0.45673907]])"
      ]
     },
     "execution_count": 40,
     "metadata": {},
     "output_type": "execute_result"
    }
   ],
   "source": [
    "# Compute softmax\n",
    "softmax_scores = np.exp(attention_scores) / np.sum(np.exp(attention_scores), axis=1, keepdims=True)\n",
    "\n",
    "# Print the softmax scores\n",
    "softmax_scores\n"
   ]
  },
  {
   "cell_type": "markdown",
   "metadata": {},
   "source": [
    "We've computed the softmax scores, which are probabilities indicating how much each word should attend to every other word. You'll notice that now the words \"cat\" and \"mat\" pay most attention to themselves and each other, as their embeddings are the same. The words \"sat\" and \"on\" also pay most attention to themselves and each other, but less to \"cat\" and \"mat\". The word \"the\" is somewhat evenly spread, but with a slightly higher attention to \"cat\" and \"mat\".\n",
    "\n",
    "Finally, let's compute the output vectors for each word. We do this by multiplying the softmax scores by their corresponding Value vectors (element-wise) and summing them up. This produces the output of the self-attention layer at this position (for the initially processed word). This output vector is a weighted sum of all Value vectors, where the weights are the attention scores. This means that words with higher attention scores have a greater influence on the output."
   ]
  },
  {
   "cell_type": "code",
   "execution_count": 41,
   "metadata": {},
   "outputs": [
    {
     "data": {
      "text/plain": [
       "array([[0.89280079, 0.45160535],\n",
       "       [1.61536116, 0.83766433],\n",
       "       [0.84954134, 0.42846834],\n",
       "       [0.84954134, 0.42846834],\n",
       "       [1.61536116, 0.83766433]])"
      ]
     },
     "execution_count": 41,
     "metadata": {},
     "output_type": "execute_result"
    }
   ],
   "source": [
    "# Compute the output vectors\n",
    "output_vectors = softmax_scores @ V\n",
    "\n",
    "# Print the output vectors\n",
    "output_vectors\n"
   ]
  },
  {
   "cell_type": "markdown",
   "metadata": {},
   "source": [
    "The resulting matrix contains the output vectors for each word in the sentence: \"the\", \"cat\", \"sat\", \"on\", and \"mat\". These vectors are influenced by all other words in the sentence, with the degree of influence determined by the attention scores.\n",
    "\n",
    "In this particular example, the words \"cat\" and \"mat\" have similar output vectors, which are also influenced by the other words, but mostly by \"cat\" and \"mat\" themselves. This reflects the fact that these words are similar (in our simple representation) and that they should pay attention to each other. Similarly, the words \"sat\" and \"on\" have similar output vectors, indicating that they are related to each other in the context of this sentence.\n",
    "\n",
    "The word \"the\" has a different output vector, which is a result of the attention paid to all other words. This illustrates the power of the attention mechanism: it allows each word to consider the context provided by all other words, with the amount of consideration determined by the attention scores.\n",
    "\n",
    "This ability to consider all parts of the input when processing each word, and to learn how much attention to pay to each part, is what makes the self-attention mechanism so powerful for tasks like language modeling. It allows the model to capture complex dependencies between words, regardless of their distance from each other in the sentence."
   ]
  },
  {
   "cell_type": "markdown",
   "metadata": {},
   "source": [
    "### Queries, Keys and Values\n",
    "\n",
    "#### Intuition\n",
    "\n",
    "First, let's visualize this with human's own brain attention mechanism.\n",
    "\n",
    "Consider the sentence:\n",
    "\n",
    "> Mary visited the museum in Paris.\n",
    "\n",
    "let's continue with the intuition.\n",
    "\n",
    "As we read the word **Mary**, our brain starts to search for the context or information related to Mary. This is the **query**. \n",
    "\n",
    "Next, we move on to the word **visited**. Now, our brain starts to form a connection between Mary and the action of visiting. The word \"visit\" acts as a **key** to unlock more information about the context.\n",
    "\n",
    "As we continue to read and reach the phrase **the museum in Paris**, our brain recognizes this as the **value** or the object of Mary's visit. \n",
    "\n",
    "So, in this sentence, \"Mary\" is the query, \"visited\" is the key, and \"the museum in Paris\" is the value. Our brain's attention mechanism works by associating queries and keys to extract relevant values or information.\n",
    "\n",
    "> This process happens for each word in the sentence. The attention mechanism is not limited to just one query, key, and value. It can be applied to multiple queries, keys, and values.\n",
    "\n",
    "In the context of the Transformer model, the queries, keys, and values are all vectors that are computed from the input data. The model uses these to determine how much attention should be paid to each part of the input when generating each part of the output. This allows the model to handle long-range dependencies in the data, such as the connection between \"Mary\" and \"the museum in Paris\" in our example sentence.\n",
    "\n",
    "---\n",
    "\n",
    "Let's consider the sentence: \"Mary visited the museum in Paris.\"\n",
    "\n",
    "To understand how attention mechanisms work in a Transformer model, let's imagine we are trying to understand the role of each word in the sentence.\n",
    "\n",
    "Here is a conceptual explanation of what the Queries (Q), Keys (K), and Values (V) might represent:\n",
    "\n",
    "- **Queries (Q):** Each word in the sentence can have a query. For instance, when processing the word \"visited\", the query could be \"Who did the visiting?\" or \"What was visited?\". Similarly, when processing the word \"museum\", the query could be \"Who or what is related to the museum?\".\n",
    "\n",
    "- **Keys (K):** Each word in the sentence also has a key. These keys give us more context about each word. For \"Mary\", the key could represent the idea that Mary is a person. For \"visited\", the key might encapsulate the notion of an action performed by someone. For \"museum\", the key might represent the idea of a place or a destination.\n",
    "\n",
    "- **Values (V):** Values are the actual context or information each word provides. If a key matches a query, the Transformer model will fetch the value related to that key. For example, for the query \"Who did the visiting?\" when processing \"visited\", the key for \"Mary\" would match this query, and thus the value that \"Mary\" is the one who did the visiting is obtained.\n",
    "\n",
    "In the attention mechanism, every word (through its query) interacts with every other word (through their keys), and based on these interactions, attention scores are calculated. These scores decide how much focus should be placed on each word in the sentence while processing a particular word.\n",
    "\n",
    "Again, this is a simplified explanation. In practice, Q, K, and V are all high-dimensional vectors, and these interactions involve complex mathematical operations like dot products and softmax operations.\n",
    "\n",
    "The aim of the Transformer model is to understand the relationship between words in a sentence. In the given example sentence, it helps the model understand the relationship between \"Mary\", \"visited\", \"museum\", and \"Paris\", and that \"Mary\" is the one who did the visiting, the \"museum\" is the object being visited, and the event took place in \"Paris\". \n",
    "\n",
    "I hope this analogy helps to visualize the attention mechanism better."
   ]
  },
  {
   "cell_type": "markdown",
   "metadata": {},
   "source": [
    "#### Q, K and V\n",
    "\n",
    "In the sentence \"hello bot\", \"hello\" is a greeting and \"bot\" is the entity being greeted. This sentence, in a conversation, might be a user's first interaction with a chatbot. The user is saying hello to the bot. \n",
    "\n",
    "Now, let's break this down in terms of queries (Q), keys (K), and values (V):\n",
    "\n",
    "- The Queries (Q): In the context of the Transformer model trying to understand or generate a response to \"hello bot\", the model might form a **query** for the word \"hello\" as \"What is the intent behind this token?\" and another query for \"bot\" as \"Who is being addressed here?\".\n",
    "\n",
    "- The Keys (K): The model has learned representations (keys) for all the words in its training data. So, it has keys for both \"hello\" and \"bot\". For \"hello\", a key might be its function as a common greeting. For \"bot\", a key might be its role as a term referring to a software application.\n",
    "\n",
    "- The Values (V): The values are the representations that correspond to the keys. If the model's keys for \"hello\" and \"bot\" match with the queries it has formed, it will fetch the corresponding values. These values, in practice, are vector representations carrying the semantic information of the words. The values might tell the model that \"hello\" is a polite way to initiate a conversation and \"bot\" is the addressee here.\n",
    "\n",
    "Remember, this is all abstract and conceptual. In practice, Q, K, and V are all numerical vectors that the model learns to associate with each input token. These vectors are used to calculate the attention scores, which determine how much each word in the sentence contributes to the understanding of every other word in the sentence.\n",
    "\n",
    "The primary role of the transformer is to understand the context of each word in relation to every other word in the sentence, which is a crucial requirement in understanding natural language. For example, it needs to understand that \"bot\" is being greeted, which is an insight it gets by paying attention to both \"hello\" and \"bot\" simultaneously."
   ]
  },
  {
   "cell_type": "code",
   "execution_count": 42,
   "metadata": {},
   "outputs": [],
   "source": [
    "class ScaledDotProductAttention(nn.Module):\n",
    "    def __init__(self, embedding_dim: int) -> None:\n",
    "        super().__init__()\n",
    "        self.embedding_dim = embedding_dim\n",
    "        self.q_linear = nn.Linear(embedding_dim, embedding_dim)\n",
    "        self.k_linear = nn.Linear(embedding_dim, embedding_dim)\n",
    "        self.v_linear = nn.Linear(embedding_dim, embedding_dim)\n",
    "\n",
    "    def forward(self, x: torch.Tensor) -> torch.Tensor:\n",
    "        Q = self.q_linear(x)\n",
    "        K = self.k_linear(x)\n",
    "        V = self.v_linear(x)\n",
    "\n",
    "        attention_scores = torch.matmul(Q, K.transpose(-2, -1)) / math.sqrt(self.embedding_dim)\n",
    "        attention_weights = F.softmax(attention_scores, dim=-1)\n",
    "        output = torch.matmul(attention_weights, V)\n",
    "\n",
    "        return output"
   ]
  },
  {
   "cell_type": "markdown",
   "metadata": {},
   "source": [
    "#### Single Head"
   ]
  },
  {
   "cell_type": "code",
   "execution_count": 43,
   "metadata": {},
   "outputs": [
    {
     "data": {
      "text/plain": [
       "tensor([[[ 1.1103, -0.6898],\n",
       "         [ 0.0756, -0.2103],\n",
       "         [ 2.2618,  0.2702],\n",
       "         [-0.8478, -0.0320]]], grad_fn=<AddBackward0>)"
      ]
     },
     "execution_count": 43,
     "metadata": {},
     "output_type": "execute_result"
    }
   ],
   "source": [
    "Z"
   ]
  },
  {
   "cell_type": "code",
   "execution_count": 44,
   "metadata": {},
   "outputs": [
    {
     "data": {
      "text/html": [
       "<pre style=\"white-space:pre;overflow-x:auto;line-height:normal;font-family:Menlo,'DejaVu Sans Mono',consolas,'Courier New',monospace\"><span style=\"color: #008080; text-decoration-color: #008080; font-weight: bold\">2</span>\n",
       "</pre>\n"
      ],
      "text/plain": [
       "\u001b[1;36m2\u001b[0m\n"
      ]
     },
     "metadata": {},
     "output_type": "display_data"
    },
    {
     "data": {
      "text/html": [
       "<pre style=\"white-space:pre;overflow-x:auto;line-height:normal;font-family:Menlo,'DejaVu Sans Mono',consolas,'Courier New',monospace\"><span style=\"color: #800080; text-decoration-color: #800080; font-weight: bold\">tensor</span><span style=\"font-weight: bold\">([[</span> <span style=\"color: #008080; text-decoration-color: #008080; font-weight: bold\">0.2815</span>,  <span style=\"color: #008080; text-decoration-color: #008080; font-weight: bold\">0.0562</span><span style=\"font-weight: bold\">]</span>,\n",
       "<span style=\"color: #7fbf7f; text-decoration-color: #7fbf7f\">│   │   </span><span style=\"font-weight: bold\">[</span> <span style=\"color: #008080; text-decoration-color: #008080; font-weight: bold\">0.5227</span>, <span style=\"color: #008080; text-decoration-color: #008080; font-weight: bold\">-0.2384</span><span style=\"font-weight: bold\">]]</span>, <span style=\"color: #808000; text-decoration-color: #808000\">requires_grad</span>=<span style=\"color: #00ff00; text-decoration-color: #00ff00; font-style: italic\">True</span><span style=\"font-weight: bold\">)</span>\n",
       "</pre>\n"
      ],
      "text/plain": [
       "\u001b[1;35mtensor\u001b[0m\u001b[1m(\u001b[0m\u001b[1m[\u001b[0m\u001b[1m[\u001b[0m \u001b[1;36m0.2815\u001b[0m,  \u001b[1;36m0.0562\u001b[0m\u001b[1m]\u001b[0m,\n",
       "\u001b[2;32m│   │   \u001b[0m\u001b[1m[\u001b[0m \u001b[1;36m0.5227\u001b[0m, \u001b[1;36m-0.2384\u001b[0m\u001b[1m]\u001b[0m\u001b[1m]\u001b[0m, \u001b[33mrequires_grad\u001b[0m=\u001b[3;92mTrue\u001b[0m\u001b[1m)\u001b[0m\n"
      ]
     },
     "metadata": {},
     "output_type": "display_data"
    },
    {
     "data": {
      "text/html": [
       "<pre style=\"white-space:pre;overflow-x:auto;line-height:normal;font-family:Menlo,'DejaVu Sans Mono',consolas,'Courier New',monospace\"><span style=\"color: #800080; text-decoration-color: #800080; font-weight: bold\">tensor</span><span style=\"font-weight: bold\">([[[</span><span style=\"color: #008080; text-decoration-color: #008080; font-weight: bold\">-0.0480</span>,  <span style=\"color: #008080; text-decoration-color: #008080; font-weight: bold\">0.2268</span><span style=\"font-weight: bold\">]</span>,\n",
       "<span style=\"color: #7fbf7f; text-decoration-color: #7fbf7f\">│   │    </span><span style=\"font-weight: bold\">[</span><span style=\"color: #008080; text-decoration-color: #008080; font-weight: bold\">-0.0886</span>,  <span style=\"color: #008080; text-decoration-color: #008080; font-weight: bold\">0.0544</span><span style=\"font-weight: bold\">]</span>,\n",
       "<span style=\"color: #7fbf7f; text-decoration-color: #7fbf7f\">│   │    </span><span style=\"font-weight: bold\">[</span> <span style=\"color: #008080; text-decoration-color: #008080; font-weight: bold\">0.7780</span>,  <span style=\"color: #008080; text-decoration-color: #008080; font-weight: bold\">0.0626</span><span style=\"font-weight: bold\">]</span>,\n",
       "<span style=\"color: #7fbf7f; text-decoration-color: #7fbf7f\">│   │    </span><span style=\"font-weight: bold\">[</span><span style=\"color: #008080; text-decoration-color: #008080; font-weight: bold\">-0.2554</span>, <span style=\"color: #008080; text-decoration-color: #008080; font-weight: bold\">-0.0400</span><span style=\"font-weight: bold\">]]]</span>, <span style=\"color: #808000; text-decoration-color: #808000\">grad_fn</span>=<span style=\"font-weight: bold\">&lt;</span><span style=\"color: #ff00ff; text-decoration-color: #ff00ff; font-weight: bold\">UnsafeViewBackward0</span><span style=\"font-weight: bold\">&gt;)</span>\n",
       "</pre>\n"
      ],
      "text/plain": [
       "\u001b[1;35mtensor\u001b[0m\u001b[1m(\u001b[0m\u001b[1m[\u001b[0m\u001b[1m[\u001b[0m\u001b[1m[\u001b[0m\u001b[1;36m-0.0480\u001b[0m,  \u001b[1;36m0.2268\u001b[0m\u001b[1m]\u001b[0m,\n",
       "\u001b[2;32m│   │    \u001b[0m\u001b[1m[\u001b[0m\u001b[1;36m-0.0886\u001b[0m,  \u001b[1;36m0.0544\u001b[0m\u001b[1m]\u001b[0m,\n",
       "\u001b[2;32m│   │    \u001b[0m\u001b[1m[\u001b[0m \u001b[1;36m0.7780\u001b[0m,  \u001b[1;36m0.0626\u001b[0m\u001b[1m]\u001b[0m,\n",
       "\u001b[2;32m│   │    \u001b[0m\u001b[1m[\u001b[0m\u001b[1;36m-0.2554\u001b[0m, \u001b[1;36m-0.0400\u001b[0m\u001b[1m]\u001b[0m\u001b[1m]\u001b[0m\u001b[1m]\u001b[0m, \u001b[33mgrad_fn\u001b[0m=\u001b[1m<\u001b[0m\u001b[1;95mUnsafeViewBackward0\u001b[0m\u001b[1m>\u001b[0m\u001b[1m)\u001b[0m\n"
      ]
     },
     "metadata": {},
     "output_type": "display_data"
    },
    {
     "data": {
      "text/html": [
       "<pre style=\"white-space:pre;overflow-x:auto;line-height:normal;font-family:Menlo,'DejaVu Sans Mono',consolas,'Courier New',monospace\"><span style=\"color: #800080; text-decoration-color: #800080; font-weight: bold\">tensor</span><span style=\"font-weight: bold\">([[[</span><span style=\"color: #008080; text-decoration-color: #008080; font-weight: bold\">-0.0495</span>,  <span style=\"color: #008080; text-decoration-color: #008080; font-weight: bold\">0.0815</span><span style=\"font-weight: bold\">]</span>,\n",
       "<span style=\"color: #7fbf7f; text-decoration-color: #7fbf7f\">│   │    </span><span style=\"font-weight: bold\">[</span><span style=\"color: #008080; text-decoration-color: #008080; font-weight: bold\">-0.0020</span>, <span style=\"color: #008080; text-decoration-color: #008080; font-weight: bold\">-0.1135</span><span style=\"font-weight: bold\">]</span>,\n",
       "<span style=\"color: #7fbf7f; text-decoration-color: #7fbf7f\">│   │    </span><span style=\"font-weight: bold\">[</span><span style=\"color: #008080; text-decoration-color: #008080; font-weight: bold\">-0.1152</span>,  <span style=\"color: #008080; text-decoration-color: #008080; font-weight: bold\">1.3875</span><span style=\"font-weight: bold\">]</span>,\n",
       "<span style=\"color: #7fbf7f; text-decoration-color: #7fbf7f\">│   │    </span><span style=\"font-weight: bold\">[</span> <span style=\"color: #008080; text-decoration-color: #008080; font-weight: bold\">0.0426</span>, <span style=\"color: #008080; text-decoration-color: #008080; font-weight: bold\">-0.4696</span><span style=\"font-weight: bold\">]]]</span>, <span style=\"color: #808000; text-decoration-color: #808000\">grad_fn</span>=<span style=\"font-weight: bold\">&lt;</span><span style=\"color: #ff00ff; text-decoration-color: #ff00ff; font-weight: bold\">UnsafeViewBackward0</span><span style=\"font-weight: bold\">&gt;)</span>\n",
       "</pre>\n"
      ],
      "text/plain": [
       "\u001b[1;35mtensor\u001b[0m\u001b[1m(\u001b[0m\u001b[1m[\u001b[0m\u001b[1m[\u001b[0m\u001b[1m[\u001b[0m\u001b[1;36m-0.0495\u001b[0m,  \u001b[1;36m0.0815\u001b[0m\u001b[1m]\u001b[0m,\n",
       "\u001b[2;32m│   │    \u001b[0m\u001b[1m[\u001b[0m\u001b[1;36m-0.0020\u001b[0m, \u001b[1;36m-0.1135\u001b[0m\u001b[1m]\u001b[0m,\n",
       "\u001b[2;32m│   │    \u001b[0m\u001b[1m[\u001b[0m\u001b[1;36m-0.1152\u001b[0m,  \u001b[1;36m1.3875\u001b[0m\u001b[1m]\u001b[0m,\n",
       "\u001b[2;32m│   │    \u001b[0m\u001b[1m[\u001b[0m \u001b[1;36m0.0426\u001b[0m, \u001b[1;36m-0.4696\u001b[0m\u001b[1m]\u001b[0m\u001b[1m]\u001b[0m\u001b[1m]\u001b[0m, \u001b[33mgrad_fn\u001b[0m=\u001b[1m<\u001b[0m\u001b[1;95mUnsafeViewBackward0\u001b[0m\u001b[1m>\u001b[0m\u001b[1m)\u001b[0m\n"
      ]
     },
     "metadata": {},
     "output_type": "display_data"
    },
    {
     "data": {
      "text/html": [
       "<pre style=\"white-space:pre;overflow-x:auto;line-height:normal;font-family:Menlo,'DejaVu Sans Mono',consolas,'Courier New',monospace\"><span style=\"color: #800080; text-decoration-color: #800080; font-weight: bold\">tensor</span><span style=\"font-weight: bold\">([[[</span> <span style=\"color: #008080; text-decoration-color: #008080; font-weight: bold\">0.8484</span>,  <span style=\"color: #008080; text-decoration-color: #008080; font-weight: bold\">1.5723</span><span style=\"font-weight: bold\">]</span>,\n",
       "<span style=\"color: #7fbf7f; text-decoration-color: #7fbf7f\">│   │    </span><span style=\"font-weight: bold\">[</span> <span style=\"color: #008080; text-decoration-color: #008080; font-weight: bold\">0.2237</span>,  <span style=\"color: #008080; text-decoration-color: #008080; font-weight: bold\">0.2523</span><span style=\"font-weight: bold\">]</span>,\n",
       "<span style=\"color: #7fbf7f; text-decoration-color: #7fbf7f\">│   │    </span><span style=\"font-weight: bold\">[</span> <span style=\"color: #008080; text-decoration-color: #008080; font-weight: bold\">0.0267</span>,  <span style=\"color: #008080; text-decoration-color: #008080; font-weight: bold\">1.7141</span><span style=\"font-weight: bold\">]</span>,\n",
       "<span style=\"color: #7fbf7f; text-decoration-color: #7fbf7f\">│   │    </span><span style=\"font-weight: bold\">[</span><span style=\"color: #008080; text-decoration-color: #008080; font-weight: bold\">-0.0804</span>, <span style=\"color: #008080; text-decoration-color: #008080; font-weight: bold\">-0.7041</span><span style=\"font-weight: bold\">]]]</span>, <span style=\"color: #808000; text-decoration-color: #808000\">grad_fn</span>=<span style=\"font-weight: bold\">&lt;</span><span style=\"color: #ff00ff; text-decoration-color: #ff00ff; font-weight: bold\">UnsafeViewBackward0</span><span style=\"font-weight: bold\">&gt;)</span>\n",
       "</pre>\n"
      ],
      "text/plain": [
       "\u001b[1;35mtensor\u001b[0m\u001b[1m(\u001b[0m\u001b[1m[\u001b[0m\u001b[1m[\u001b[0m\u001b[1m[\u001b[0m \u001b[1;36m0.8484\u001b[0m,  \u001b[1;36m1.5723\u001b[0m\u001b[1m]\u001b[0m,\n",
       "\u001b[2;32m│   │    \u001b[0m\u001b[1m[\u001b[0m \u001b[1;36m0.2237\u001b[0m,  \u001b[1;36m0.2523\u001b[0m\u001b[1m]\u001b[0m,\n",
       "\u001b[2;32m│   │    \u001b[0m\u001b[1m[\u001b[0m \u001b[1;36m0.0267\u001b[0m,  \u001b[1;36m1.7141\u001b[0m\u001b[1m]\u001b[0m,\n",
       "\u001b[2;32m│   │    \u001b[0m\u001b[1m[\u001b[0m\u001b[1;36m-0.0804\u001b[0m, \u001b[1;36m-0.7041\u001b[0m\u001b[1m]\u001b[0m\u001b[1m]\u001b[0m\u001b[1m]\u001b[0m, \u001b[33mgrad_fn\u001b[0m=\u001b[1m<\u001b[0m\u001b[1;95mUnsafeViewBackward0\u001b[0m\u001b[1m>\u001b[0m\u001b[1m)\u001b[0m\n"
      ]
     },
     "metadata": {},
     "output_type": "display_data"
    }
   ],
   "source": [
    "H = num_heads = 1\n",
    "d_q = d_k = d_v = D // H\n",
    "pprint(d_q)\n",
    "\n",
    "# W_q = nn.Linear(D, d_q)\n",
    "W_q = torch.randn(D, d_q, requires_grad=True)\n",
    "pprint(W_q)\n",
    "\n",
    "Q = Z @ W_q\n",
    "\n",
    "W_k = torch.randn(D, d_k, requires_grad=True)\n",
    "K = Z @ W_k\n",
    "\n",
    "W_v = torch.randn(D, d_v, requires_grad=True)\n",
    "V = Z @ W_v\n",
    "\n",
    "pprint(Q)\n",
    "pprint(K)\n",
    "pprint(V)"
   ]
  },
  {
   "cell_type": "markdown",
   "metadata": {},
   "source": [
    "Let's unpack the variables `Q`, `K`, and `V` and what their values represent. All these variables are derived from the input matrix `Z` and learned weights `W_q`, `W_k`, and `W_v` for each attention head.\n",
    "\n",
    "1. **Query matrix (`Q`)**: \n",
    "\n",
    "    `Q` is the result of the dot product between the input matrix `Z` and the weight matrix `W_q` for the query. In your case, `Q` has the shape of (1, 4, 2), which represents (batch size, sequence length, feature dimension). \n",
    "\n",
    "    Each entry in `Q` essentially represents a \"question\" or \"request for information\" associated with the corresponding element of the input. These questions will be used to interact with the keys to derive attention scores.\n",
    "\n",
    "    The actual values in the `Q` matrix are computed from the input data and the parameters of the model. They don't necessarily have an intuitive interpretation because they are learned in a data-driven way to achieve the task that the model is trained for (e.g., language modeling, machine translation).\n",
    "\n",
    "2. **Key matrix (`K`)**: \n",
    "\n",
    "    `K` is the result of the dot product between the input matrix `Z` and the weight matrix `W_k` for the key. `K` also has the shape of (1, 4, 2).\n",
    "\n",
    "    Each entry in `K` represents a \"key\" or \"identifier\" associated with the corresponding element of the input. The keys are used in conjunction with the queries to calculate the attention scores. \n",
    "\n",
    "    As with the queries, the values in the `K` matrix are learned from the data and don't necessarily have an intuitive interpretation.\n",
    "\n",
    "3. **Value matrix (`V`)**: \n",
    "\n",
    "    `V` is the result of the dot product between the input matrix `Z` and the weight matrix `W_v` for the value. `V` also has the shape of (1, 4, 2).\n",
    "\n",
    "    Each entry in `V` represents a \"value\" or \"information content\" associated with the corresponding element of the input. Once the model calculates the attention scores (using `Q` and `K`), it uses them to take a weighted sum of the `V` matrix.\n",
    "\n",
    "    Again, the values in the `V` matrix are learned from the data and do not have a direct intuitive interpretation.\n",
    "\n",
    "In summary, the `Q`, `K`, and `V` matrices are transformations of the input data that are used to implement the attention mechanism. The values in these matrices are learned during the training process to enable the model to focus on different parts of the input sequence when producing each element of the output sequence. The attention mechanism is a key component of transformer models and has been found to be very effective for a wide range of tasks in natural language processing."
   ]
  },
  {
   "cell_type": "markdown",
   "metadata": {},
   "source": [
    "#### Scaled Dot-Product Attention\n",
    "\n",
    "From Paper:\n",
    "\n",
    "We call our particular attention \"Scaled Dot-Product Attention\" (Figure 2). The input consists of queries and keys of dimension $d_k$, and values of dimension $d_v$. We compute the dot products of the query with all keys, divide each by $\\sqrt{d_k}$, and apply a softmax function to obtain the weights on the values.\n",
    "\n",
    "In practice, we compute the attention function on a set of queries simultaneously, packed together into a matrix $Q$. The keys and values are also packed together into matrices $K$ and $V$. We compute the matrix of outputs as:\n",
    "$$\n",
    "\\operatorname{Attention}(Q, K, V)=\\operatorname{softmax}\\left(\\frac{Q K^T}{\\sqrt{d_k}}\\right) V\n",
    "$$\n",
    "The two most commonly used attention functions are additive attention [2], and dot-product (multiplicative) attention. Dot-product attention is identical to our algorithm, except for the scaling factor of $\\frac{1}{\\sqrt{d_k}}$. Additive attention computes the compatibility function using a feed-forward network with a single hidden layer. While the two are similar in theoretical complexity, dot-product attention is much faster and more space-efficient in practice, since it can be implemented using highly optimized matrix multiplication code.\n",
    "\n",
    "While for small values of $d_k$ the two mechanisms perform similarly, additive attention outperforms dot product attention without scaling for larger values of $d_k$ [3]. We suspect that for large values of $d_k$, the dot products grow large in magnitude, pushing the softmax function into regions where it has extremely small gradients ${ }^4$. To counteract this effect, we scale the dot products by $\\frac{1}{\\sqrt{d_k}}$."
   ]
  },
  {
   "cell_type": "code",
   "execution_count": 45,
   "metadata": {},
   "outputs": [
    {
     "data": {
      "text/html": [
       "<pre style=\"white-space:pre;overflow-x:auto;line-height:normal;font-family:Menlo,'DejaVu Sans Mono',consolas,'Courier New',monospace\"><span style=\"color: #800080; text-decoration-color: #800080; font-weight: bold\">tensor</span><span style=\"font-weight: bold\">([[[</span> <span style=\"color: #008080; text-decoration-color: #008080; font-weight: bold\">0.0209</span>, <span style=\"color: #008080; text-decoration-color: #008080; font-weight: bold\">-0.0257</span>,  <span style=\"color: #008080; text-decoration-color: #008080; font-weight: bold\">0.3202</span>, <span style=\"color: #008080; text-decoration-color: #008080; font-weight: bold\">-0.1085</span><span style=\"font-weight: bold\">]</span>,\n",
       "<span style=\"color: #7fbf7f; text-decoration-color: #7fbf7f\">│   │    </span><span style=\"font-weight: bold\">[</span> <span style=\"color: #008080; text-decoration-color: #008080; font-weight: bold\">0.0088</span>, <span style=\"color: #008080; text-decoration-color: #008080; font-weight: bold\">-0.0060</span>,  <span style=\"color: #008080; text-decoration-color: #008080; font-weight: bold\">0.0857</span>, <span style=\"color: #008080; text-decoration-color: #008080; font-weight: bold\">-0.0293</span><span style=\"font-weight: bold\">]</span>,\n",
       "<span style=\"color: #7fbf7f; text-decoration-color: #7fbf7f\">│   │    </span><span style=\"font-weight: bold\">[</span><span style=\"color: #008080; text-decoration-color: #008080; font-weight: bold\">-0.0334</span>, <span style=\"color: #008080; text-decoration-color: #008080; font-weight: bold\">-0.0087</span>, <span style=\"color: #008080; text-decoration-color: #008080; font-weight: bold\">-0.0027</span>,  <span style=\"color: #008080; text-decoration-color: #008080; font-weight: bold\">0.0037</span><span style=\"font-weight: bold\">]</span>,\n",
       "<span style=\"color: #7fbf7f; text-decoration-color: #7fbf7f\">│   │    </span><span style=\"font-weight: bold\">[</span> <span style=\"color: #008080; text-decoration-color: #008080; font-weight: bold\">0.0094</span>,  <span style=\"color: #008080; text-decoration-color: #008080; font-weight: bold\">0.0050</span>, <span style=\"color: #008080; text-decoration-color: #008080; font-weight: bold\">-0.0261</span>,  <span style=\"color: #008080; text-decoration-color: #008080; font-weight: bold\">0.0079</span><span style=\"font-weight: bold\">]]]</span>, <span style=\"color: #808000; text-decoration-color: #808000\">grad_fn</span>=<span style=\"font-weight: bold\">&lt;</span><span style=\"color: #ff00ff; text-decoration-color: #ff00ff; font-weight: bold\">UnsafeViewBackward0</span><span style=\"font-weight: bold\">&gt;)</span>\n",
       "</pre>\n"
      ],
      "text/plain": [
       "\u001b[1;35mtensor\u001b[0m\u001b[1m(\u001b[0m\u001b[1m[\u001b[0m\u001b[1m[\u001b[0m\u001b[1m[\u001b[0m \u001b[1;36m0.0209\u001b[0m, \u001b[1;36m-0.0257\u001b[0m,  \u001b[1;36m0.3202\u001b[0m, \u001b[1;36m-0.1085\u001b[0m\u001b[1m]\u001b[0m,\n",
       "\u001b[2;32m│   │    \u001b[0m\u001b[1m[\u001b[0m \u001b[1;36m0.0088\u001b[0m, \u001b[1;36m-0.0060\u001b[0m,  \u001b[1;36m0.0857\u001b[0m, \u001b[1;36m-0.0293\u001b[0m\u001b[1m]\u001b[0m,\n",
       "\u001b[2;32m│   │    \u001b[0m\u001b[1m[\u001b[0m\u001b[1;36m-0.0334\u001b[0m, \u001b[1;36m-0.0087\u001b[0m, \u001b[1;36m-0.0027\u001b[0m,  \u001b[1;36m0.0037\u001b[0m\u001b[1m]\u001b[0m,\n",
       "\u001b[2;32m│   │    \u001b[0m\u001b[1m[\u001b[0m \u001b[1;36m0.0094\u001b[0m,  \u001b[1;36m0.0050\u001b[0m, \u001b[1;36m-0.0261\u001b[0m,  \u001b[1;36m0.0079\u001b[0m\u001b[1m]\u001b[0m\u001b[1m]\u001b[0m\u001b[1m]\u001b[0m, \u001b[33mgrad_fn\u001b[0m=\u001b[1m<\u001b[0m\u001b[1;95mUnsafeViewBackward0\u001b[0m\u001b[1m>\u001b[0m\u001b[1m)\u001b[0m\n"
      ]
     },
     "metadata": {},
     "output_type": "display_data"
    },
    {
     "data": {
      "text/html": [
       "<pre style=\"white-space:pre;overflow-x:auto;line-height:normal;font-family:Menlo,'DejaVu Sans Mono',consolas,'Courier New',monospace\"><span style=\"color: #800080; text-decoration-color: #800080; font-weight: bold\">tensor</span><span style=\"font-weight: bold\">([[[</span> <span style=\"color: #008080; text-decoration-color: #008080; font-weight: bold\">0.0147</span>, <span style=\"color: #008080; text-decoration-color: #008080; font-weight: bold\">-0.0181</span>,  <span style=\"color: #008080; text-decoration-color: #008080; font-weight: bold\">0.2264</span>, <span style=\"color: #008080; text-decoration-color: #008080; font-weight: bold\">-0.0767</span><span style=\"font-weight: bold\">]</span>,\n",
       "<span style=\"color: #7fbf7f; text-decoration-color: #7fbf7f\">│   │    </span><span style=\"font-weight: bold\">[</span> <span style=\"color: #008080; text-decoration-color: #008080; font-weight: bold\">0.0062</span>, <span style=\"color: #008080; text-decoration-color: #008080; font-weight: bold\">-0.0042</span>,  <span style=\"color: #008080; text-decoration-color: #008080; font-weight: bold\">0.0606</span>, <span style=\"color: #008080; text-decoration-color: #008080; font-weight: bold\">-0.0207</span><span style=\"font-weight: bold\">]</span>,\n",
       "<span style=\"color: #7fbf7f; text-decoration-color: #7fbf7f\">│   │    </span><span style=\"font-weight: bold\">[</span><span style=\"color: #008080; text-decoration-color: #008080; font-weight: bold\">-0.0236</span>, <span style=\"color: #008080; text-decoration-color: #008080; font-weight: bold\">-0.0061</span>, <span style=\"color: #008080; text-decoration-color: #008080; font-weight: bold\">-0.0019</span>,  <span style=\"color: #008080; text-decoration-color: #008080; font-weight: bold\">0.0026</span><span style=\"font-weight: bold\">]</span>,\n",
       "<span style=\"color: #7fbf7f; text-decoration-color: #7fbf7f\">│   │    </span><span style=\"font-weight: bold\">[</span> <span style=\"color: #008080; text-decoration-color: #008080; font-weight: bold\">0.0066</span>,  <span style=\"color: #008080; text-decoration-color: #008080; font-weight: bold\">0.0036</span>, <span style=\"color: #008080; text-decoration-color: #008080; font-weight: bold\">-0.0184</span>,  <span style=\"color: #008080; text-decoration-color: #008080; font-weight: bold\">0.0056</span><span style=\"font-weight: bold\">]]]</span>, <span style=\"color: #808000; text-decoration-color: #808000\">grad_fn</span>=<span style=\"font-weight: bold\">&lt;</span><span style=\"color: #ff00ff; text-decoration-color: #ff00ff; font-weight: bold\">DivBackward0</span><span style=\"font-weight: bold\">&gt;)</span>\n",
       "</pre>\n"
      ],
      "text/plain": [
       "\u001b[1;35mtensor\u001b[0m\u001b[1m(\u001b[0m\u001b[1m[\u001b[0m\u001b[1m[\u001b[0m\u001b[1m[\u001b[0m \u001b[1;36m0.0147\u001b[0m, \u001b[1;36m-0.0181\u001b[0m,  \u001b[1;36m0.2264\u001b[0m, \u001b[1;36m-0.0767\u001b[0m\u001b[1m]\u001b[0m,\n",
       "\u001b[2;32m│   │    \u001b[0m\u001b[1m[\u001b[0m \u001b[1;36m0.0062\u001b[0m, \u001b[1;36m-0.0042\u001b[0m,  \u001b[1;36m0.0606\u001b[0m, \u001b[1;36m-0.0207\u001b[0m\u001b[1m]\u001b[0m,\n",
       "\u001b[2;32m│   │    \u001b[0m\u001b[1m[\u001b[0m\u001b[1;36m-0.0236\u001b[0m, \u001b[1;36m-0.0061\u001b[0m, \u001b[1;36m-0.0019\u001b[0m,  \u001b[1;36m0.0026\u001b[0m\u001b[1m]\u001b[0m,\n",
       "\u001b[2;32m│   │    \u001b[0m\u001b[1m[\u001b[0m \u001b[1;36m0.0066\u001b[0m,  \u001b[1;36m0.0036\u001b[0m, \u001b[1;36m-0.0184\u001b[0m,  \u001b[1;36m0.0056\u001b[0m\u001b[1m]\u001b[0m\u001b[1m]\u001b[0m\u001b[1m]\u001b[0m, \u001b[33mgrad_fn\u001b[0m=\u001b[1m<\u001b[0m\u001b[1;95mDivBackward0\u001b[0m\u001b[1m>\u001b[0m\u001b[1m)\u001b[0m\n"
      ]
     },
     "metadata": {},
     "output_type": "display_data"
    },
    {
     "data": {
      "text/html": [
       "<pre style=\"white-space:pre;overflow-x:auto;line-height:normal;font-family:Menlo,'DejaVu Sans Mono',consolas,'Courier New',monospace\"><span style=\"color: #800080; text-decoration-color: #800080; font-weight: bold\">tensor</span><span style=\"font-weight: bold\">([[[</span><span style=\"color: #008080; text-decoration-color: #008080; font-weight: bold\">0.2430</span>, <span style=\"color: #008080; text-decoration-color: #008080; font-weight: bold\">0.2351</span>, <span style=\"color: #008080; text-decoration-color: #008080; font-weight: bold\">0.3002</span>, <span style=\"color: #008080; text-decoration-color: #008080; font-weight: bold\">0.2217</span><span style=\"font-weight: bold\">]</span>,\n",
       "<span style=\"color: #7fbf7f; text-decoration-color: #7fbf7f\">│   │    </span><span style=\"font-weight: bold\">[</span><span style=\"color: #008080; text-decoration-color: #008080; font-weight: bold\">0.2488</span>, <span style=\"color: #008080; text-decoration-color: #008080; font-weight: bold\">0.2462</span>, <span style=\"color: #008080; text-decoration-color: #008080; font-weight: bold\">0.2627</span>, <span style=\"color: #008080; text-decoration-color: #008080; font-weight: bold\">0.2422</span><span style=\"font-weight: bold\">]</span>,\n",
       "<span style=\"color: #7fbf7f; text-decoration-color: #7fbf7f\">│   │    </span><span style=\"font-weight: bold\">[</span><span style=\"color: #008080; text-decoration-color: #008080; font-weight: bold\">0.2459</span>, <span style=\"color: #008080; text-decoration-color: #008080; font-weight: bold\">0.2503</span>, <span style=\"color: #008080; text-decoration-color: #008080; font-weight: bold\">0.2513</span>, <span style=\"color: #008080; text-decoration-color: #008080; font-weight: bold\">0.2525</span><span style=\"font-weight: bold\">]</span>,\n",
       "<span style=\"color: #7fbf7f; text-decoration-color: #7fbf7f\">│   │    </span><span style=\"font-weight: bold\">[</span><span style=\"color: #008080; text-decoration-color: #008080; font-weight: bold\">0.2518</span>, <span style=\"color: #008080; text-decoration-color: #008080; font-weight: bold\">0.2510</span>, <span style=\"color: #008080; text-decoration-color: #008080; font-weight: bold\">0.2456</span>, <span style=\"color: #008080; text-decoration-color: #008080; font-weight: bold\">0.2516</span><span style=\"font-weight: bold\">]]]</span>, <span style=\"color: #808000; text-decoration-color: #808000\">grad_fn</span>=<span style=\"font-weight: bold\">&lt;</span><span style=\"color: #ff00ff; text-decoration-color: #ff00ff; font-weight: bold\">SoftmaxBackward0</span><span style=\"font-weight: bold\">&gt;)</span>\n",
       "</pre>\n"
      ],
      "text/plain": [
       "\u001b[1;35mtensor\u001b[0m\u001b[1m(\u001b[0m\u001b[1m[\u001b[0m\u001b[1m[\u001b[0m\u001b[1m[\u001b[0m\u001b[1;36m0.2430\u001b[0m, \u001b[1;36m0.2351\u001b[0m, \u001b[1;36m0.3002\u001b[0m, \u001b[1;36m0.2217\u001b[0m\u001b[1m]\u001b[0m,\n",
       "\u001b[2;32m│   │    \u001b[0m\u001b[1m[\u001b[0m\u001b[1;36m0.2488\u001b[0m, \u001b[1;36m0.2462\u001b[0m, \u001b[1;36m0.2627\u001b[0m, \u001b[1;36m0.2422\u001b[0m\u001b[1m]\u001b[0m,\n",
       "\u001b[2;32m│   │    \u001b[0m\u001b[1m[\u001b[0m\u001b[1;36m0.2459\u001b[0m, \u001b[1;36m0.2503\u001b[0m, \u001b[1;36m0.2513\u001b[0m, \u001b[1;36m0.2525\u001b[0m\u001b[1m]\u001b[0m,\n",
       "\u001b[2;32m│   │    \u001b[0m\u001b[1m[\u001b[0m\u001b[1;36m0.2518\u001b[0m, \u001b[1;36m0.2510\u001b[0m, \u001b[1;36m0.2456\u001b[0m, \u001b[1;36m0.2516\u001b[0m\u001b[1m]\u001b[0m\u001b[1m]\u001b[0m\u001b[1m]\u001b[0m, \u001b[33mgrad_fn\u001b[0m=\u001b[1m<\u001b[0m\u001b[1;95mSoftmaxBackward0\u001b[0m\u001b[1m>\u001b[0m\u001b[1m)\u001b[0m\n"
      ]
     },
     "metadata": {},
     "output_type": "display_data"
    },
    {
     "data": {
      "text/html": [
       "<pre style=\"white-space:pre;overflow-x:auto;line-height:normal;font-family:Menlo,'DejaVu Sans Mono',consolas,'Courier New',monospace\"><span style=\"color: #800080; text-decoration-color: #800080; font-weight: bold\">tensor</span><span style=\"font-weight: bold\">([[[</span><span style=\"color: #008080; text-decoration-color: #008080; font-weight: bold\">0.2489</span>, <span style=\"color: #008080; text-decoration-color: #008080; font-weight: bold\">0.7998</span><span style=\"font-weight: bold\">]</span>,\n",
       "<span style=\"color: #7fbf7f; text-decoration-color: #7fbf7f\">│   │    </span><span style=\"font-weight: bold\">[</span><span style=\"color: #008080; text-decoration-color: #008080; font-weight: bold\">0.2538</span>, <span style=\"color: #008080; text-decoration-color: #008080; font-weight: bold\">0.7332</span><span style=\"font-weight: bold\">]</span>,\n",
       "<span style=\"color: #7fbf7f; text-decoration-color: #7fbf7f\">│   │    </span><span style=\"font-weight: bold\">[</span><span style=\"color: #008080; text-decoration-color: #008080; font-weight: bold\">0.2511</span>, <span style=\"color: #008080; text-decoration-color: #008080; font-weight: bold\">0.7029</span><span style=\"font-weight: bold\">]</span>,\n",
       "<span style=\"color: #7fbf7f; text-decoration-color: #7fbf7f\">│   │    </span><span style=\"font-weight: bold\">[</span><span style=\"color: #008080; text-decoration-color: #008080; font-weight: bold\">0.2562</span>, <span style=\"color: #008080; text-decoration-color: #008080; font-weight: bold\">0.7031</span><span style=\"font-weight: bold\">]]]</span>, <span style=\"color: #808000; text-decoration-color: #808000\">grad_fn</span>=<span style=\"font-weight: bold\">&lt;</span><span style=\"color: #ff00ff; text-decoration-color: #ff00ff; font-weight: bold\">UnsafeViewBackward0</span><span style=\"font-weight: bold\">&gt;)</span>\n",
       "</pre>\n"
      ],
      "text/plain": [
       "\u001b[1;35mtensor\u001b[0m\u001b[1m(\u001b[0m\u001b[1m[\u001b[0m\u001b[1m[\u001b[0m\u001b[1m[\u001b[0m\u001b[1;36m0.2489\u001b[0m, \u001b[1;36m0.7998\u001b[0m\u001b[1m]\u001b[0m,\n",
       "\u001b[2;32m│   │    \u001b[0m\u001b[1m[\u001b[0m\u001b[1;36m0.2538\u001b[0m, \u001b[1;36m0.7332\u001b[0m\u001b[1m]\u001b[0m,\n",
       "\u001b[2;32m│   │    \u001b[0m\u001b[1m[\u001b[0m\u001b[1;36m0.2511\u001b[0m, \u001b[1;36m0.7029\u001b[0m\u001b[1m]\u001b[0m,\n",
       "\u001b[2;32m│   │    \u001b[0m\u001b[1m[\u001b[0m\u001b[1;36m0.2562\u001b[0m, \u001b[1;36m0.7031\u001b[0m\u001b[1m]\u001b[0m\u001b[1m]\u001b[0m\u001b[1m]\u001b[0m, \u001b[33mgrad_fn\u001b[0m=\u001b[1m<\u001b[0m\u001b[1;95mUnsafeViewBackward0\u001b[0m\u001b[1m>\u001b[0m\u001b[1m)\u001b[0m\n"
      ]
     },
     "metadata": {},
     "output_type": "display_data"
    }
   ],
   "source": [
    "# Calculate the attention scores by dot product of Q and K\n",
    "scores = Q @ K.transpose(-2, -1)\n",
    "pprint(scores)\n",
    "\n",
    "# Normalize the scores with sqrt(d_k)\n",
    "scores = scores / math.sqrt(d_k)\n",
    "pprint(scores)\n",
    "\n",
    "# Apply softmax to get the attention weights\n",
    "weights = F.softmax(scores, dim=-1)\n",
    "pprint(weights)\n",
    "\n",
    "# Multiply weights by V to get the output of the attention head\n",
    "output = weights @ V\n",
    "\n",
    "# Note: If multiple heads are used, you'd need to repeat this process for each head,\n",
    "# concatenate the results, and apply a final linear transformation.\n",
    "pprint(output)"
   ]
  },
  {
   "cell_type": "markdown",
   "metadata": {},
   "source": [
    "Let's break down the steps of the self-attention mechanism:\n",
    "\n",
    "1. **Calculating the attention scores**\n",
    "\n",
    "   `scores = Q @ K.transpose(-2, -1)`\n",
    "\n",
    "   This step calculates the raw attention scores by taking the dot product of the query matrix `Q` and the transpose of the key matrix `K`. The transpose operation switches the last two dimensions of `K`, so that the dot product can be properly calculated. The resulting `scores` matrix represents the unnormalized attention scores, with each element indicating the raw score of the query-key pair.\n",
    "\n",
    "2. **Normalizing the scores**\n",
    "\n",
    "   `scores = scores / math.sqrt(d_k)`\n",
    "\n",
    "   This step scales the scores by dividing by the square root of the dimension of the key vectors `d_k`. This normalization is used to ensure that the dot products don't grow too large as the dimension of the keys increases. This prevents the softmax function, which is applied later, from getting squashed into its extreme, where the gradients are very small.\n",
    "\n",
    "3. **Calculating the attention weights**\n",
    "\n",
    "   `weights = F.softmax(scores, dim=-1)`\n",
    "\n",
    "   The softmax function is applied to the scores to convert them into probabilities. The resulting `weights` matrix is the same shape as the `scores` matrix, but its rows now sum up to 1. Each element in `weights` represents the weight (or probability) of the corresponding query-key pair. The softmax function ensures that the attention weights are positive and sum to 1, thus they can be interpreted as probabilities that the model assigns to each key given the query.\n",
    "\n",
    "4. **Calculating the output**\n",
    "\n",
    "   `output = weights @ V`\n",
    "\n",
    "   The final step is to compute the output of the attention mechanism, which is a weighted sum of the values in `V`, where the weights are given by the attention weights. The result, `output`, has the same batch and sequence dimensions as the original input, but its feature dimension is `d_v` (the dimension of the value vectors), rather than the original input dimension.\n",
    "\n",
    "   The idea here is that for each query, the model calculates a weighted average of all the values, where the weight assigned to each value is determined by the corresponding query-key pair.\n",
    "\n",
    "Note: The code snippet provided only calculates the output for a single attention head. If you were implementing multi-head attention, you'd need to repeat this process for each head, concatenate the resulting output tensors, and then apply a final linear transformation to map the concatenated outputs to the desired output dimension."
   ]
  },
  {
   "cell_type": "markdown",
   "metadata": {},
   "source": [
    "#### Multi Head\n",
    "\n",
    "In multi-head attention, we divide the model's attention into $h$ different \"heads\". Each head learns its own set of parameters, and therefore can potentially learn to focus on different features in the data. The reason we divide the dimensions by the number of heads is to keep the computational cost similar to that of single-head attention, as well as to allow each head to focus on a smaller (and hopefully different) subspace of the data.\n",
    "\n",
    "So in your notation:\n",
    "\n",
    "- $\\mathbf{W}_i^k, \\mathbf{W}_i^q$, and $\\mathbf{W}_i^v$ are the weight matrices for each head in the multi-head attention mechanism. The subscript $i$ denotes the $i$-th head. Each head has its own distinct set of weight matrices.\n",
    "\n",
    "- The dimensions of these weight matrices are smaller compared to the original dimensionality of the model. For instance, if your original model has an embedding dimension $d = 512$ and you have $h = 8$ heads, then each head will have weight matrices of size $d \\times \\frac{d}{h} = 512 \\times \\frac{512}{8} = 512 \\times 64$, if $d_k=d_v=d$.\n",
    "\n",
    "The advantage of this is that each head operates on lower-dimensional data, thereby reducing computational complexity. Moreover, each head learns different features, which enhances the model's power to understand and represent the input data. After each head has processed the data, their outputs are concatenated and transformed to the original dimensionality $d$ using the output weight matrix $\\mathbf{W}^o$.\n",
    "\n",
    "In a nutshell, multi-head attention allows the model to focus on different features in the data at different positions, increasing the expressive power of the model without significantly increasing the computational burden."
   ]
  },
  {
   "cell_type": "markdown",
   "metadata": {},
   "source": [
    "## Dump"
   ]
  },
  {
   "cell_type": "markdown",
   "metadata": {},
   "source": [
    "Let's define some notations first:\n",
    "\n",
    "- $\\mathcal{V}$: Vocabulary set. This is a discrete set of tokens that the model is aware of. The size of this set is $V$.\n",
    "\n",
    "- $\\mathbf{X}$: This is the input sentence or text composed of tokens from the vocabulary set. This is a sequence of length $T$, where each token $x_t$ is an element of the vocabulary set, i.e., $x_t \\in \\mathcal{V}$ for all $t$.\n",
    "\n",
    "- $\\mathbf{W}_{emb}$: This is the embedding weight matrix. Each row of this matrix corresponds to the embedding of a token in the vocabulary set. Hence, this matrix is of size $V \\times D$, where $D$ is the dimension of the embedding space.\n",
    "\n",
    "Now, let's define the word/token embedding process:\n",
    "\n",
    "Given an input sequence $\\mathbf{X} = \\{x_1, x_2, ..., x_T\\}$, the goal is to transform each token $x_t$ into a dense vector that represents it in a continuous space.\n",
    "\n",
    "To achieve this, we use an embedding matrix $\\mathbf{W}_{emb}$. The embedding of a token $x_t$ is found by indexing the corresponding row of $\\mathbf{W}_{emb}$. The index is determined by the token's position in the vocabulary $\\mathcal{V}$. Mathematically, this can be written as:\n",
    "\n",
    "$$\n",
    "\\mathbf{e}_t = \\mathbf{W}_{emb}[x_t], \\quad \\text{for } t = 1, 2, ..., T\n",
    "$$\n",
    "\n",
    "where $\\mathbf{e}_t \\in \\mathbb{R}^D$ is the embedding vector for the token $x_t$. Note that in this context, we treat $x_t$ as an index, i.e., it is the position of the token $x_t$ in the vocabulary set $\\mathcal{V}$.\n",
    "\n",
    "Therefore, an input sequence $\\mathbf{X}$ is transformed into a sequence of embedding vectors $\\mathbf{E} = \\{\\mathbf{e}_1, \\mathbf{e}_2, ..., \\mathbf{e}_T\\}$, where each $\\mathbf{e}_t$ is a $D$-dimensional vector. Hence, $\\mathbf{E}$ is a matrix of size $T \\times D$. \n",
    "\n",
    "In implementation, this operation is usually performed as a matrix multiplication with one-hot-encoded vectors for the tokens, but in practice, a lookup operation is performed for efficiency."
   ]
  },
  {
   "cell_type": "markdown",
   "metadata": {},
   "source": [
    "---"
   ]
  },
  {
   "cell_type": "markdown",
   "metadata": {},
   "source": [
    "In the case of natural language processing tasks, each input sample (a sentence\n",
    "or a sequence of tokens) usually doesn't have a fixed length because sentences\n",
    "can be of various lengths. So, it's more common to denote the input as a\n",
    "sequence or a set rather than a fixed-dimension matrix. However, for simplicity,\n",
    "we often pad or truncate sentences to a maximum length, so that we can stack\n",
    "them into a 2D matrix for batch processing.\n",
    "\n",
    "Now, let's revisit the notations and make them more concrete:\n",
    "\n",
    "- $\\mathcal{V}$: Vocabulary set. This is a discrete set of tokens that the\n",
    "    model is aware of. The size of this set is $V$.\n",
    "\n",
    "- $\\mathbf{x}^{(n)}$: The $n$-th input sentence in the training set, composed\n",
    "    of tokens from the vocabulary set. It is a sequence of length $T_n$, where\n",
    "    each token $x_t^{(n)}$ is an element of the vocabulary set, i.e.,\n",
    "    $x_t^{(n)} \\in \\mathcal{V}$ for all $t$. If we have padded or truncated all\n",
    "    sentences to a maximum length $T$, then we can say\n",
    "    $\\mathbf{x}^{(n)} \\in \\mathbb{R}^T$.\n",
    "\n",
    "  - For example, the sentence \"hello human\" can be represented as\n",
    "        $\\mathbf{x}^{(n)} = \\{x_1^{(n)} = \\text{\"hello\"}, x_2^{(n)} = \\text{\"human\"}\\}$,\n",
    "        where $\\mathcal{V} = \\{\\text{\"hello\"}, \\text{\"human\"}\\}$.\n",
    "  - $T_n = 2$ in this case.\n",
    "\n",
    "- $\\mathbf{X}$: The entire training set, composed of $N$ input sentences\n",
    "    $\\{\\mathbf{x}^{(1)}, \\mathbf{x}^{(2)}, ..., \\mathbf{x}^{(N)}\\}$. If we have\n",
    "    padded or truncated all sentences to a maximum length $T$, then we can say\n",
    "    $\\mathbf{X} \\in \\mathbb{R}^{N \\times T}$.\n",
    "\n",
    "    However, we need to one-hot encode our inputs, something not many talks about.\n",
    "    Let's see.\n",
    "\n",
    "- $\\mathbf{X} \\in \\mathbb{R}^{N \\times T \\times V}$: This is a 3D tensor representing the one-hot encoded representation of all sentences in the entire training set. For each sentence $n$, $\\mathbf{X}^{(n)}$ represents the sequence of one-hot encoded tokens, and each row of $\\mathbf{X}^{(n)}$ corresponds to the one-hot encoding of a token in the $n$-th sentence.\n",
    "\n",
    "- $\\mathbf{W}_{emb}$: This is the embedding weight matrix. Each row of this\n",
    "    matrix corresponds to the embedding of a token in the vocabulary set. Hence,\n",
    "    this matrix is of size $V \\times D$, where $D$ is the dimension of the\n",
    "    embedding space.\n",
    "\n",
    "- $\\mathbf{E} \\in \\mathbb{R}^{N \\times T \\times D}$: This is a 3D tensor representing the embeddings of all sentences in the entire training set. For each sentence $n$, $\\mathbf{E}^{(n)}$ represents the sequence of embedded tokens, and each row of $\\mathbf{E}^{(n)}$ corresponds to the embedding of a token in the $n$-th sentence.\n",
    "\n",
    "The embedding process is then:\n",
    "\n",
    "Given an input sentence\n",
    "$\\mathbf{x}^{(n)} = \\{x_1^{(n)}, x_2^{(n)}, ..., x_{T_n}^{(n)}\\}$, the goal is\n",
    "to transform each token $x_t$ into a dense vector that represents it in a\n",
    "continuous space.\n",
    "\n",
    "To achieve this, we use an embedding matrix $\\mathbf{W}_{emb}$. The embedding of\n",
    "a token $x_t^{(n)}$ is found by using $x_t^{(n)}$ as an index to select the\n",
    "corresponding row of $\\mathbf{W}_{emb}$. The index is determined by the token's\n",
    "position in the vocabulary $\\mathcal{V}$. Mathematically, this can be written\n",
    "as:\n",
    "\n",
    "The embedding of each token $x_t^{(n)}$ is:\n",
    "\n",
    "$$\n",
    "\\mathbf{e}_t^{(n)} = \\mathbf{W}_{emb}[x_t^{(n)}], \\quad \\text{for } t = 1, 2, ..., T_n\n",
    "$$\n",
    "\n",
    "where $\\mathbf{e}_t \\in \\mathbb{R}^D$ is the embedding vector for the token\n",
    "$x_t^{(n)}$. Note that in this context, we treat $x_t^{(n)}$ as an index, i.e.,\n",
    "it is the position of the token $x_t^{(n)}$ in the vocabulary set $\\mathcal{V}$.\n",
    "\n",
    "Therefore, an input sentence $\\mathbf{x}^{(n)}$ is transformed into a sequence\n",
    "of embedding vectors\n",
    "$\\mathbf{E}^{(n)} = \\{\\mathbf{e}_1^{(n)}, \\mathbf{e}_2^{(n)}, ..., \\mathbf{e}_{T_n}^{(n)}\\}$,\n",
    "where each $\\mathbf{e}_t^{(n)}$ is a $D$-dimensional vector obtained by using\n",
    "$x_t^{(n)}$ as an index to select the corresponding row of $\\mathbf{W}_{emb}$.\n",
    "If we have padded or truncated all sentences to a maximum length $T$, then we\n",
    "can say $\\mathbf{E}^{(n)} \\in \\mathbb{R}^{T \\times D}$."
   ]
  },
  {
   "cell_type": "markdown",
   "metadata": {},
   "source": [
    "### Position Encodings"
   ]
  },
  {
   "cell_type": "markdown",
   "metadata": {},
   "source": [
    "$\\mathbf{P}_{emb}$"
   ]
  },
  {
   "cell_type": "markdown",
   "metadata": {},
   "source": [
    "Continuing from your last point, we now introduce the concept of positional embeddings. In models such as the Transformer, which do not have a built-in sense of word order or position, we often add positional information in the form of additional embeddings. This allows the model to learn and make use of positional relationships between words in a sentence.\n",
    "\n",
    "First, let's define the notation for positional embeddings:\n",
    "\n",
    "- $\\mathbf{W}_{pos}$: This is the positional embedding matrix. Each row of this matrix corresponds to the embedding of a position in a sequence. This matrix is usually of size $T \\times D$, where $T$ is the maximum length of a sequence we allow in the model, and $D$ is the dimension of the embedding space.\n",
    "\n",
    "The process to encode position into the embeddings is:\n",
    "\n",
    "Given an input sequence $\\mathbf{x}^{(n)} = \\{x_1^{(n)}, x_2^{(n)}, ..., x_{T_n}^{(n)}\\}$, we wish to add positional information to each token's embedding. \n",
    "\n",
    "For each position $t$ in the sequence, we select the $t$-th row from the positional embedding matrix $\\mathbf{W}_{pos}$ as the positional embedding. Mathematically, this can be written as:\n",
    "\n",
    "The positional embedding for the $t$-th position is:\n",
    "\n",
    "$$\n",
    "\\mathbf{p}_t = \\mathbf{W}_{pos}[t], \\quad \\text{for } t = 1, 2, ..., T_n\n",
    "$$\n",
    "\n",
    "where $\\mathbf{p}_t \\in \\mathbb{R}^D$ is the positional embedding vector for the $t$-th position.\n",
    "\n",
    "Then, the final embedding for each token in the sequence is obtained by adding the token's embedding vector $\\mathbf{e}_t^{(n)}$ to its positional embedding vector $\\mathbf{p}_t$. This can be written as:\n",
    "\n",
    "$$\n",
    "\\mathbf{e}'_t^{(n)} = \\mathbf{e}_t^{(n)} + \\mathbf{p}_t, \\quad \\text{for } t = 1, 2, ..., T_n\n",
    "$$\n",
    "\n",
    "where $\\mathbf{e}'_t^{(n)} \\in \\mathbb{R}^D$ is the final embedding vector for the $t$-th token in the $n$-th sequence, incorporating both the token's identity and its position.\n",
    "\n",
    "Therefore, an input sequence $\\mathbf{x}^{(n)}$ is transformed into a sequence of embedding vectors with positional information $\\mathbf{E}'^{(n)} = \\{\\mathbf{e}'_1^{(n)}, \\mathbf{e}'_2^{(n)}, ..., \\mathbf{e}'_{T_n}^{(n)}\\}$, where each $\\mathbf{e}'_t^{(n)}$ is a $D$-dimensional vector. If we have padded or truncated all sequences to a maximum length $T$, then we can say $\\mathbf{E}'^{(n)} \\in \\mathbb{R}^{T \\times D}$."
   ]
  }
 ],
 "metadata": {
  "kernelspec": {
   "display_name": "galaxy",
   "language": "python",
   "name": "python3"
  },
  "language_info": {
   "codemirror_mode": {
    "name": "ipython",
    "version": 3
   },
   "file_extension": ".py",
   "mimetype": "text/x-python",
   "name": "python",
   "nbconvert_exporter": "python",
   "pygments_lexer": "ipython3",
   "version": "3.9.16"
  },
  "orig_nbformat": 4
 },
 "nbformat": 4,
 "nbformat_minor": 2
}
